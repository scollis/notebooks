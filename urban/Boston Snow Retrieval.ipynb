{
 "cells": [
  {
   "cell_type": "markdown",
   "id": "2d6dd7c9",
   "metadata": {},
   "source": [
    "## Retrieving snowfall rates from WSR-88D using simple relations"
   ]
  },
  {
   "cell_type": "markdown",
   "id": "dc7fcfee",
   "metadata": {},
   "source": [
    "First a little background. Weather radar measures equivalent reflectivity factor, $Z_e$ which is the 6th moment of te PDF of drop sizes ($\\int{nD^6dD}$). Marshall and Palmer related $Z_e$ to rainfall rate back in 1948 [1] and Marshall and Gunn created the first snowfall reflectivity relation in 1956 [2]. The paper by Bukovčić et al [3] provides a very nice overview of snowfall reflectivity relations and is the main source for this notebook. **It should be noted that S-Z relations relate to the Snow Water Equivalent (SWE)** and not the snow accumulation rate in inches. SWE is the amount of liquid (in mm) if you melted snow down. For example, if we had 10mm of snow and the SWE ration was 10:1 we would melt it down to 1mm of water. This notebook explores those relations and retrieves snowrate from the recent Boston Blizzard. \n",
    "\n",
    "[1] https://journals.ametsoc.org/view/journals/atsc/5/4/1520-0469_1948_005_0165_tdorws_2_0_co_2.xml\n",
    "[2] https://journals.ametsoc.org/view/journals/apme/57/1/jamc-d-17-0090.1.xml\n",
    "[3] https://journals.ametsoc.org/view/journals/apme/57/1/jamc-d-17-0090.1.xml"
   ]
  },
  {
   "cell_type": "code",
   "execution_count": 1,
   "id": "a9fcf809",
   "metadata": {},
   "outputs": [
    {
     "name": "stdout",
     "output_type": "stream",
     "text": [
      "\n",
      "## You are using the Python ARM Radar Toolkit (Py-ART), an open source\n",
      "## library for working with weather radar data. Py-ART is partly\n",
      "## supported by the U.S. Department of Energy as part of the Atmospheric\n",
      "## Radiation Measurement (ARM) Climate Research Facility, an Office of\n",
      "## Science user facility.\n",
      "##\n",
      "## If you use this software to prepare a publication, please cite:\n",
      "##\n",
      "##     JJ Helmus and SM Collis, JORS 2016, doi: 10.5334/jors.119\n",
      "\n"
     ]
    }
   ],
   "source": [
    "# First lets get set up!\n",
    "from os import path\n",
    "import nexradaws\n",
    "import time\n",
    "import tempfile\n",
    "import os\n",
    "import shutil\n",
    "import pyart\n",
    "from datetime import datetime, timedelta\n",
    "from matplotlib import pyplot as plt\n",
    "\n",
    "import cartopy.crs as ccrs\n",
    "import cartopy.feature as cfeature\n",
    "\n",
    "from cartopy.feature import NaturalEarthFeature\n",
    "import matplotlib.colors as colors\n",
    "\n",
    "\n",
    "import numpy as np\n",
    "\n",
    "import pytz\n",
    "from copy import deepcopy\n",
    "\n",
    "from math import atan2 as atan2\n",
    "import warnings\n",
    "\n",
    "%matplotlib inline\n",
    "\n",
    "#Scale bar code. Because I like scale bars\n",
    "#This code courtesy and gratefully received from Tim Lang @tjlang on twitter\n",
    "\n",
    "def gc_latlon_bear_dist(lat1, lon1, bear, dist):\n",
    "    \"\"\"\n",
    "    Input lat1/lon1 as decimal degrees, as well as bearing and distance from\n",
    "    the coordinate. Returns lat2/lon2 of final destination. Cannot be\n",
    "    vectorized due to atan2.\n",
    "    \"\"\"\n",
    "    re = 6371.1  # km\n",
    "    lat1r = np.deg2rad(lat1)\n",
    "    lon1r = np.deg2rad(lon1)\n",
    "    bearr = np.deg2rad(bear)\n",
    "    lat2r = np.arcsin((np.sin(lat1r) * np.cos(dist/re)) +\n",
    "                      (np.cos(lat1r) * np.sin(dist/re) * np.cos(bearr)))\n",
    "    lon2r = lon1r + atan2(np.sin(bearr) * np.sin(dist/re) *\n",
    "                          np.cos(lat1r), np.cos(dist/re) - np.sin(lat1r) *\n",
    "                          np.sin(lat2r))\n",
    "    return np.rad2deg(lat2r), np.rad2deg(lon2r)\n",
    " \n",
    " \n",
    " \n",
    "def add_scale_line(scale, ax, projection, color='k',\n",
    "                  linewidth=None, fontsize=None, fontweight=None):\n",
    "    \"\"\"\n",
    "    Adds a line that shows the map scale in km. The line will automatically\n",
    "    scale based on zoom level of the map. Works with cartopy.\n",
    " \n",
    "    Parameters\n",
    "    ----------\n",
    "    scale : scalar\n",
    "        Length of line to draw, in km.\n",
    "    ax : matplotlib.pyplot.Axes instance\n",
    "        Axes instance to draw line on. It is assumed that this was created\n",
    "        with a map projection.\n",
    "    projection : cartopy.crs projection\n",
    "        Cartopy projection being used in the plot.\n",
    " \n",
    "    Other Parameters\n",
    "    ----------------\n",
    "    color : str\n",
    "        Color of line and text to draw. Default is black.\n",
    "    \"\"\"\n",
    "    frac_lat = 0.1  # distance fraction from bottom of plot\n",
    "    frac_lon = 0.5  # distance fraction from left of plot\n",
    "    e1 = ax.get_extent()\n",
    "    center_lon = e1[0] + frac_lon * (e1[1] - e1[0])\n",
    "    center_lat = e1[2] + frac_lat * (e1[3] - e1[2])\n",
    "    # Main line\n",
    "    lat1, lon1 = gc_latlon_bear_dist(\n",
    "        center_lat, center_lon, -90, scale / 2.0)  # left point\n",
    "    lat2, lon2 = gc_latlon_bear_dist(\n",
    "        center_lat, center_lon, 90, scale / 2.0)  # right point\n",
    "    if lon1 <= e1[0] or lon2 >= e1[1]:\n",
    "        warnings.warn('Scale line longer than extent of plot! ' +\n",
    "                      'Try shortening for best effect.')\n",
    "    ax.plot([lon1, lon2], [lat1, lat2], linestyle='-',\n",
    "            color=color, transform=projection, \n",
    "            linewidth=linewidth)\n",
    "    # Draw a vertical hash on the left edge\n",
    "    lat1a, lon1a = gc_latlon_bear_dist(\n",
    "        lat1, lon1, 180, frac_lon * scale / 20.0)  # bottom left hash\n",
    "    lat1b, lon1b = gc_latlon_bear_dist(\n",
    "        lat1, lon1, 0, frac_lon * scale / 20.0)  # top left hash\n",
    "    ax.plot([lon1a, lon1b], [lat1a, lat1b], linestyle='-',\n",
    "            color=color, transform=projection, linewidth=linewidth)\n",
    "    # Draw a vertical hash on the right edge\n",
    "    lat2a, lon2a = gc_latlon_bear_dist(\n",
    "        lat2, lon2, 180, frac_lon * scale / 20.0)  # bottom right hash\n",
    "    lat2b, lon2b = gc_latlon_bear_dist(\n",
    "        lat2, lon2, 0, frac_lon * scale / 20.0)  # top right hash\n",
    "    ax.plot([lon2a, lon2b], [lat2a, lat2b], linestyle='-',\n",
    "            color=color, transform=projection, linewidth=linewidth)\n",
    "    # Draw scale label\n",
    "    ax.text(center_lon, center_lat - frac_lat * (e1[3] - e1[2]) / 4.0,\n",
    "            str(int(scale)) + ' km', horizontalalignment='center',\n",
    "            verticalalignment='center', color=color, fontweight=fontweight,\n",
    "            fontsize=fontsize)\n",
    " "
   ]
  },
  {
   "cell_type": "markdown",
   "id": "74dbf1aa",
   "metadata": {},
   "source": [
    "First lets just get a feel for Z Snow relations"
   ]
  },
  {
   "cell_type": "code",
   "execution_count": 2,
   "id": "f3f48cf8",
   "metadata": {},
   "outputs": [],
   "source": [
    "#Create an array of reflectivity factors in dBZ from 10 to 60 dBZ\n",
    "zf = np.linspace(10,60., 100)\n",
    "\n",
    "#Convert to linear reflectivity ALWAYS DO THIS\n",
    "z_lin = 10.0**(zf/10.)\n",
    "\n",
    "#Lets look at three relations from [3]\n",
    "snow_z = (z_lin/110.)**(1./2.)  #a=200 b 2\n",
    "snow_midwest = (z_lin/180.)**(1./2.)  #a=200 b 2\n",
    "snow_szyrmer = (z_lin/494.)**(1./1.44)  #a=200 b 2\n",
    "\n"
   ]
  },
  {
   "cell_type": "markdown",
   "id": "616ffcd2",
   "metadata": {},
   "source": [
    "Now lets plot them.. First, errors are worse the stronger the radar signal! Second, one might think \"boy you need a real high Z for a certain snow rate!\" Remember this is for SWE.. "
   ]
  },
  {
   "cell_type": "code",
   "execution_count": 3,
   "id": "4741d002",
   "metadata": {},
   "outputs": [
    {
     "data": {
      "text/plain": [
       "<matplotlib.legend.Legend at 0x7fd3783459a0>"
      ]
     },
     "execution_count": 3,
     "metadata": {},
     "output_type": "execute_result"
    },
    {
     "data": {
      "image/png": "[encoded data removed]",
      "text/plain": [
       "<Figure size 720x504 with 1 Axes>"
      ]
     },
     "metadata": {
      "needs_background": "light"
     },
     "output_type": "display_data"
    }
   ],
   "source": [
    "#25.4 for mm to inches.. folks in the USA like inches.\n",
    "\n",
    "ff=plt.figure(figsize=[10,7])\n",
    "plt.plot(zf, snow_z/25.4, label='Wolfe and Snyder 2012')\n",
    "plt.plot(zf, snow_midwest/25.4, label='WSR-88D Northeast')\n",
    "plt.plot(zf, snow_szyrmer/25.4, label='Szyrmer and Zawadzki 2010')\n",
    "plt.xlabel('Radar Eq. Reflectivity Factor (dBZ)')\n",
    "plt.ylabel('Snowfall Rate (in/hr)')\n",
    "plt.legend()"
   ]
  },
  {
   "cell_type": "markdown",
   "id": "2fcb91c5",
   "metadata": {},
   "source": [
    "Thank you to Dr Randy Chase (@DopplerChase on twitter and Postdoc at AI2ES at OU) for point out the SWE.. Lets assume a ratio of 8.5 mm to 1mm snow depth to water:"
   ]
  },
  {
   "cell_type": "code",
   "execution_count": 4,
   "id": "74797e1a",
   "metadata": {},
   "outputs": [
    {
     "data": {
      "text/plain": [
       "<matplotlib.legend.Legend at 0x7fd35a9f4910>"
      ]
     },
     "execution_count": 4,
     "metadata": {},
     "output_type": "execute_result"
    },
    {
     "data": {
      "image/png": "[encoded data removed]",
      "text/plain": [
       "<Figure size 720x504 with 1 Axes>"
      ]
     },
     "metadata": {
      "needs_background": "light"
     },
     "output_type": "display_data"
    }
   ],
   "source": [
    "#25.4 for mm to inches.. folks in the USA like inches.\n",
    "SWE_R = 8.5\n",
    "ff=plt.figure(figsize=[10,7])\n",
    "plt.plot(zf, SWE_R * snow_z/25.4, label='Wolfe and Snyder 2012')\n",
    "plt.plot(zf, SWE_R * snow_midwest/25.4, label='WSR-88D Northeast')\n",
    "plt.plot(zf, SWE_R * snow_szyrmer/25.4, label='Szyrmer and Zawadzki 2010')\n",
    "plt.xlabel('Radar Eq. Reflectivity Factor (dBZ)')\n",
    "plt.ylabel('Snowfall Rate (in/hr)')\n",
    "plt.ylim([0,4])\n",
    "plt.xlim([10,45])\n",
    "plt.legend()"
   ]
  },
  {
   "cell_type": "markdown",
   "id": "55abda9e",
   "metadata": {},
   "source": [
    "Ok.. This comports with what us weather geeks know from radar gazing.. 35dBZ = Puking down. \n",
    "\n",
    "Now.. DATA!\n",
    "\n",
    "Here is some code I wrote long ago that needs refining and at least documenting"
   ]
  },
  {
   "cell_type": "code",
   "execution_count": 5,
   "id": "b83421e3",
   "metadata": {},
   "outputs": [],
   "source": [
    "#https://stackoverflow.com/questions/32237862/find-the-closest-date-to-a-given-date/32237949\n",
    "def nearest(items, pivot):\n",
    "    return min(items, key=lambda x: abs(x - pivot))\n",
    "\n",
    "\n",
    "# This is a VERY LAZY function. \n",
    "#No testing and if it gets a file Py-ART can not read it will fail, ungracefully\n",
    "\n",
    "#Function to pull a radar file from AWS\n",
    "\n",
    "def get_my_radar(connex, site, this_datetime):\n",
    "    tlocation = tempfile.mkdtemp()\n",
    "    these_scans = connex.get_avail_scans(this_datetime.year,this_datetime.month, this_datetime.day, site)\n",
    "    these_times = [scan.scan_time for scan in these_scans]\n",
    "    targ = this_datetime\n",
    "    \n",
    "    #Need to clean\n",
    "    these_good_scans = []\n",
    "    these_good_times = []\n",
    "    for i in range(len(these_scans)):\n",
    "        if these_times[i] is not None:\n",
    "            these_good_times.append(these_times[i])\n",
    "            these_good_scans.append(these_scans[i])\n",
    "    \n",
    "    print(len(these_good_scans), len(these_good_times))\n",
    "\n",
    "    this_nearest_time = nearest(these_good_times, targ)\n",
    "    this_index = these_good_times.index(this_nearest_time)\n",
    "    lcn = tlocation\n",
    "    localfiles = conn.download(these_good_scans[this_index],lcn)\n",
    "    return pyart.io.read(localfiles.success[0].filepath)"
   ]
  },
  {
   "cell_type": "markdown",
   "id": "12fa13b0",
   "metadata": {},
   "source": [
    "Connect to the CLOUD! :) FYI nexradaws is pip installable from anaconds"
   ]
  },
  {
   "cell_type": "code",
   "execution_count": 6,
   "id": "e2b2a1ea",
   "metadata": {},
   "outputs": [],
   "source": [
    "conn = nexradaws.NexradAwsInterface()"
   ]
  },
  {
   "cell_type": "code",
   "execution_count": 7,
   "id": "9e6f5170",
   "metadata": {},
   "outputs": [],
   "source": [
    "#Lets just repeat this here:\n",
    "SWE_ratio=8.5"
   ]
  },
  {
   "cell_type": "code",
   "execution_count": 8,
   "id": "d107fad3",
   "metadata": {},
   "outputs": [],
   "source": [
    "#Create a date time object for the height of the blizzard!\n",
    "#It needs to be time zone aware\n",
    "snow_time = datetime(2022, 1, 29, 19, 55, 0).replace(tzinfo=pytz.UTC) \n",
    "\n",
    "#If you want the latest use: datetime.utcnow()"
   ]
  },
  {
   "cell_type": "code",
   "execution_count": null,
   "id": "7056c6d0",
   "metadata": {},
   "outputs": [
    {
     "name": "stdout",
     "output_type": "stream",
     "text": [
      "256 256\n",
      "Downloaded KBOX20220129_195421_V06\n",
      "1 out of 1 files downloaded...0 errors\n"
     ]
    }
   ],
   "source": [
    "#And like magic, grab the radar file from the Boston WSR-88D\n",
    "radar_site = 'KBOX'\n",
    "radar = get_my_radar(conn, radar_site, snow_time)"
   ]
  },
  {
   "cell_type": "markdown",
   "id": "53b4f5fd",
   "metadata": {},
   "source": [
    "Now, the magic of Py-ART is simple moment based arethmetic is easy and once you add a field all other functions work magically!"
   ]
  },
  {
   "cell_type": "code",
   "execution_count": null,
   "id": "ff9a8a72",
   "metadata": {},
   "outputs": [],
   "source": [
    "#Grab a COPY of the reflectivty data from the radar file. \n",
    "snow_z = radar.fields['reflectivity']['data'].copy()\n",
    "\n",
    "#Convert it from dB to linear units ALWAYS DO THIS!\n",
    "z_lin = 10.0**(radar.fields['reflectivity']['data']/10.)\n",
    "    \n",
    "#Apply the Z-S relation, in this case the WSR-88D Northeast relation\n",
    "snow_z = SWE_ratio * (z_lin/120.)**(1./2.)  #a=120 b 2\n",
    "\n",
    "#Add the field back to the radar. Use reflectivity as a template\n",
    "radar.add_field_like('reflectivity', 'snow_z',  snow_z, replace_existing = True)\n",
    "\n",
    "#Update units and metadata\n",
    "radar.fields['snow_z']['units'] = 'mm/h'\n",
    "radar.fields['snow_z']['standard_name'] = 'snowfall_rate'\n",
    "radar.fields['snow_z']['long_name'] = 'snowfall_rate_from_z'\n",
    "radar.fields['snow_z']['valid_min'] = 0\n",
    "radar.fields['snow_z']['valid_max'] = 500\n",
    "\n"
   ]
  },
  {
   "cell_type": "markdown",
   "id": "595de4fc",
   "metadata": {},
   "source": [
    "Cool Beans! Now we have a WSR-88D volume with snow rates. Lets use Py-ART to make a plot using Matplotlib and Cartopy.\n",
    "\n",
    "Lets roll this onto a nifty function"
   ]
  },
  {
   "cell_type": "code",
   "execution_count": null,
   "id": "dab2f2b6",
   "metadata": {},
   "outputs": [],
   "source": [
    "def do_my_plot(iradar, smax=45, app='', outdir=None):\n",
    "    \n",
    "    #Use this line if you want a log colormap\n",
    "    norm = None #colors.LogNorm(vmin=0.1, vmax=15)\n",
    "    \n",
    "    #Where you want the map centered\n",
    "    centerlat = 42.0\n",
    "    centerlon = -70.5\n",
    "    \n",
    "    #delta lat lon degrees\n",
    "    window = 2\n",
    "    locbox = [centerlon - window, centerlon + window, centerlat - window, centerlat + window]\n",
    "    \n",
    "    #Set up the figure\n",
    "    myf = plt.figure(figsize=[10,10])\n",
    "    \n",
    "    #We are going FULL CUSTOM.. This sets up the map panel\n",
    "    map_panel_axes = [0.05, 0.05, .8, .8]\n",
    "    \n",
    "    #Add the map axes. Wse the Platte Carree projection. \n",
    "    ax = myf.add_axes(map_panel_axes, projection=ccrs.PlateCarree())\n",
    "\n",
    "    #Create a radar display.. this makes Py-ART do a bunch of calcs for radar -> Cartesian coords\n",
    "    myd = pyart.graph.RadarMapDisplay(iradar)\n",
    "    \n",
    "    #Plot a PPI, lowest tilt. Use the Homeyer CVD friendly colormap. Range between zere and smax mm/hr\n",
    "    #Skip the bells and whistles, we will roll our own (embelish)\n",
    "    myd.plot_ppi_map('snow_z', 0, vmin=0, vmax=smax, ax=ax, embelish=False, colorbar_flag=False,\n",
    "                    cmap=pyart.graph.cm_colorblind.HomeyerRainbow,\n",
    "                    norm=norm)\n",
    "\n",
    "    #Throw on some gridlines\n",
    "    gl = ax.gridlines(draw_labels=True,\n",
    "                      linewidth=2, color='gray', alpha=0.5, linestyle='--')\n",
    "    gl.ylabels_right = False\n",
    "\n",
    "    #Grab a high res coast\n",
    "    coast = NaturalEarthFeature(category='physical', scale='10m',\n",
    "                                edgecolor='black', name='coastline')\n",
    "\n",
    "    #add the coast and state boundaries\n",
    "    ax.add_feature(cfeature.STATES, facecolor='none', edgecolor='black')\n",
    "    ax.add_feature(coast, facecolor='none', edgecolor='black')\n",
    "    \n",
    "    #Zoom the plot\n",
    "    plt.xlim(locbox[0], locbox[1])\n",
    "    plt.ylim(locbox[2], locbox[3])\n",
    "\n",
    "    #Add a scale bar, code at the top of the notebook. Thanks Dr Tim Lang from NASA Marshall\n",
    "    add_scale_line(100.0, ax, projection=ccrs.PlateCarree(), \n",
    "                   color='black', linewidth=3,\n",
    "                  fontsize=20,\n",
    "                  fontweight='bold')\n",
    "\n",
    "    #Throw on a colorbar\n",
    "    cbar = plt.colorbar(mappable=myd.plots[0], fraction=.1, shrink=.8)\n",
    "    pos = cbar.ax.get_position()\n",
    "    cbar.ax.set_aspect('auto')\n",
    "    \n",
    "    #Ok! Folks from the USA like inches.. So make a twin axis for the colorbar and scale to inches\n",
    "    cax2 = cbar.ax.twinx()\n",
    "    cax2.set_ylim([0,smax/25.4])\n",
    "    pos.x0 +=0.05\n",
    "    cbar.ax.set_position(pos)\n",
    "    cax2.set_position(pos)\n",
    "\n",
    "    #Add the text plus any appended text using app keyword.\n",
    "    cax2.text(2.3,(smax/25.4)/2. -.5,'NEXRAD inst. Snow Rate (in/h) ' + app,rotation=90)\n",
    "    cax2.text(-1.8,(smax/25.4)/2. -.5,'NEXRAD inst. Snow Rate (mm/h) ' + app,rotation=90)\n",
    "    \n",
    "    #This deals with filename formatting\n",
    "    ff = time.strptime(iradar.time['units'][14:], '%Y-%m-%dT%H:%M:%SZ')\n",
    "    strform = time.strftime('%Y%m%d-%H%M%S',ff)\n",
    "    print(strform)\n",
    "    if outdir is None:\n",
    "        base_file = path.expanduser('~') + '/' + strform #dumps in your home dir\n",
    "    else:\n",
    "        base_file = outdir + strform\n",
    "    \n",
    "    #Save away! Oh and gets rid of transparency.. Tranparency makes animated gifs look odd\n",
    "    plt.savefig(base_file+'snow.png', facecolor='white', transparent=False)\n"
   ]
  },
  {
   "cell_type": "markdown",
   "id": "e2c64260",
   "metadata": {},
   "source": [
    "Phew! That was a lot.. but its done now.. Lets take it for a spin!"
   ]
  },
  {
   "cell_type": "code",
   "execution_count": null,
   "id": "0d532f31",
   "metadata": {},
   "outputs": [],
   "source": [
    "do_my_plot(radar, smax = 60.0, app='SWE ratio: 8.5 Z=120$S^2$')"
   ]
  },
  {
   "cell_type": "code",
   "execution_count": null,
   "id": "be4f2f9b",
   "metadata": {},
   "outputs": [],
   "source": []
  }
 ],
 "metadata": {
  "kernelspec": {
   "display_name": "Python 3 (ipykernel)",
   "language": "python",
   "name": "python3"
  },
  "language_info": {
   "codemirror_mode": {
    "name": "ipython",
    "version": 3
   },
   "file_extension": ".py",
   "mimetype": "text/x-python",
   "name": "python",
   "nbconvert_exporter": "python",
   "pygments_lexer": "ipython3",
   "version": "3.8.5"
  }
 },
 "nbformat": 4,
 "nbformat_minor": 5
}
