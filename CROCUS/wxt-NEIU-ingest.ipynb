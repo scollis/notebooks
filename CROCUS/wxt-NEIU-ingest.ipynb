{
 "cells": [
  {
   "cell_type": "code",
   "execution_count": 1,
   "id": "812b7cfd",
   "metadata": {},
   "outputs": [],
   "source": [
    "import sage_data_client\n",
    "import matplotlib.pyplot as plt\n",
    "import pandas as pd\n",
    "from metpy.calc import dewpoint_from_relative_humidity, wet_bulb_temperature\n",
    "from metpy.units import units\n",
    "from PIL import Image\n",
    "import numpy as np\n",
    "import datetime\n",
    "import xarray as xr\n",
    "import os\n",
    "\n",
    "from matplotlib.dates import DateFormatter"
   ]
  },
  {
   "cell_type": "code",
   "execution_count": 2,
   "id": "34febc8e",
   "metadata": {},
   "outputs": [],
   "source": [
    "wxt_global_NEIU = {'conventions': \"CF 1.10\",\n",
    "                   'site_ID' : \"NEIU\",\n",
    "                  'CAMS_tag' : \"CMS-WXT-002\",\n",
    "                  'datastream' : \"CMS_wxt536_NEIU_a1\",\n",
    "                  'datalevel' : \"a1\",\n",
    "                  'latitude' : 41.9804526,\n",
    "                  'longitude' : -87.7196038}\n",
    "\n",
    "var_attrs_wxt = {'temperature': {'standard_name' : 'air_temperature',\n",
    "                       'units' : 'celsius'},\n",
    "                'humidity': {'standard_name' : 'relative_humidity',\n",
    "                       'units' : 'percent'},\n",
    "                'dewpoint': {'standard_name' : 'dew_point_temperature',\n",
    "                       'units' : 'celsius'},\n",
    "                'pressure': {'standard_name' : 'air_pressure',\n",
    "                       'units' : 'hPa'},\n",
    "                'wind_mean_10s': {'standard_name' : 'wind_speed',\n",
    "                       'units' : 'celsius'},\n",
    "                'wind_max_10s': {'standard_name' : 'wind_speed',\n",
    "                       'units' : 'celsius'},\n",
    "                'wind_dir_10s': {'standard_name' : 'wind_from_direction',\n",
    "                       'units' : 'degrees'},\n",
    "                'rainfall': {'standard_name' : 'precipitation_amount',\n",
    "                       'units' : 'kg m-2'}}"
   ]
  },
  {
   "cell_type": "code",
   "execution_count": 3,
   "id": "baadc2e0",
   "metadata": {},
   "outputs": [],
   "source": [
    "def ingest_wxt(st, global_attrs, var_attrs):\n",
    "    hours = 24\n",
    "    start = st.strftime('%Y-%m-%dT%H:%M:%SZ')\n",
    "    end = (st + datetime.timedelta(hours=hours)).strftime('%Y-%m-%dT%H:%M:%SZ')\n",
    "    print(start)\n",
    "    print(end)\n",
    "    df_temp = sage_data_client.query(start=start,\n",
    "                                     end=end, \n",
    "                                        filter={\n",
    "                                            \"name\" : 'wxt.env.temp|wxt.env.humidity|wxt.env.pressure|wxt.rain.accumulation',\n",
    "                                            \"plugin\" : \"registry.sagecontinuum.org/jrobrien/waggle-wxt536:0.23.5.*\",\n",
    "                                            \"vsn\" : \"W08D\",\n",
    "                                            \"sensor\" : \"vaisala-wxt536\"\n",
    "                                        }\n",
    "    )\n",
    "    winds = sage_data_client.query(start=start,\n",
    "                                     end=end, \n",
    "                                        filter={\n",
    "                                            \"name\" : 'wxt.wind.speed|wxt.wind.direction',\n",
    "                                            \"plugin\" : \"registry.sagecontinuum.org/jrobrien/waggle-wxt536:0.23.5.*\",\n",
    "                                            \"vsn\" : \"W08D\",\n",
    "                                            \"sensor\" : \"vaisala-wxt536\"\n",
    "                                        }\n",
    "    )\n",
    "    \n",
    "    hums = df_temp[df_temp['name']=='wxt.env.humidity']\n",
    "    temps = df_temp[df_temp['name']=='wxt.env.temp']\n",
    "    pres = df_temp[df_temp['name']=='wxt.env.pressure']\n",
    "    rain = df_temp[df_temp['name']=='wxt.rain.accumulation']\n",
    "\n",
    "\n",
    "    npres = len(pres)\n",
    "    nhum = len(hums)\n",
    "    ntemps = len(temps)\n",
    "    nrains = len(rain)\n",
    "    print(npres, nhum, ntemps, nrains)\n",
    "    minsamps = min([nhum, ntemps, npres, nrains])\n",
    "\n",
    "    temps['time'] = pd.DatetimeIndex(temps['timestamp'].values)\n",
    "\n",
    "    vals = temps.set_index('time')[0:minsamps]\n",
    "    vals['temperature'] = vals.value.to_numpy()[0:minsamps]\n",
    "    vals['humidity'] = hums.value.to_numpy()[0:minsamps]\n",
    "    vals['pressure'] = pres.value.to_numpy()[0:minsamps]\n",
    "    vals['rainfall'] = rain.value.to_numpy()[0:minsamps]\n",
    "\n",
    "    direction = winds[winds['name']=='wxt.wind.direction']\n",
    "    speed = winds[winds['name']=='wxt.wind.speed']\n",
    "\n",
    "    nspeed = len(speed)\n",
    "    ndir = len(direction)\n",
    "    print(nspeed, ndir)\n",
    "    minsamps = min([nspeed, ndir])\n",
    "\n",
    "    speed['time'] = pd.DatetimeIndex(speed['timestamp'].values)\n",
    "    windy = speed.set_index('time')[0:minsamps]\n",
    "    windy['speed'] = windy.value.to_numpy()[0:minsamps]\n",
    "    windy['direction'] = direction.value.to_numpy()[0:minsamps]\n",
    "\n",
    "\n",
    "    winds10mean = windy.resample('10S').mean(numeric_only=True).ffill()\n",
    "    winds10max = windy.resample('10S').max(numeric_only=True).ffill()\n",
    "    dp = dewpoint_from_relative_humidity( vals.temperature.to_numpy() * units.degC, \n",
    "                                         vals.humidity.to_numpy() * units.percent)\n",
    "\n",
    "    vals['dewpoint'] = dp\n",
    "    vals10 = vals.resample('10S').mean(numeric_only=True).ffill() #ffil gets rid of nans due to empty resample periods\n",
    "    wb = wet_bulb_temperature(vals10.pressure.to_numpy() * units.hPa,\n",
    "                              vals10.temperature.to_numpy() * units.degC,\n",
    "                              vals10.dewpoint.to_numpy() * units.degC)\n",
    "\n",
    "    vals10['wetbulb'] = wb\n",
    "    vals10['wind_dir_10s'] = winds10mean['direction']\n",
    "    vals10['wind_mean_10s'] = winds10mean['speed']\n",
    "    vals10['wind_max_10s'] = winds10max['speed']\n",
    "    _ = vals10.pop('value')\n",
    "    fname = st.strftime('/Users/scollis/data/wxt/CMS_wxt536_NEIU_a1_%Y%m%d_%H%M%SZ.nc')\n",
    "    \n",
    "    try:\n",
    "        os.remove(fname)\n",
    "    except OSError:\n",
    "        pass\n",
    "    \n",
    "    vals10xr = xr.Dataset.from_dataframe(vals10)\n",
    "    vals10xr = vals10xr.sortby('time')\n",
    "    \n",
    "    vals10xr = vals10xr.assign_attrs(global_attrs)\n",
    "    \n",
    "    for varname in var_attrs.keys():\n",
    "        vals10xr[varname] = vals10xr[varname].assign_attrs(var_attrs[varname])\n",
    "    \n",
    "    vals10xr.to_netcdf(fname)\n",
    "\n"
   ]
  },
  {
   "cell_type": "code",
   "execution_count": 4,
   "id": "fc913dfe",
   "metadata": {},
   "outputs": [
    {
     "name": "stdout",
     "output_type": "stream",
     "text": [
      "2023-06-21T00:00:00Z\n",
      "2023-06-22T00:00:00Z\n",
      "1052513 1052513 1052513 1052513\n"
     ]
    },
    {
     "name": "stderr",
     "output_type": "stream",
     "text": [
      "/var/folders/f4/f3jp1t2x0hddhf4vz50gzlnc0000gn/T/ipykernel_30166/1888815881.py:39: SettingWithCopyWarning: \n",
      "A value is trying to be set on a copy of a slice from a DataFrame.\n",
      "Try using .loc[row_indexer,col_indexer] = value instead\n",
      "\n",
      "See the caveats in the documentation: https://pandas.pydata.org/pandas-docs/stable/user_guide/indexing.html#returning-a-view-versus-a-copy\n",
      "  temps['time'] = pd.DatetimeIndex(temps['timestamp'].values)\n"
     ]
    },
    {
     "name": "stdout",
     "output_type": "stream",
     "text": [
      "1052513 1052513\n"
     ]
    },
    {
     "name": "stderr",
     "output_type": "stream",
     "text": [
      "/var/folders/f4/f3jp1t2x0hddhf4vz50gzlnc0000gn/T/ipykernel_30166/1888815881.py:55: SettingWithCopyWarning: \n",
      "A value is trying to be set on a copy of a slice from a DataFrame.\n",
      "Try using .loc[row_indexer,col_indexer] = value instead\n",
      "\n",
      "See the caveats in the documentation: https://pandas.pydata.org/pandas-docs/stable/user_guide/indexing.html#returning-a-view-versus-a-copy\n",
      "  speed['time'] = pd.DatetimeIndex(speed['timestamp'].values)\n"
     ]
    },
    {
     "name": "stdout",
     "output_type": "stream",
     "text": [
      "2023-06-22T00:00:00Z\n",
      "2023-06-23T00:00:00Z\n",
      "551216 551191 551599 551915\n"
     ]
    },
    {
     "name": "stderr",
     "output_type": "stream",
     "text": [
      "/var/folders/f4/f3jp1t2x0hddhf4vz50gzlnc0000gn/T/ipykernel_30166/1888815881.py:39: SettingWithCopyWarning: \n",
      "A value is trying to be set on a copy of a slice from a DataFrame.\n",
      "Try using .loc[row_indexer,col_indexer] = value instead\n",
      "\n",
      "See the caveats in the documentation: https://pandas.pydata.org/pandas-docs/stable/user_guide/indexing.html#returning-a-view-versus-a-copy\n",
      "  temps['time'] = pd.DatetimeIndex(temps['timestamp'].values)\n"
     ]
    },
    {
     "name": "stdout",
     "output_type": "stream",
     "text": [
      "553048 552883\n"
     ]
    },
    {
     "name": "stderr",
     "output_type": "stream",
     "text": [
      "/var/folders/f4/f3jp1t2x0hddhf4vz50gzlnc0000gn/T/ipykernel_30166/1888815881.py:55: SettingWithCopyWarning: \n",
      "A value is trying to be set on a copy of a slice from a DataFrame.\n",
      "Try using .loc[row_indexer,col_indexer] = value instead\n",
      "\n",
      "See the caveats in the documentation: https://pandas.pydata.org/pandas-docs/stable/user_guide/indexing.html#returning-a-view-versus-a-copy\n",
      "  speed['time'] = pd.DatetimeIndex(speed['timestamp'].values)\n"
     ]
    }
   ],
   "source": [
    "ingest_wxt(datetime.datetime(2023,6,21), wxt_global_NEIU, var_attrs_wxt)\n",
    "ingest_wxt(datetime.datetime(2023,6,22), wxt_global_NEIU, var_attrs_wxt)\n"
   ]
  },
  {
   "cell_type": "code",
   "execution_count": 19,
   "id": "e87573e8",
   "metadata": {},
   "outputs": [
    {
     "name": "stdout",
     "output_type": "stream",
     "text": [
      "2023-06-10 00:00:00\n",
      "2023-06-10T00:00:00Z\n",
      "2023-06-11T00:00:00Z\n",
      "1054328 1054328 1054328 1054328\n"
     ]
    },
    {
     "name": "stderr",
     "output_type": "stream",
     "text": [
      "/var/folders/f4/f3jp1t2x0hddhf4vz50gzlnc0000gn/T/ipykernel_1991/1888815881.py:39: SettingWithCopyWarning: \n",
      "A value is trying to be set on a copy of a slice from a DataFrame.\n",
      "Try using .loc[row_indexer,col_indexer] = value instead\n",
      "\n",
      "See the caveats in the documentation: https://pandas.pydata.org/pandas-docs/stable/user_guide/indexing.html#returning-a-view-versus-a-copy\n",
      "  temps['time'] = pd.DatetimeIndex(temps['timestamp'].values)\n"
     ]
    },
    {
     "name": "stdout",
     "output_type": "stream",
     "text": [
      "1054328 1054328\n"
     ]
    },
    {
     "name": "stderr",
     "output_type": "stream",
     "text": [
      "/var/folders/f4/f3jp1t2x0hddhf4vz50gzlnc0000gn/T/ipykernel_1991/1888815881.py:55: SettingWithCopyWarning: \n",
      "A value is trying to be set on a copy of a slice from a DataFrame.\n",
      "Try using .loc[row_indexer,col_indexer] = value instead\n",
      "\n",
      "See the caveats in the documentation: https://pandas.pydata.org/pandas-docs/stable/user_guide/indexing.html#returning-a-view-versus-a-copy\n",
      "  speed['time'] = pd.DatetimeIndex(speed['timestamp'].values)\n"
     ]
    },
    {
     "name": "stdout",
     "output_type": "stream",
     "text": [
      "Succeed\n",
      "2023-06-11 00:00:00\n",
      "2023-06-11T00:00:00Z\n",
      "2023-06-12T00:00:00Z\n",
      "1019682 1019682 1019682 1019682\n"
     ]
    },
    {
     "name": "stderr",
     "output_type": "stream",
     "text": [
      "/var/folders/f4/f3jp1t2x0hddhf4vz50gzlnc0000gn/T/ipykernel_1991/1888815881.py:39: SettingWithCopyWarning: \n",
      "A value is trying to be set on a copy of a slice from a DataFrame.\n",
      "Try using .loc[row_indexer,col_indexer] = value instead\n",
      "\n",
      "See the caveats in the documentation: https://pandas.pydata.org/pandas-docs/stable/user_guide/indexing.html#returning-a-view-versus-a-copy\n",
      "  temps['time'] = pd.DatetimeIndex(temps['timestamp'].values)\n"
     ]
    },
    {
     "name": "stdout",
     "output_type": "stream",
     "text": [
      "1019682 1019682\n"
     ]
    },
    {
     "name": "stderr",
     "output_type": "stream",
     "text": [
      "/var/folders/f4/f3jp1t2x0hddhf4vz50gzlnc0000gn/T/ipykernel_1991/1888815881.py:55: SettingWithCopyWarning: \n",
      "A value is trying to be set on a copy of a slice from a DataFrame.\n",
      "Try using .loc[row_indexer,col_indexer] = value instead\n",
      "\n",
      "See the caveats in the documentation: https://pandas.pydata.org/pandas-docs/stable/user_guide/indexing.html#returning-a-view-versus-a-copy\n",
      "  speed['time'] = pd.DatetimeIndex(speed['timestamp'].values)\n"
     ]
    },
    {
     "name": "stdout",
     "output_type": "stream",
     "text": [
      "Succeed\n",
      "2023-06-12 00:00:00\n",
      "2023-06-12T00:00:00Z\n",
      "2023-06-13T00:00:00Z\n",
      "1030936 1030936 1030937 1030936\n"
     ]
    },
    {
     "name": "stderr",
     "output_type": "stream",
     "text": [
      "/var/folders/f4/f3jp1t2x0hddhf4vz50gzlnc0000gn/T/ipykernel_1991/1888815881.py:39: SettingWithCopyWarning: \n",
      "A value is trying to be set on a copy of a slice from a DataFrame.\n",
      "Try using .loc[row_indexer,col_indexer] = value instead\n",
      "\n",
      "See the caveats in the documentation: https://pandas.pydata.org/pandas-docs/stable/user_guide/indexing.html#returning-a-view-versus-a-copy\n",
      "  temps['time'] = pd.DatetimeIndex(temps['timestamp'].values)\n"
     ]
    },
    {
     "name": "stdout",
     "output_type": "stream",
     "text": [
      "1030937 1030937\n"
     ]
    },
    {
     "name": "stderr",
     "output_type": "stream",
     "text": [
      "/var/folders/f4/f3jp1t2x0hddhf4vz50gzlnc0000gn/T/ipykernel_1991/1888815881.py:55: SettingWithCopyWarning: \n",
      "A value is trying to be set on a copy of a slice from a DataFrame.\n",
      "Try using .loc[row_indexer,col_indexer] = value instead\n",
      "\n",
      "See the caveats in the documentation: https://pandas.pydata.org/pandas-docs/stable/user_guide/indexing.html#returning-a-view-versus-a-copy\n",
      "  speed['time'] = pd.DatetimeIndex(speed['timestamp'].values)\n"
     ]
    },
    {
     "name": "stdout",
     "output_type": "stream",
     "text": [
      "Succeed\n",
      "2023-06-13 00:00:00\n",
      "2023-06-13T00:00:00Z\n",
      "2023-06-14T00:00:00Z\n",
      "1024341 1024342 1024342 1024341\n"
     ]
    },
    {
     "name": "stderr",
     "output_type": "stream",
     "text": [
      "/var/folders/f4/f3jp1t2x0hddhf4vz50gzlnc0000gn/T/ipykernel_1991/1888815881.py:39: SettingWithCopyWarning: \n",
      "A value is trying to be set on a copy of a slice from a DataFrame.\n",
      "Try using .loc[row_indexer,col_indexer] = value instead\n",
      "\n",
      "See the caveats in the documentation: https://pandas.pydata.org/pandas-docs/stable/user_guide/indexing.html#returning-a-view-versus-a-copy\n",
      "  temps['time'] = pd.DatetimeIndex(temps['timestamp'].values)\n"
     ]
    },
    {
     "name": "stdout",
     "output_type": "stream",
     "text": [
      "1024342 1024342\n"
     ]
    },
    {
     "name": "stderr",
     "output_type": "stream",
     "text": [
      "/var/folders/f4/f3jp1t2x0hddhf4vz50gzlnc0000gn/T/ipykernel_1991/1888815881.py:55: SettingWithCopyWarning: \n",
      "A value is trying to be set on a copy of a slice from a DataFrame.\n",
      "Try using .loc[row_indexer,col_indexer] = value instead\n",
      "\n",
      "See the caveats in the documentation: https://pandas.pydata.org/pandas-docs/stable/user_guide/indexing.html#returning-a-view-versus-a-copy\n",
      "  speed['time'] = pd.DatetimeIndex(speed['timestamp'].values)\n"
     ]
    },
    {
     "name": "stdout",
     "output_type": "stream",
     "text": [
      "Succeed\n",
      "2023-06-14 00:00:00\n",
      "2023-06-14T00:00:00Z\n",
      "2023-06-15T00:00:00Z\n",
      "1049968 1049968 1049969 1049968\n"
     ]
    },
    {
     "name": "stderr",
     "output_type": "stream",
     "text": [
      "/var/folders/f4/f3jp1t2x0hddhf4vz50gzlnc0000gn/T/ipykernel_1991/1888815881.py:39: SettingWithCopyWarning: \n",
      "A value is trying to be set on a copy of a slice from a DataFrame.\n",
      "Try using .loc[row_indexer,col_indexer] = value instead\n",
      "\n",
      "See the caveats in the documentation: https://pandas.pydata.org/pandas-docs/stable/user_guide/indexing.html#returning-a-view-versus-a-copy\n",
      "  temps['time'] = pd.DatetimeIndex(temps['timestamp'].values)\n"
     ]
    },
    {
     "name": "stdout",
     "output_type": "stream",
     "text": [
      "1049969 1049969\n"
     ]
    },
    {
     "name": "stderr",
     "output_type": "stream",
     "text": [
      "/var/folders/f4/f3jp1t2x0hddhf4vz50gzlnc0000gn/T/ipykernel_1991/1888815881.py:55: SettingWithCopyWarning: \n",
      "A value is trying to be set on a copy of a slice from a DataFrame.\n",
      "Try using .loc[row_indexer,col_indexer] = value instead\n",
      "\n",
      "See the caveats in the documentation: https://pandas.pydata.org/pandas-docs/stable/user_guide/indexing.html#returning-a-view-versus-a-copy\n",
      "  speed['time'] = pd.DatetimeIndex(speed['timestamp'].values)\n"
     ]
    },
    {
     "name": "stdout",
     "output_type": "stream",
     "text": [
      "Succeed\n",
      "2023-06-15 00:00:00\n",
      "2023-06-15T00:00:00Z\n",
      "2023-06-16T00:00:00Z\n",
      "1052073 1052073 1052073 1052073\n"
     ]
    },
    {
     "name": "stderr",
     "output_type": "stream",
     "text": [
      "/var/folders/f4/f3jp1t2x0hddhf4vz50gzlnc0000gn/T/ipykernel_1991/1888815881.py:39: SettingWithCopyWarning: \n",
      "A value is trying to be set on a copy of a slice from a DataFrame.\n",
      "Try using .loc[row_indexer,col_indexer] = value instead\n",
      "\n",
      "See the caveats in the documentation: https://pandas.pydata.org/pandas-docs/stable/user_guide/indexing.html#returning-a-view-versus-a-copy\n",
      "  temps['time'] = pd.DatetimeIndex(temps['timestamp'].values)\n"
     ]
    },
    {
     "name": "stdout",
     "output_type": "stream",
     "text": [
      "1052073 1052073\n"
     ]
    },
    {
     "name": "stderr",
     "output_type": "stream",
     "text": [
      "/var/folders/f4/f3jp1t2x0hddhf4vz50gzlnc0000gn/T/ipykernel_1991/1888815881.py:55: SettingWithCopyWarning: \n",
      "A value is trying to be set on a copy of a slice from a DataFrame.\n",
      "Try using .loc[row_indexer,col_indexer] = value instead\n",
      "\n",
      "See the caveats in the documentation: https://pandas.pydata.org/pandas-docs/stable/user_guide/indexing.html#returning-a-view-versus-a-copy\n",
      "  speed['time'] = pd.DatetimeIndex(speed['timestamp'].values)\n"
     ]
    },
    {
     "name": "stdout",
     "output_type": "stream",
     "text": [
      "Succeed\n",
      "2023-06-16 00:00:00\n",
      "2023-06-16T00:00:00Z\n",
      "2023-06-17T00:00:00Z\n",
      "1029053 1029053 1029053 1029053\n"
     ]
    },
    {
     "name": "stderr",
     "output_type": "stream",
     "text": [
      "/var/folders/f4/f3jp1t2x0hddhf4vz50gzlnc0000gn/T/ipykernel_1991/1888815881.py:39: SettingWithCopyWarning: \n",
      "A value is trying to be set on a copy of a slice from a DataFrame.\n",
      "Try using .loc[row_indexer,col_indexer] = value instead\n",
      "\n",
      "See the caveats in the documentation: https://pandas.pydata.org/pandas-docs/stable/user_guide/indexing.html#returning-a-view-versus-a-copy\n",
      "  temps['time'] = pd.DatetimeIndex(temps['timestamp'].values)\n"
     ]
    },
    {
     "name": "stdout",
     "output_type": "stream",
     "text": [
      "1029053 1029053\n"
     ]
    },
    {
     "name": "stderr",
     "output_type": "stream",
     "text": [
      "/var/folders/f4/f3jp1t2x0hddhf4vz50gzlnc0000gn/T/ipykernel_1991/1888815881.py:55: SettingWithCopyWarning: \n",
      "A value is trying to be set on a copy of a slice from a DataFrame.\n",
      "Try using .loc[row_indexer,col_indexer] = value instead\n",
      "\n",
      "See the caveats in the documentation: https://pandas.pydata.org/pandas-docs/stable/user_guide/indexing.html#returning-a-view-versus-a-copy\n",
      "  speed['time'] = pd.DatetimeIndex(speed['timestamp'].values)\n"
     ]
    },
    {
     "name": "stdout",
     "output_type": "stream",
     "text": [
      "Succeed\n",
      "2023-06-17 00:00:00\n",
      "2023-06-17T00:00:00Z\n",
      "2023-06-18T00:00:00Z\n",
      "1041517 1041517 1041517 1041517\n"
     ]
    },
    {
     "name": "stderr",
     "output_type": "stream",
     "text": [
      "/var/folders/f4/f3jp1t2x0hddhf4vz50gzlnc0000gn/T/ipykernel_1991/1888815881.py:39: SettingWithCopyWarning: \n",
      "A value is trying to be set on a copy of a slice from a DataFrame.\n",
      "Try using .loc[row_indexer,col_indexer] = value instead\n",
      "\n",
      "See the caveats in the documentation: https://pandas.pydata.org/pandas-docs/stable/user_guide/indexing.html#returning-a-view-versus-a-copy\n",
      "  temps['time'] = pd.DatetimeIndex(temps['timestamp'].values)\n"
     ]
    },
    {
     "name": "stdout",
     "output_type": "stream",
     "text": [
      "1041517 1041517\n"
     ]
    },
    {
     "name": "stderr",
     "output_type": "stream",
     "text": [
      "/var/folders/f4/f3jp1t2x0hddhf4vz50gzlnc0000gn/T/ipykernel_1991/1888815881.py:55: SettingWithCopyWarning: \n",
      "A value is trying to be set on a copy of a slice from a DataFrame.\n",
      "Try using .loc[row_indexer,col_indexer] = value instead\n",
      "\n",
      "See the caveats in the documentation: https://pandas.pydata.org/pandas-docs/stable/user_guide/indexing.html#returning-a-view-versus-a-copy\n",
      "  speed['time'] = pd.DatetimeIndex(speed['timestamp'].values)\n"
     ]
    },
    {
     "name": "stdout",
     "output_type": "stream",
     "text": [
      "Succeed\n",
      "2023-06-18 00:00:00\n",
      "2023-06-18T00:00:00Z\n",
      "2023-06-19T00:00:00Z\n",
      "1051131 1051131 1051131 1051131\n"
     ]
    },
    {
     "name": "stderr",
     "output_type": "stream",
     "text": [
      "/var/folders/f4/f3jp1t2x0hddhf4vz50gzlnc0000gn/T/ipykernel_1991/1888815881.py:39: SettingWithCopyWarning: \n",
      "A value is trying to be set on a copy of a slice from a DataFrame.\n",
      "Try using .loc[row_indexer,col_indexer] = value instead\n",
      "\n",
      "See the caveats in the documentation: https://pandas.pydata.org/pandas-docs/stable/user_guide/indexing.html#returning-a-view-versus-a-copy\n",
      "  temps['time'] = pd.DatetimeIndex(temps['timestamp'].values)\n"
     ]
    },
    {
     "name": "stdout",
     "output_type": "stream",
     "text": [
      "1051131 1051131\n"
     ]
    },
    {
     "name": "stderr",
     "output_type": "stream",
     "text": [
      "/var/folders/f4/f3jp1t2x0hddhf4vz50gzlnc0000gn/T/ipykernel_1991/1888815881.py:55: SettingWithCopyWarning: \n",
      "A value is trying to be set on a copy of a slice from a DataFrame.\n",
      "Try using .loc[row_indexer,col_indexer] = value instead\n",
      "\n",
      "See the caveats in the documentation: https://pandas.pydata.org/pandas-docs/stable/user_guide/indexing.html#returning-a-view-versus-a-copy\n",
      "  speed['time'] = pd.DatetimeIndex(speed['timestamp'].values)\n"
     ]
    },
    {
     "name": "stdout",
     "output_type": "stream",
     "text": [
      "Succeed\n",
      "2023-06-19 00:00:00\n",
      "2023-06-19T00:00:00Z\n",
      "2023-06-20T00:00:00Z\n",
      "Fail\n"
     ]
    }
   ],
   "source": [
    "start_date = datetime.datetime(2023,6,10)\n",
    "for i in range(10):\n",
    "    this_date = start_date + datetime.timedelta(days=i)\n",
    "    print(this_date)\n",
    "    try:\n",
    "        ingest_wxt(this_date,  wxt_global_NEIU, var_attrs_wxt)\n",
    "        print(\"Succeed\")\n",
    "    except:\n",
    "        print(\"Fail\")"
   ]
  },
  {
   "cell_type": "code",
   "execution_count": null,
   "id": "29ce6033",
   "metadata": {},
   "outputs": [],
   "source": [
    "! rm /Users/scollis/data/wxt/CMS_wxt536_NEIU_a1_20230612_000000Z.nc\n"
   ]
  },
  {
   "cell_type": "code",
   "execution_count": null,
   "id": "c7f4df54",
   "metadata": {},
   "outputs": [],
   "source": []
  }
 ],
 "metadata": {
  "kernelspec": {
   "display_name": "Python 3 (ipykernel)",
   "language": "python",
   "name": "python3"
  },
  "language_info": {
   "codemirror_mode": {
    "name": "ipython",
    "version": 3
   },
   "file_extension": ".py",
   "mimetype": "text/x-python",
   "name": "python",
   "nbconvert_exporter": "python",
   "pygments_lexer": "ipython3",
   "version": "3.11.0"
  }
 },
 "nbformat": 4,
 "nbformat_minor": 5
}
