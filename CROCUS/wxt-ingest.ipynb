{
 "cells": [
  {
   "cell_type": "code",
   "execution_count": 1,
   "id": "812b7cfd",
   "metadata": {},
   "outputs": [],
   "source": [
    "import sage_data_client\n",
    "import matplotlib.pyplot as plt\n",
    "import pandas as pd\n",
    "from metpy.calc import dewpoint_from_relative_humidity, wet_bulb_temperature\n",
    "from metpy.units import units\n",
    "from PIL import Image\n",
    "import numpy as np\n",
    "import datetime\n",
    "import xarray as xr\n",
    "import os\n",
    "\n",
    "from matplotlib.dates import DateFormatter"
   ]
  },
  {
   "cell_type": "code",
   "execution_count": 2,
   "id": "34febc8e",
   "metadata": {},
   "outputs": [],
   "source": [
    "wxt_global_NEIU = {'conventions': \"CF 1.10\",\n",
    "                   'site_ID' : \"NEIU\",\n",
    "                  'CAMS_tag' : \"CMS-WXT-002\",\n",
    "                  'datastream' : \"CMS_wxt536_NEIU_a1\",\n",
    "                  'datalevel' : \"a1\",\n",
    "                   \"plugin\" : \"registry.sagecontinuum.org/jrobrien/waggle-wxt536:0.*\",\n",
    "                   'WSN' : 'W08D',\n",
    "                  'latitude' : 41.9804526,\n",
    "                  'longitude' : -87.7196038}\n",
    "\n",
    "wxt_global_NU = {'conventions': \"CF 1.10\",\n",
    "                  'WSN':'W099',\n",
    "                   'site_ID' : \"NU\",\n",
    "                  'CAMS_tag' : \"CMS-WXT-005\",\n",
    "                  'datastream' : \"CMS_wxt536_NU_a1\",\n",
    "                  'plugin' : \"registry.sagecontinuum.org/jrobrien/waggle-wxt536:0.*\",\n",
    "                  'datalevel' : \"a1\",\n",
    "                  'latitude' : 42.051469749,\n",
    "                  'longitude' : -87.677667183}\n",
    "\n",
    "wxt_global_CSU = {'conventions': \"CF 1.10\",\n",
    "                  'WSN':'W08E',\n",
    "                   'site_ID' : \"CSU\",\n",
    "                  'CAMS_tag' : \"CMS-WXT-003\",\n",
    "                  'datastream' : \"CMS_wxt536_CSU_a1\",\n",
    "                  'plugin' : \"registry.sagecontinuum.org/jrobrien/waggle-wxt536:0.*\",\n",
    "                  'datalevel' : \"a1\",\n",
    "                  'latitude' : 41.71991216,\n",
    "                  'longitude' : -87.612834722}\n",
    "\n",
    "\n",
    "var_attrs_wxt = {'temperature': {'standard_name' : 'air_temperature',\n",
    "                       'units' : 'celsius'},\n",
    "                'humidity': {'standard_name' : 'relative_humidity',\n",
    "                       'units' : 'percent'},\n",
    "                'dewpoint': {'standard_name' : 'dew_point_temperature',\n",
    "                       'units' : 'celsius'},\n",
    "                'pressure': {'standard_name' : 'air_pressure',\n",
    "                       'units' : 'hPa'},\n",
    "                'wind_mean_10s': {'standard_name' : 'wind_speed',\n",
    "                       'units' : 'celsius'},\n",
    "                'wind_max_10s': {'standard_name' : 'wind_speed',\n",
    "                       'units' : 'celsius'},\n",
    "                'wind_dir_10s': {'standard_name' : 'wind_from_direction',\n",
    "                       'units' : 'degrees'},\n",
    "                'rainfall': {'standard_name' : 'precipitation_amount',\n",
    "                       'units' : 'kg m-2'}}"
   ]
  },
  {
   "cell_type": "code",
   "execution_count": 3,
   "id": "baadc2e0",
   "metadata": {},
   "outputs": [],
   "source": [
    "def ingest_wxt(st, global_attrs, var_attrs):\n",
    "    hours = 24\n",
    "    start = st.strftime('%Y-%m-%dT%H:%M:%SZ')\n",
    "    end = (st + datetime.timedelta(hours=hours)).strftime('%Y-%m-%dT%H:%M:%SZ')\n",
    "    print(start)\n",
    "    print(end)\n",
    "    df_temp = sage_data_client.query(start=start,\n",
    "                                     end=end, \n",
    "                                        filter={\n",
    "                                            \"name\" : 'wxt.env.temp|wxt.env.humidity|wxt.env.pressure|wxt.rain.accumulation',\n",
    "                                            \"plugin\" : global_attrs['plugin'],\n",
    "                                            \"vsn\" : global_attrs['WSN'],\n",
    "                                            \"sensor\" : \"vaisala-wxt536\"\n",
    "                                        }\n",
    "    )\n",
    "    winds = sage_data_client.query(start=start,\n",
    "                                     end=end, \n",
    "                                        filter={\n",
    "                                            \"name\" : 'wxt.wind.speed|wxt.wind.direction',\n",
    "                                            \"plugin\" : global_attrs['plugin'],\n",
    "                                            \"vsn\" : global_attrs['WSN'],\n",
    "                                            \"sensor\" : \"vaisala-wxt536\"\n",
    "                                        }\n",
    "    )\n",
    "    \n",
    "    hums = df_temp[df_temp['name']=='wxt.env.humidity']\n",
    "    temps = df_temp[df_temp['name']=='wxt.env.temp']\n",
    "    pres = df_temp[df_temp['name']=='wxt.env.pressure']\n",
    "    rain = df_temp[df_temp['name']=='wxt.rain.accumulation']\n",
    "\n",
    "\n",
    "    npres = len(pres)\n",
    "    nhum = len(hums)\n",
    "    ntemps = len(temps)\n",
    "    nrains = len(rain)\n",
    "    print(npres, nhum, ntemps, nrains)\n",
    "    minsamps = min([nhum, ntemps, npres, nrains])\n",
    "\n",
    "    temps['time'] = pd.DatetimeIndex(temps['timestamp'].values)\n",
    "\n",
    "    vals = temps.set_index('time')[0:minsamps]\n",
    "    vals['temperature'] = vals.value.to_numpy()[0:minsamps]\n",
    "    vals['humidity'] = hums.value.to_numpy()[0:minsamps]\n",
    "    vals['pressure'] = pres.value.to_numpy()[0:minsamps]\n",
    "    vals['rainfall'] = rain.value.to_numpy()[0:minsamps]\n",
    "\n",
    "    direction = winds[winds['name']=='wxt.wind.direction']\n",
    "    speed = winds[winds['name']=='wxt.wind.speed']\n",
    "\n",
    "    nspeed = len(speed)\n",
    "    ndir = len(direction)\n",
    "    print(nspeed, ndir)\n",
    "    minsamps = min([nspeed, ndir])\n",
    "\n",
    "    speed['time'] = pd.DatetimeIndex(speed['timestamp'].values)\n",
    "    windy = speed.set_index('time')[0:minsamps]\n",
    "    windy['speed'] = windy.value.to_numpy()[0:minsamps]\n",
    "    windy['direction'] = direction.value.to_numpy()[0:minsamps]\n",
    "\n",
    "\n",
    "    winds10mean = windy.resample('10S').mean(numeric_only=True).ffill()\n",
    "    winds10max = windy.resample('10S').max(numeric_only=True).ffill()\n",
    "    dp = dewpoint_from_relative_humidity( vals.temperature.to_numpy() * units.degC, \n",
    "                                         vals.humidity.to_numpy() * units.percent)\n",
    "\n",
    "    vals['dewpoint'] = dp\n",
    "    vals10 = vals.resample('10S').mean(numeric_only=True).ffill() #ffil gets rid of nans due to empty resample periods\n",
    "    wb = wet_bulb_temperature(vals10.pressure.to_numpy() * units.hPa,\n",
    "                              vals10.temperature.to_numpy() * units.degC,\n",
    "                              vals10.dewpoint.to_numpy() * units.degC)\n",
    "\n",
    "    vals10['wetbulb'] = wb\n",
    "    vals10['wind_dir_10s'] = winds10mean['direction']\n",
    "    vals10['wind_mean_10s'] = winds10mean['speed']\n",
    "    vals10['wind_max_10s'] = winds10max['speed']\n",
    "    _ = vals10.pop('value')\n",
    "    \n",
    "    end_fname = st.strftime('_%Y%m%d_%H%M%SZ.nc')\n",
    "    start_fname = '/Users/scollis/data/wxt/CMS_wxt536_' + global_attrs['site_ID'] + '_' + global_attrs['datalevel']\n",
    "    fname = start_fname + end_fname\n",
    "    \n",
    "    try:\n",
    "        os.remove(fname)\n",
    "    except OSError:\n",
    "        pass\n",
    "    \n",
    "    vals10xr = xr.Dataset.from_dataframe(vals10)\n",
    "    vals10xr = vals10xr.sortby('time')\n",
    "    \n",
    "    vals10xr = vals10xr.assign_attrs(global_attrs)\n",
    "    \n",
    "    for varname in var_attrs.keys():\n",
    "        vals10xr[varname] = vals10xr[varname].assign_attrs(var_attrs[varname])\n",
    "    \n",
    "    vals10xr.to_netcdf(fname)\n",
    "\n"
   ]
  },
  {
   "cell_type": "code",
   "execution_count": 4,
   "id": "863a1804",
   "metadata": {},
   "outputs": [
    {
     "name": "stdout",
     "output_type": "stream",
     "text": [
      "2024-04-27T00:00:00Z\n",
      "2024-04-28T00:00:00Z\n",
      "1035407 1035407 1035407 1035407\n"
     ]
    },
    {
     "name": "stderr",
     "output_type": "stream",
     "text": [
      "/var/folders/f4/f3jp1t2x0hddhf4vz50gzlnc0000gn/T/ipykernel_2120/2138274400.py:39: SettingWithCopyWarning: \n",
      "A value is trying to be set on a copy of a slice from a DataFrame.\n",
      "Try using .loc[row_indexer,col_indexer] = value instead\n",
      "\n",
      "See the caveats in the documentation: https://pandas.pydata.org/pandas-docs/stable/user_guide/indexing.html#returning-a-view-versus-a-copy\n",
      "  temps['time'] = pd.DatetimeIndex(temps['timestamp'].values)\n"
     ]
    },
    {
     "name": "stdout",
     "output_type": "stream",
     "text": [
      "1035407 1035407\n"
     ]
    },
    {
     "name": "stderr",
     "output_type": "stream",
     "text": [
      "/var/folders/f4/f3jp1t2x0hddhf4vz50gzlnc0000gn/T/ipykernel_2120/2138274400.py:55: SettingWithCopyWarning: \n",
      "A value is trying to be set on a copy of a slice from a DataFrame.\n",
      "Try using .loc[row_indexer,col_indexer] = value instead\n",
      "\n",
      "See the caveats in the documentation: https://pandas.pydata.org/pandas-docs/stable/user_guide/indexing.html#returning-a-view-versus-a-copy\n",
      "  speed['time'] = pd.DatetimeIndex(speed['timestamp'].values)\n"
     ]
    }
   ],
   "source": [
    "ingest_wxt(datetime.datetime(2024,4,27), wxt_global_NEIU, var_attrs_wxt)\n"
   ]
  },
  {
   "cell_type": "code",
   "execution_count": 8,
   "id": "f4b83da4",
   "metadata": {},
   "outputs": [
    {
     "name": "stdout",
     "output_type": "stream",
     "text": [
      "2024-04-28T00:00:00Z\n",
      "2024-04-29T00:00:00Z\n",
      "1015745 1015745 1015745 1015745\n"
     ]
    },
    {
     "name": "stderr",
     "output_type": "stream",
     "text": [
      "/var/folders/f4/f3jp1t2x0hddhf4vz50gzlnc0000gn/T/ipykernel_2120/2138274400.py:39: SettingWithCopyWarning: \n",
      "A value is trying to be set on a copy of a slice from a DataFrame.\n",
      "Try using .loc[row_indexer,col_indexer] = value instead\n",
      "\n",
      "See the caveats in the documentation: https://pandas.pydata.org/pandas-docs/stable/user_guide/indexing.html#returning-a-view-versus-a-copy\n",
      "  temps['time'] = pd.DatetimeIndex(temps['timestamp'].values)\n"
     ]
    },
    {
     "name": "stdout",
     "output_type": "stream",
     "text": [
      "1015745 1015745\n"
     ]
    },
    {
     "name": "stderr",
     "output_type": "stream",
     "text": [
      "/var/folders/f4/f3jp1t2x0hddhf4vz50gzlnc0000gn/T/ipykernel_2120/2138274400.py:55: SettingWithCopyWarning: \n",
      "A value is trying to be set on a copy of a slice from a DataFrame.\n",
      "Try using .loc[row_indexer,col_indexer] = value instead\n",
      "\n",
      "See the caveats in the documentation: https://pandas.pydata.org/pandas-docs/stable/user_guide/indexing.html#returning-a-view-versus-a-copy\n",
      "  speed['time'] = pd.DatetimeIndex(speed['timestamp'].values)\n"
     ]
    }
   ],
   "source": [
    "ingest_wxt(datetime.datetime(2024,4,28), wxt_global_NEIU, var_attrs_wxt)\n"
   ]
  },
  {
   "cell_type": "code",
   "execution_count": 9,
   "id": "aa69ef1e",
   "metadata": {},
   "outputs": [
    {
     "name": "stdout",
     "output_type": "stream",
     "text": [
      "2024-04-30T00:00:00Z\n",
      "2024-05-01T00:00:00Z\n",
      "0 0 0 0\n",
      "0 0\n"
     ]
    },
    {
     "ename": "ValueError",
     "evalue": "Iteration of zero-sized operands is not enabled",
     "output_type": "error",
     "traceback": [
      "\u001b[0;31m---------------------------------------------------------------------------\u001b[0m",
      "\u001b[0;31mValueError\u001b[0m                                Traceback (most recent call last)",
      "Cell \u001b[0;32mIn[9], line 1\u001b[0m\n\u001b[0;32m----> 1\u001b[0m \u001b[43mingest_wxt\u001b[49m\u001b[43m(\u001b[49m\u001b[43mdatetime\u001b[49m\u001b[38;5;241;43m.\u001b[39;49m\u001b[43mdatetime\u001b[49m\u001b[43m(\u001b[49m\u001b[38;5;241;43m2024\u001b[39;49m\u001b[43m,\u001b[49m\u001b[38;5;241;43m4\u001b[39;49m\u001b[43m,\u001b[49m\u001b[38;5;241;43m30\u001b[39;49m\u001b[43m)\u001b[49m\u001b[43m,\u001b[49m\u001b[43m \u001b[49m\u001b[43mwxt_global_NEIU\u001b[49m\u001b[43m,\u001b[49m\u001b[43m \u001b[49m\u001b[43mvar_attrs_wxt\u001b[49m\u001b[43m)\u001b[49m\n",
      "Cell \u001b[0;32mIn[3], line 68\u001b[0m, in \u001b[0;36mingest_wxt\u001b[0;34m(st, global_attrs, var_attrs)\u001b[0m\n\u001b[1;32m     66\u001b[0m vals[\u001b[38;5;124m'\u001b[39m\u001b[38;5;124mdewpoint\u001b[39m\u001b[38;5;124m'\u001b[39m] \u001b[38;5;241m=\u001b[39m dp\n\u001b[1;32m     67\u001b[0m vals10 \u001b[38;5;241m=\u001b[39m vals\u001b[38;5;241m.\u001b[39mresample(\u001b[38;5;124m'\u001b[39m\u001b[38;5;124m10S\u001b[39m\u001b[38;5;124m'\u001b[39m)\u001b[38;5;241m.\u001b[39mmean(numeric_only\u001b[38;5;241m=\u001b[39m\u001b[38;5;28;01mTrue\u001b[39;00m)\u001b[38;5;241m.\u001b[39mffill() \u001b[38;5;66;03m#ffil gets rid of nans due to empty resample periods\u001b[39;00m\n\u001b[0;32m---> 68\u001b[0m wb \u001b[38;5;241m=\u001b[39m \u001b[43mwet_bulb_temperature\u001b[49m\u001b[43m(\u001b[49m\u001b[43mvals10\u001b[49m\u001b[38;5;241;43m.\u001b[39;49m\u001b[43mpressure\u001b[49m\u001b[38;5;241;43m.\u001b[39;49m\u001b[43mto_numpy\u001b[49m\u001b[43m(\u001b[49m\u001b[43m)\u001b[49m\u001b[43m \u001b[49m\u001b[38;5;241;43m*\u001b[39;49m\u001b[43m \u001b[49m\u001b[43munits\u001b[49m\u001b[38;5;241;43m.\u001b[39;49m\u001b[43mhPa\u001b[49m\u001b[43m,\u001b[49m\n\u001b[1;32m     69\u001b[0m \u001b[43m                          \u001b[49m\u001b[43mvals10\u001b[49m\u001b[38;5;241;43m.\u001b[39;49m\u001b[43mtemperature\u001b[49m\u001b[38;5;241;43m.\u001b[39;49m\u001b[43mto_numpy\u001b[49m\u001b[43m(\u001b[49m\u001b[43m)\u001b[49m\u001b[43m \u001b[49m\u001b[38;5;241;43m*\u001b[39;49m\u001b[43m \u001b[49m\u001b[43munits\u001b[49m\u001b[38;5;241;43m.\u001b[39;49m\u001b[43mdegC\u001b[49m\u001b[43m,\u001b[49m\n\u001b[1;32m     70\u001b[0m \u001b[43m                          \u001b[49m\u001b[43mvals10\u001b[49m\u001b[38;5;241;43m.\u001b[39;49m\u001b[43mdewpoint\u001b[49m\u001b[38;5;241;43m.\u001b[39;49m\u001b[43mto_numpy\u001b[49m\u001b[43m(\u001b[49m\u001b[43m)\u001b[49m\u001b[43m \u001b[49m\u001b[38;5;241;43m*\u001b[39;49m\u001b[43m \u001b[49m\u001b[43munits\u001b[49m\u001b[38;5;241;43m.\u001b[39;49m\u001b[43mdegC\u001b[49m\u001b[43m)\u001b[49m\n\u001b[1;32m     72\u001b[0m vals10[\u001b[38;5;124m'\u001b[39m\u001b[38;5;124mwetbulb\u001b[39m\u001b[38;5;124m'\u001b[39m] \u001b[38;5;241m=\u001b[39m wb\n\u001b[1;32m     73\u001b[0m vals10[\u001b[38;5;124m'\u001b[39m\u001b[38;5;124mwind_dir_10s\u001b[39m\u001b[38;5;124m'\u001b[39m] \u001b[38;5;241m=\u001b[39m winds10mean[\u001b[38;5;124m'\u001b[39m\u001b[38;5;124mdirection\u001b[39m\u001b[38;5;124m'\u001b[39m]\n",
      "File \u001b[0;32m~/miniconda3/envs/crocus/lib/python3.11/site-packages/metpy/xarray.py:1329\u001b[0m, in \u001b[0;36mpreprocess_and_wrap.<locals>.decorator.<locals>.wrapper\u001b[0;34m(*args, **kwargs)\u001b[0m\n\u001b[1;32m   1326\u001b[0m     _mutate_arguments(bound_args, units\u001b[38;5;241m.\u001b[39mQuantity, \u001b[38;5;28;01mlambda\u001b[39;00m arg, _: arg\u001b[38;5;241m.\u001b[39mm)\n\u001b[1;32m   1328\u001b[0m \u001b[38;5;66;03m# Evaluate inner calculation\u001b[39;00m\n\u001b[0;32m-> 1329\u001b[0m result \u001b[38;5;241m=\u001b[39m \u001b[43mfunc\u001b[49m\u001b[43m(\u001b[49m\u001b[38;5;241;43m*\u001b[39;49m\u001b[43mbound_args\u001b[49m\u001b[38;5;241;43m.\u001b[39;49m\u001b[43margs\u001b[49m\u001b[43m,\u001b[49m\u001b[43m \u001b[49m\u001b[38;5;241;43m*\u001b[39;49m\u001b[38;5;241;43m*\u001b[39;49m\u001b[43mbound_args\u001b[49m\u001b[38;5;241;43m.\u001b[39;49m\u001b[43mkwargs\u001b[49m\u001b[43m)\u001b[49m\n\u001b[1;32m   1331\u001b[0m \u001b[38;5;66;03m# Wrap output based on match and match_unit\u001b[39;00m\n\u001b[1;32m   1332\u001b[0m \u001b[38;5;28;01mif\u001b[39;00m match \u001b[38;5;129;01mis\u001b[39;00m \u001b[38;5;28;01mNone\u001b[39;00m:\n",
      "File \u001b[0;32m~/miniconda3/envs/crocus/lib/python3.11/site-packages/metpy/units.py:320\u001b[0m, in \u001b[0;36mcheck_units.<locals>.dec.<locals>.wrapper\u001b[0;34m(*args, **kwargs)\u001b[0m\n\u001b[1;32m    317\u001b[0m \u001b[38;5;129m@functools\u001b[39m\u001b[38;5;241m.\u001b[39mwraps(func)\n\u001b[1;32m    318\u001b[0m \u001b[38;5;28;01mdef\u001b[39;00m \u001b[38;5;21mwrapper\u001b[39m(\u001b[38;5;241m*\u001b[39margs, \u001b[38;5;241m*\u001b[39m\u001b[38;5;241m*\u001b[39mkwargs):\n\u001b[1;32m    319\u001b[0m     _check_units_inner_helper(func, sig, defaults, dims, \u001b[38;5;241m*\u001b[39margs, \u001b[38;5;241m*\u001b[39m\u001b[38;5;241m*\u001b[39mkwargs)\n\u001b[0;32m--> 320\u001b[0m     \u001b[38;5;28;01mreturn\u001b[39;00m \u001b[43mfunc\u001b[49m\u001b[43m(\u001b[49m\u001b[38;5;241;43m*\u001b[39;49m\u001b[43margs\u001b[49m\u001b[43m,\u001b[49m\u001b[43m \u001b[49m\u001b[38;5;241;43m*\u001b[39;49m\u001b[38;5;241;43m*\u001b[39;49m\u001b[43mkwargs\u001b[49m\u001b[43m)\u001b[49m\n",
      "File \u001b[0;32m~/miniconda3/envs/crocus/lib/python3.11/site-packages/metpy/calc/thermo.py:3689\u001b[0m, in \u001b[0;36mwet_bulb_temperature\u001b[0;34m(pressure, temperature, dewpoint)\u001b[0m\n\u001b[1;32m   3685\u001b[0m     dewpoint \u001b[38;5;241m=\u001b[39m np\u001b[38;5;241m.\u001b[39matleast_1d(dewpoint)\n\u001b[1;32m   3687\u001b[0m lcl_press, lcl_temp \u001b[38;5;241m=\u001b[39m lcl(pressure, temperature, dewpoint)\n\u001b[0;32m-> 3689\u001b[0m it \u001b[38;5;241m=\u001b[39m \u001b[43mnp\u001b[49m\u001b[38;5;241;43m.\u001b[39;49m\u001b[43mnditer\u001b[49m\u001b[43m(\u001b[49m\u001b[43m[\u001b[49m\u001b[43mpressure\u001b[49m\u001b[38;5;241;43m.\u001b[39;49m\u001b[43mmagnitude\u001b[49m\u001b[43m,\u001b[49m\u001b[43m \u001b[49m\u001b[43mlcl_press\u001b[49m\u001b[38;5;241;43m.\u001b[39;49m\u001b[43mmagnitude\u001b[49m\u001b[43m,\u001b[49m\u001b[43m \u001b[49m\u001b[43mlcl_temp\u001b[49m\u001b[38;5;241;43m.\u001b[39;49m\u001b[43mmagnitude\u001b[49m\u001b[43m,\u001b[49m\u001b[43m \u001b[49m\u001b[38;5;28;43;01mNone\u001b[39;49;00m\u001b[43m]\u001b[49m\u001b[43m,\u001b[49m\n\u001b[1;32m   3690\u001b[0m \u001b[43m               \u001b[49m\u001b[43mop_dtypes\u001b[49m\u001b[38;5;241;43m=\u001b[39;49m\u001b[43m[\u001b[49m\u001b[38;5;124;43m'\u001b[39;49m\u001b[38;5;124;43mfloat\u001b[39;49m\u001b[38;5;124;43m'\u001b[39;49m\u001b[43m,\u001b[49m\u001b[43m \u001b[49m\u001b[38;5;124;43m'\u001b[39;49m\u001b[38;5;124;43mfloat\u001b[39;49m\u001b[38;5;124;43m'\u001b[39;49m\u001b[43m,\u001b[49m\u001b[43m \u001b[49m\u001b[38;5;124;43m'\u001b[39;49m\u001b[38;5;124;43mfloat\u001b[39;49m\u001b[38;5;124;43m'\u001b[39;49m\u001b[43m,\u001b[49m\u001b[43m \u001b[49m\u001b[38;5;124;43m'\u001b[39;49m\u001b[38;5;124;43mfloat\u001b[39;49m\u001b[38;5;124;43m'\u001b[39;49m\u001b[43m]\u001b[49m\u001b[43m,\u001b[49m\n\u001b[1;32m   3691\u001b[0m \u001b[43m               \u001b[49m\u001b[43mflags\u001b[49m\u001b[38;5;241;43m=\u001b[39;49m\u001b[43m[\u001b[49m\u001b[38;5;124;43m'\u001b[39;49m\u001b[38;5;124;43mbuffered\u001b[39;49m\u001b[38;5;124;43m'\u001b[39;49m\u001b[43m]\u001b[49m\u001b[43m)\u001b[49m\n\u001b[1;32m   3693\u001b[0m \u001b[38;5;28;01mfor\u001b[39;00m press, lpress, ltemp, ret \u001b[38;5;129;01min\u001b[39;00m it:\n\u001b[1;32m   3694\u001b[0m     moist_adiabat_temperatures \u001b[38;5;241m=\u001b[39m moist_lapse(units\u001b[38;5;241m.\u001b[39mQuantity(press, pressure\u001b[38;5;241m.\u001b[39munits),\n\u001b[1;32m   3695\u001b[0m                                              units\u001b[38;5;241m.\u001b[39mQuantity(ltemp, lcl_temp\u001b[38;5;241m.\u001b[39munits),\n\u001b[1;32m   3696\u001b[0m                                              units\u001b[38;5;241m.\u001b[39mQuantity(lpress, lcl_press\u001b[38;5;241m.\u001b[39munits))\n",
      "\u001b[0;31mValueError\u001b[0m: Iteration of zero-sized operands is not enabled"
     ]
    }
   ],
   "source": [
    "ingest_wxt(datetime.datetime(2024,4,30), wxt_global_NEIU, var_attrs_wxt)\n"
   ]
  },
  {
   "cell_type": "code",
   "execution_count": 10,
   "id": "353dd3a5",
   "metadata": {},
   "outputs": [
    {
     "name": "stdout",
     "output_type": "stream",
     "text": [
      "2024-05-01T00:00:00Z\n",
      "2024-05-02T00:00:00Z\n",
      "968790 968790 968790 968790\n"
     ]
    },
    {
     "name": "stderr",
     "output_type": "stream",
     "text": [
      "/var/folders/f4/f3jp1t2x0hddhf4vz50gzlnc0000gn/T/ipykernel_2120/2138274400.py:39: SettingWithCopyWarning: \n",
      "A value is trying to be set on a copy of a slice from a DataFrame.\n",
      "Try using .loc[row_indexer,col_indexer] = value instead\n",
      "\n",
      "See the caveats in the documentation: https://pandas.pydata.org/pandas-docs/stable/user_guide/indexing.html#returning-a-view-versus-a-copy\n",
      "  temps['time'] = pd.DatetimeIndex(temps['timestamp'].values)\n"
     ]
    },
    {
     "name": "stdout",
     "output_type": "stream",
     "text": [
      "968790 968790\n"
     ]
    },
    {
     "name": "stderr",
     "output_type": "stream",
     "text": [
      "/var/folders/f4/f3jp1t2x0hddhf4vz50gzlnc0000gn/T/ipykernel_2120/2138274400.py:55: SettingWithCopyWarning: \n",
      "A value is trying to be set on a copy of a slice from a DataFrame.\n",
      "Try using .loc[row_indexer,col_indexer] = value instead\n",
      "\n",
      "See the caveats in the documentation: https://pandas.pydata.org/pandas-docs/stable/user_guide/indexing.html#returning-a-view-versus-a-copy\n",
      "  speed['time'] = pd.DatetimeIndex(speed['timestamp'].values)\n"
     ]
    }
   ],
   "source": [
    "ingest_wxt(datetime.datetime(2024,5,1), wxt_global_NEIU, var_attrs_wxt)\n"
   ]
  },
  {
   "cell_type": "code",
   "execution_count": 11,
   "id": "796ee782",
   "metadata": {},
   "outputs": [
    {
     "name": "stdout",
     "output_type": "stream",
     "text": [
      "2024-05-02T00:00:00Z\n",
      "2024-05-03T00:00:00Z\n"
     ]
    },
    {
     "ename": "IncompleteRead",
     "evalue": "IncompleteRead(709055527 bytes read)",
     "output_type": "error",
     "traceback": [
      "\u001b[0;31m---------------------------------------------------------------------------\u001b[0m",
      "\u001b[0;31mValueError\u001b[0m                                Traceback (most recent call last)",
      "File \u001b[0;32m~/miniconda3/envs/crocus/lib/python3.11/http/client.py:565\u001b[0m, in \u001b[0;36mHTTPResponse._get_chunk_left\u001b[0;34m(self)\u001b[0m\n\u001b[1;32m    564\u001b[0m \u001b[38;5;28;01mtry\u001b[39;00m:\n\u001b[0;32m--> 565\u001b[0m     chunk_left \u001b[38;5;241m=\u001b[39m \u001b[38;5;28;43mself\u001b[39;49m\u001b[38;5;241;43m.\u001b[39;49m\u001b[43m_read_next_chunk_size\u001b[49m\u001b[43m(\u001b[49m\u001b[43m)\u001b[49m\n\u001b[1;32m    566\u001b[0m \u001b[38;5;28;01mexcept\u001b[39;00m \u001b[38;5;167;01mValueError\u001b[39;00m:\n",
      "File \u001b[0;32m~/miniconda3/envs/crocus/lib/python3.11/http/client.py:532\u001b[0m, in \u001b[0;36mHTTPResponse._read_next_chunk_size\u001b[0;34m(self)\u001b[0m\n\u001b[1;32m    531\u001b[0m \u001b[38;5;28;01mtry\u001b[39;00m:\n\u001b[0;32m--> 532\u001b[0m     \u001b[38;5;28;01mreturn\u001b[39;00m \u001b[38;5;28;43mint\u001b[39;49m\u001b[43m(\u001b[49m\u001b[43mline\u001b[49m\u001b[43m,\u001b[49m\u001b[43m \u001b[49m\u001b[38;5;241;43m16\u001b[39;49m\u001b[43m)\u001b[49m\n\u001b[1;32m    533\u001b[0m \u001b[38;5;28;01mexcept\u001b[39;00m \u001b[38;5;167;01mValueError\u001b[39;00m:\n\u001b[1;32m    534\u001b[0m     \u001b[38;5;66;03m# close the connection as protocol synchronisation is\u001b[39;00m\n\u001b[1;32m    535\u001b[0m     \u001b[38;5;66;03m# probably lost\u001b[39;00m\n",
      "\u001b[0;31mValueError\u001b[0m: invalid literal for int() with base 16: b''",
      "\nDuring handling of the above exception, another exception occurred:\n",
      "\u001b[0;31mIncompleteRead\u001b[0m                            Traceback (most recent call last)",
      "File \u001b[0;32m~/miniconda3/envs/crocus/lib/python3.11/http/client.py:582\u001b[0m, in \u001b[0;36mHTTPResponse._read_chunked\u001b[0;34m(self, amt)\u001b[0m\n\u001b[1;32m    581\u001b[0m \u001b[38;5;28;01mwhile\u001b[39;00m \u001b[38;5;28;01mTrue\u001b[39;00m:\n\u001b[0;32m--> 582\u001b[0m     chunk_left \u001b[38;5;241m=\u001b[39m \u001b[38;5;28;43mself\u001b[39;49m\u001b[38;5;241;43m.\u001b[39;49m\u001b[43m_get_chunk_left\u001b[49m\u001b[43m(\u001b[49m\u001b[43m)\u001b[49m\n\u001b[1;32m    583\u001b[0m     \u001b[38;5;28;01mif\u001b[39;00m chunk_left \u001b[38;5;129;01mis\u001b[39;00m \u001b[38;5;28;01mNone\u001b[39;00m:\n",
      "File \u001b[0;32m~/miniconda3/envs/crocus/lib/python3.11/http/client.py:567\u001b[0m, in \u001b[0;36mHTTPResponse._get_chunk_left\u001b[0;34m(self)\u001b[0m\n\u001b[1;32m    566\u001b[0m \u001b[38;5;28;01mexcept\u001b[39;00m \u001b[38;5;167;01mValueError\u001b[39;00m:\n\u001b[0;32m--> 567\u001b[0m     \u001b[38;5;28;01mraise\u001b[39;00m IncompleteRead(\u001b[38;5;124mb\u001b[39m\u001b[38;5;124m'\u001b[39m\u001b[38;5;124m'\u001b[39m)\n\u001b[1;32m    568\u001b[0m \u001b[38;5;28;01mif\u001b[39;00m chunk_left \u001b[38;5;241m==\u001b[39m \u001b[38;5;241m0\u001b[39m:\n\u001b[1;32m    569\u001b[0m     \u001b[38;5;66;03m# last chunk: 1*(\"0\") [ chunk-extension ] CRLF\u001b[39;00m\n",
      "\u001b[0;31mIncompleteRead\u001b[0m: IncompleteRead(0 bytes read)",
      "\nThe above exception was the direct cause of the following exception:\n",
      "\u001b[0;31mIncompleteRead\u001b[0m                            Traceback (most recent call last)",
      "Cell \u001b[0;32mIn[11], line 1\u001b[0m\n\u001b[0;32m----> 1\u001b[0m \u001b[43mingest_wxt\u001b[49m\u001b[43m(\u001b[49m\u001b[43mdatetime\u001b[49m\u001b[38;5;241;43m.\u001b[39;49m\u001b[43mdatetime\u001b[49m\u001b[43m(\u001b[49m\u001b[38;5;241;43m2024\u001b[39;49m\u001b[43m,\u001b[49m\u001b[38;5;241;43m5\u001b[39;49m\u001b[43m,\u001b[49m\u001b[38;5;241;43m2\u001b[39;49m\u001b[43m)\u001b[49m\u001b[43m,\u001b[49m\u001b[43m \u001b[49m\u001b[43mwxt_global_NEIU\u001b[49m\u001b[43m,\u001b[49m\u001b[43m \u001b[49m\u001b[43mvar_attrs_wxt\u001b[49m\u001b[43m)\u001b[49m\n",
      "Cell \u001b[0;32mIn[3], line 7\u001b[0m, in \u001b[0;36mingest_wxt\u001b[0;34m(st, global_attrs, var_attrs)\u001b[0m\n\u001b[1;32m      5\u001b[0m \u001b[38;5;28mprint\u001b[39m(start)\n\u001b[1;32m      6\u001b[0m \u001b[38;5;28mprint\u001b[39m(end)\n\u001b[0;32m----> 7\u001b[0m df_temp \u001b[38;5;241m=\u001b[39m \u001b[43msage_data_client\u001b[49m\u001b[38;5;241;43m.\u001b[39;49m\u001b[43mquery\u001b[49m\u001b[43m(\u001b[49m\u001b[43mstart\u001b[49m\u001b[38;5;241;43m=\u001b[39;49m\u001b[43mstart\u001b[49m\u001b[43m,\u001b[49m\n\u001b[1;32m      8\u001b[0m \u001b[43m                                 \u001b[49m\u001b[43mend\u001b[49m\u001b[38;5;241;43m=\u001b[39;49m\u001b[43mend\u001b[49m\u001b[43m,\u001b[49m\u001b[43m \u001b[49m\n\u001b[1;32m      9\u001b[0m \u001b[43m                                    \u001b[49m\u001b[38;5;28;43mfilter\u001b[39;49m\u001b[38;5;241;43m=\u001b[39;49m\u001b[43m{\u001b[49m\n\u001b[1;32m     10\u001b[0m \u001b[43m                                        \u001b[49m\u001b[38;5;124;43m\"\u001b[39;49m\u001b[38;5;124;43mname\u001b[39;49m\u001b[38;5;124;43m\"\u001b[39;49m\u001b[43m \u001b[49m\u001b[43m:\u001b[49m\u001b[43m \u001b[49m\u001b[38;5;124;43m'\u001b[39;49m\u001b[38;5;124;43mwxt.env.temp|wxt.env.humidity|wxt.env.pressure|wxt.rain.accumulation\u001b[39;49m\u001b[38;5;124;43m'\u001b[39;49m\u001b[43m,\u001b[49m\n\u001b[1;32m     11\u001b[0m \u001b[43m                                        \u001b[49m\u001b[38;5;124;43m\"\u001b[39;49m\u001b[38;5;124;43mplugin\u001b[39;49m\u001b[38;5;124;43m\"\u001b[39;49m\u001b[43m \u001b[49m\u001b[43m:\u001b[49m\u001b[43m \u001b[49m\u001b[43mglobal_attrs\u001b[49m\u001b[43m[\u001b[49m\u001b[38;5;124;43m'\u001b[39;49m\u001b[38;5;124;43mplugin\u001b[39;49m\u001b[38;5;124;43m'\u001b[39;49m\u001b[43m]\u001b[49m\u001b[43m,\u001b[49m\n\u001b[1;32m     12\u001b[0m \u001b[43m                                        \u001b[49m\u001b[38;5;124;43m\"\u001b[39;49m\u001b[38;5;124;43mvsn\u001b[39;49m\u001b[38;5;124;43m\"\u001b[39;49m\u001b[43m \u001b[49m\u001b[43m:\u001b[49m\u001b[43m \u001b[49m\u001b[43mglobal_attrs\u001b[49m\u001b[43m[\u001b[49m\u001b[38;5;124;43m'\u001b[39;49m\u001b[38;5;124;43mWSN\u001b[39;49m\u001b[38;5;124;43m'\u001b[39;49m\u001b[43m]\u001b[49m\u001b[43m,\u001b[49m\n\u001b[1;32m     13\u001b[0m \u001b[43m                                        \u001b[49m\u001b[38;5;124;43m\"\u001b[39;49m\u001b[38;5;124;43msensor\u001b[39;49m\u001b[38;5;124;43m\"\u001b[39;49m\u001b[43m \u001b[49m\u001b[43m:\u001b[49m\u001b[43m \u001b[49m\u001b[38;5;124;43m\"\u001b[39;49m\u001b[38;5;124;43mvaisala-wxt536\u001b[39;49m\u001b[38;5;124;43m\"\u001b[39;49m\n\u001b[1;32m     14\u001b[0m \u001b[43m                                    \u001b[49m\u001b[43m}\u001b[49m\n\u001b[1;32m     15\u001b[0m \u001b[43m\u001b[49m\u001b[43m)\u001b[49m\n\u001b[1;32m     16\u001b[0m winds \u001b[38;5;241m=\u001b[39m sage_data_client\u001b[38;5;241m.\u001b[39mquery(start\u001b[38;5;241m=\u001b[39mstart,\n\u001b[1;32m     17\u001b[0m                                  end\u001b[38;5;241m=\u001b[39mend, \n\u001b[1;32m     18\u001b[0m                                     \u001b[38;5;28mfilter\u001b[39m\u001b[38;5;241m=\u001b[39m{\n\u001b[0;32m   (...)\u001b[0m\n\u001b[1;32m     23\u001b[0m                                     }\n\u001b[1;32m     24\u001b[0m )\n\u001b[1;32m     26\u001b[0m hums \u001b[38;5;241m=\u001b[39m df_temp[df_temp[\u001b[38;5;124m'\u001b[39m\u001b[38;5;124mname\u001b[39m\u001b[38;5;124m'\u001b[39m]\u001b[38;5;241m==\u001b[39m\u001b[38;5;124m'\u001b[39m\u001b[38;5;124mwxt.env.humidity\u001b[39m\u001b[38;5;124m'\u001b[39m]\n",
      "File \u001b[0;32m~/miniconda3/envs/crocus/lib/python3.11/site-packages/sage_data_client/query.py:91\u001b[0m, in \u001b[0;36mquery\u001b[0;34m(start, end, head, tail, bucket, filter, endpoint)\u001b[0m\n\u001b[1;32m     89\u001b[0m request_body \u001b[38;5;241m=\u001b[39m json\u001b[38;5;241m.\u001b[39mdumps(q)\u001b[38;5;241m.\u001b[39mencode()\n\u001b[1;32m     90\u001b[0m \u001b[38;5;28;01mwith\u001b[39;00m urlopen(endpoint, request_body) \u001b[38;5;28;01mas\u001b[39;00m f:\n\u001b[0;32m---> 91\u001b[0m     \u001b[38;5;28;01mreturn\u001b[39;00m \u001b[43mload\u001b[49m\u001b[43m(\u001b[49m\u001b[43mf\u001b[49m\u001b[43m)\u001b[49m\n",
      "File \u001b[0;32m~/miniconda3/envs/crocus/lib/python3.11/site-packages/sage_data_client/query.py:132\u001b[0m, in \u001b[0;36mload\u001b[0;34m(path_or_buf)\u001b[0m\n\u001b[1;32m     94\u001b[0m \u001b[38;5;28;01mdef\u001b[39;00m \u001b[38;5;21mload\u001b[39m(path_or_buf) \u001b[38;5;241m-\u001b[39m\u001b[38;5;241m>\u001b[39m pd\u001b[38;5;241m.\u001b[39mDataFrame:\n\u001b[1;32m     95\u001b[0m     \u001b[38;5;124;03m\"\"\"\u001b[39;00m\n\u001b[1;32m     96\u001b[0m \u001b[38;5;124;03m    load reads a path or file like object containing a response from the data api and returns the results in a data frame.\u001b[39;00m\n\u001b[1;32m     97\u001b[0m \n\u001b[0;32m   (...)\u001b[0m\n\u001b[1;32m    130\u001b[0m \u001b[38;5;124;03m    ```\u001b[39;00m\n\u001b[1;32m    131\u001b[0m \u001b[38;5;124;03m    \"\"\"\u001b[39;00m\n\u001b[0;32m--> 132\u001b[0m     df \u001b[38;5;241m=\u001b[39m \u001b[43mpd\u001b[49m\u001b[38;5;241;43m.\u001b[39;49m\u001b[43mread_json\u001b[49m\u001b[43m(\u001b[49m\u001b[43mpath_or_buf\u001b[49m\u001b[43m,\u001b[49m\u001b[43m \u001b[49m\u001b[43mlines\u001b[49m\u001b[38;5;241;43m=\u001b[39;49m\u001b[38;5;28;43;01mTrue\u001b[39;49;00m\u001b[43m,\u001b[49m\u001b[43m \u001b[49m\u001b[43mdate_unit\u001b[49m\u001b[38;5;241;43m=\u001b[39;49m\u001b[38;5;124;43m\"\u001b[39;49m\u001b[38;5;124;43mns\u001b[39;49m\u001b[38;5;124;43m\"\u001b[39;49m\u001b[43m,\u001b[49m\u001b[43m \u001b[49m\u001b[43mdtype\u001b[49m\u001b[38;5;241;43m=\u001b[39;49m\u001b[43m{\u001b[49m\u001b[38;5;124;43m\"\u001b[39;49m\u001b[38;5;124;43mname\u001b[39;49m\u001b[38;5;124;43m\"\u001b[39;49m\u001b[43m:\u001b[49m\u001b[43m \u001b[49m\u001b[38;5;28;43mstr\u001b[39;49m\u001b[43m}\u001b[49m\u001b[43m)\u001b[49m\n\u001b[1;32m    134\u001b[0m     \u001b[38;5;66;03m# if dataframe is empty, return empty with known columns\u001b[39;00m\n\u001b[1;32m    135\u001b[0m     \u001b[38;5;28;01mif\u001b[39;00m \u001b[38;5;28mlen\u001b[39m(df) \u001b[38;5;241m==\u001b[39m \u001b[38;5;241m0\u001b[39m:\n",
      "File \u001b[0;32m~/miniconda3/envs/crocus/lib/python3.11/site-packages/pandas/util/_decorators.py:211\u001b[0m, in \u001b[0;36mdeprecate_kwarg.<locals>._deprecate_kwarg.<locals>.wrapper\u001b[0;34m(*args, **kwargs)\u001b[0m\n\u001b[1;32m    209\u001b[0m     \u001b[38;5;28;01melse\u001b[39;00m:\n\u001b[1;32m    210\u001b[0m         kwargs[new_arg_name] \u001b[38;5;241m=\u001b[39m new_arg_value\n\u001b[0;32m--> 211\u001b[0m \u001b[38;5;28;01mreturn\u001b[39;00m \u001b[43mfunc\u001b[49m\u001b[43m(\u001b[49m\u001b[38;5;241;43m*\u001b[39;49m\u001b[43margs\u001b[49m\u001b[43m,\u001b[49m\u001b[43m \u001b[49m\u001b[38;5;241;43m*\u001b[39;49m\u001b[38;5;241;43m*\u001b[39;49m\u001b[43mkwargs\u001b[49m\u001b[43m)\u001b[49m\n",
      "File \u001b[0;32m~/miniconda3/envs/crocus/lib/python3.11/site-packages/pandas/util/_decorators.py:331\u001b[0m, in \u001b[0;36mdeprecate_nonkeyword_arguments.<locals>.decorate.<locals>.wrapper\u001b[0;34m(*args, **kwargs)\u001b[0m\n\u001b[1;32m    325\u001b[0m \u001b[38;5;28;01mif\u001b[39;00m \u001b[38;5;28mlen\u001b[39m(args) \u001b[38;5;241m>\u001b[39m num_allow_args:\n\u001b[1;32m    326\u001b[0m     warnings\u001b[38;5;241m.\u001b[39mwarn(\n\u001b[1;32m    327\u001b[0m         msg\u001b[38;5;241m.\u001b[39mformat(arguments\u001b[38;5;241m=\u001b[39m_format_argument_list(allow_args)),\n\u001b[1;32m    328\u001b[0m         \u001b[38;5;167;01mFutureWarning\u001b[39;00m,\n\u001b[1;32m    329\u001b[0m         stacklevel\u001b[38;5;241m=\u001b[39mfind_stack_level(),\n\u001b[1;32m    330\u001b[0m     )\n\u001b[0;32m--> 331\u001b[0m \u001b[38;5;28;01mreturn\u001b[39;00m \u001b[43mfunc\u001b[49m\u001b[43m(\u001b[49m\u001b[38;5;241;43m*\u001b[39;49m\u001b[43margs\u001b[49m\u001b[43m,\u001b[49m\u001b[43m \u001b[49m\u001b[38;5;241;43m*\u001b[39;49m\u001b[38;5;241;43m*\u001b[39;49m\u001b[43mkwargs\u001b[49m\u001b[43m)\u001b[49m\n",
      "File \u001b[0;32m~/miniconda3/envs/crocus/lib/python3.11/site-packages/pandas/io/json/_json.py:733\u001b[0m, in \u001b[0;36mread_json\u001b[0;34m(path_or_buf, orient, typ, dtype, convert_axes, convert_dates, keep_default_dates, numpy, precise_float, date_unit, encoding, encoding_errors, lines, chunksize, compression, nrows, storage_options)\u001b[0m\n\u001b[1;32m    730\u001b[0m \u001b[38;5;28;01mif\u001b[39;00m convert_axes \u001b[38;5;129;01mis\u001b[39;00m \u001b[38;5;28;01mNone\u001b[39;00m \u001b[38;5;129;01mand\u001b[39;00m orient \u001b[38;5;241m!=\u001b[39m \u001b[38;5;124m\"\u001b[39m\u001b[38;5;124mtable\u001b[39m\u001b[38;5;124m\"\u001b[39m:\n\u001b[1;32m    731\u001b[0m     convert_axes \u001b[38;5;241m=\u001b[39m \u001b[38;5;28;01mTrue\u001b[39;00m\n\u001b[0;32m--> 733\u001b[0m json_reader \u001b[38;5;241m=\u001b[39m \u001b[43mJsonReader\u001b[49m\u001b[43m(\u001b[49m\n\u001b[1;32m    734\u001b[0m \u001b[43m    \u001b[49m\u001b[43mpath_or_buf\u001b[49m\u001b[43m,\u001b[49m\n\u001b[1;32m    735\u001b[0m \u001b[43m    \u001b[49m\u001b[43morient\u001b[49m\u001b[38;5;241;43m=\u001b[39;49m\u001b[43morient\u001b[49m\u001b[43m,\u001b[49m\n\u001b[1;32m    736\u001b[0m \u001b[43m    \u001b[49m\u001b[43mtyp\u001b[49m\u001b[38;5;241;43m=\u001b[39;49m\u001b[43mtyp\u001b[49m\u001b[43m,\u001b[49m\n\u001b[1;32m    737\u001b[0m \u001b[43m    \u001b[49m\u001b[43mdtype\u001b[49m\u001b[38;5;241;43m=\u001b[39;49m\u001b[43mdtype\u001b[49m\u001b[43m,\u001b[49m\n\u001b[1;32m    738\u001b[0m \u001b[43m    \u001b[49m\u001b[43mconvert_axes\u001b[49m\u001b[38;5;241;43m=\u001b[39;49m\u001b[43mconvert_axes\u001b[49m\u001b[43m,\u001b[49m\n\u001b[1;32m    739\u001b[0m \u001b[43m    \u001b[49m\u001b[43mconvert_dates\u001b[49m\u001b[38;5;241;43m=\u001b[39;49m\u001b[43mconvert_dates\u001b[49m\u001b[43m,\u001b[49m\n\u001b[1;32m    740\u001b[0m \u001b[43m    \u001b[49m\u001b[43mkeep_default_dates\u001b[49m\u001b[38;5;241;43m=\u001b[39;49m\u001b[43mkeep_default_dates\u001b[49m\u001b[43m,\u001b[49m\n\u001b[1;32m    741\u001b[0m \u001b[43m    \u001b[49m\u001b[43mnumpy\u001b[49m\u001b[38;5;241;43m=\u001b[39;49m\u001b[43mnumpy\u001b[49m\u001b[43m,\u001b[49m\n\u001b[1;32m    742\u001b[0m \u001b[43m    \u001b[49m\u001b[43mprecise_float\u001b[49m\u001b[38;5;241;43m=\u001b[39;49m\u001b[43mprecise_float\u001b[49m\u001b[43m,\u001b[49m\n\u001b[1;32m    743\u001b[0m \u001b[43m    \u001b[49m\u001b[43mdate_unit\u001b[49m\u001b[38;5;241;43m=\u001b[39;49m\u001b[43mdate_unit\u001b[49m\u001b[43m,\u001b[49m\n\u001b[1;32m    744\u001b[0m \u001b[43m    \u001b[49m\u001b[43mencoding\u001b[49m\u001b[38;5;241;43m=\u001b[39;49m\u001b[43mencoding\u001b[49m\u001b[43m,\u001b[49m\n\u001b[1;32m    745\u001b[0m \u001b[43m    \u001b[49m\u001b[43mlines\u001b[49m\u001b[38;5;241;43m=\u001b[39;49m\u001b[43mlines\u001b[49m\u001b[43m,\u001b[49m\n\u001b[1;32m    746\u001b[0m \u001b[43m    \u001b[49m\u001b[43mchunksize\u001b[49m\u001b[38;5;241;43m=\u001b[39;49m\u001b[43mchunksize\u001b[49m\u001b[43m,\u001b[49m\n\u001b[1;32m    747\u001b[0m \u001b[43m    \u001b[49m\u001b[43mcompression\u001b[49m\u001b[38;5;241;43m=\u001b[39;49m\u001b[43mcompression\u001b[49m\u001b[43m,\u001b[49m\n\u001b[1;32m    748\u001b[0m \u001b[43m    \u001b[49m\u001b[43mnrows\u001b[49m\u001b[38;5;241;43m=\u001b[39;49m\u001b[43mnrows\u001b[49m\u001b[43m,\u001b[49m\n\u001b[1;32m    749\u001b[0m \u001b[43m    \u001b[49m\u001b[43mstorage_options\u001b[49m\u001b[38;5;241;43m=\u001b[39;49m\u001b[43mstorage_options\u001b[49m\u001b[43m,\u001b[49m\n\u001b[1;32m    750\u001b[0m \u001b[43m    \u001b[49m\u001b[43mencoding_errors\u001b[49m\u001b[38;5;241;43m=\u001b[39;49m\u001b[43mencoding_errors\u001b[49m\u001b[43m,\u001b[49m\n\u001b[1;32m    751\u001b[0m \u001b[43m\u001b[49m\u001b[43m)\u001b[49m\n\u001b[1;32m    753\u001b[0m \u001b[38;5;28;01mif\u001b[39;00m chunksize:\n\u001b[1;32m    754\u001b[0m     \u001b[38;5;28;01mreturn\u001b[39;00m json_reader\n",
      "File \u001b[0;32m~/miniconda3/envs/crocus/lib/python3.11/site-packages/pandas/io/json/_json.py:819\u001b[0m, in \u001b[0;36mJsonReader.__init__\u001b[0;34m(self, filepath_or_buffer, orient, typ, dtype, convert_axes, convert_dates, keep_default_dates, numpy, precise_float, date_unit, encoding, lines, chunksize, compression, nrows, storage_options, encoding_errors)\u001b[0m\n\u001b[1;32m    816\u001b[0m         \u001b[38;5;28;01mraise\u001b[39;00m \u001b[38;5;167;01mValueError\u001b[39;00m(\u001b[38;5;124m\"\u001b[39m\u001b[38;5;124mnrows can only be passed if lines=True\u001b[39m\u001b[38;5;124m\"\u001b[39m)\n\u001b[1;32m    818\u001b[0m data \u001b[38;5;241m=\u001b[39m \u001b[38;5;28mself\u001b[39m\u001b[38;5;241m.\u001b[39m_get_data_from_filepath(filepath_or_buffer)\n\u001b[0;32m--> 819\u001b[0m \u001b[38;5;28mself\u001b[39m\u001b[38;5;241m.\u001b[39mdata \u001b[38;5;241m=\u001b[39m \u001b[38;5;28;43mself\u001b[39;49m\u001b[38;5;241;43m.\u001b[39;49m\u001b[43m_preprocess_data\u001b[49m\u001b[43m(\u001b[49m\u001b[43mdata\u001b[49m\u001b[43m)\u001b[49m\n",
      "File \u001b[0;32m~/miniconda3/envs/crocus/lib/python3.11/site-packages/pandas/io/json/_json.py:831\u001b[0m, in \u001b[0;36mJsonReader._preprocess_data\u001b[0;34m(self, data)\u001b[0m\n\u001b[1;32m    829\u001b[0m \u001b[38;5;28;01mif\u001b[39;00m \u001b[38;5;28mhasattr\u001b[39m(data, \u001b[38;5;124m\"\u001b[39m\u001b[38;5;124mread\u001b[39m\u001b[38;5;124m\"\u001b[39m) \u001b[38;5;129;01mand\u001b[39;00m \u001b[38;5;129;01mnot\u001b[39;00m (\u001b[38;5;28mself\u001b[39m\u001b[38;5;241m.\u001b[39mchunksize \u001b[38;5;129;01mor\u001b[39;00m \u001b[38;5;28mself\u001b[39m\u001b[38;5;241m.\u001b[39mnrows):\n\u001b[1;32m    830\u001b[0m     \u001b[38;5;28;01mwith\u001b[39;00m \u001b[38;5;28mself\u001b[39m:\n\u001b[0;32m--> 831\u001b[0m         data \u001b[38;5;241m=\u001b[39m data\u001b[38;5;241m.\u001b[39mread()\n\u001b[1;32m    832\u001b[0m \u001b[38;5;28;01mif\u001b[39;00m \u001b[38;5;129;01mnot\u001b[39;00m \u001b[38;5;28mhasattr\u001b[39m(data, \u001b[38;5;124m\"\u001b[39m\u001b[38;5;124mread\u001b[39m\u001b[38;5;124m\"\u001b[39m) \u001b[38;5;129;01mand\u001b[39;00m (\u001b[38;5;28mself\u001b[39m\u001b[38;5;241m.\u001b[39mchunksize \u001b[38;5;129;01mor\u001b[39;00m \u001b[38;5;28mself\u001b[39m\u001b[38;5;241m.\u001b[39mnrows):\n\u001b[1;32m    833\u001b[0m     data \u001b[38;5;241m=\u001b[39m StringIO(data)\n",
      "File \u001b[0;32m~/miniconda3/envs/crocus/lib/python3.11/http/client.py:459\u001b[0m, in \u001b[0;36mHTTPResponse.read\u001b[0;34m(self, amt)\u001b[0m\n\u001b[1;32m    456\u001b[0m     \u001b[38;5;28;01mreturn\u001b[39;00m \u001b[38;5;124mb\u001b[39m\u001b[38;5;124m\"\u001b[39m\u001b[38;5;124m\"\u001b[39m\n\u001b[1;32m    458\u001b[0m \u001b[38;5;28;01mif\u001b[39;00m \u001b[38;5;28mself\u001b[39m\u001b[38;5;241m.\u001b[39mchunked:\n\u001b[0;32m--> 459\u001b[0m     \u001b[38;5;28;01mreturn\u001b[39;00m \u001b[38;5;28;43mself\u001b[39;49m\u001b[38;5;241;43m.\u001b[39;49m\u001b[43m_read_chunked\u001b[49m\u001b[43m(\u001b[49m\u001b[43mamt\u001b[49m\u001b[43m)\u001b[49m\n\u001b[1;32m    461\u001b[0m \u001b[38;5;28;01mif\u001b[39;00m amt \u001b[38;5;129;01mis\u001b[39;00m \u001b[38;5;129;01mnot\u001b[39;00m \u001b[38;5;28;01mNone\u001b[39;00m:\n\u001b[1;32m    462\u001b[0m     \u001b[38;5;28;01mif\u001b[39;00m \u001b[38;5;28mself\u001b[39m\u001b[38;5;241m.\u001b[39mlength \u001b[38;5;129;01mis\u001b[39;00m \u001b[38;5;129;01mnot\u001b[39;00m \u001b[38;5;28;01mNone\u001b[39;00m \u001b[38;5;129;01mand\u001b[39;00m amt \u001b[38;5;241m>\u001b[39m \u001b[38;5;28mself\u001b[39m\u001b[38;5;241m.\u001b[39mlength:\n\u001b[1;32m    463\u001b[0m         \u001b[38;5;66;03m# clip the read to the \"end of response\"\u001b[39;00m\n",
      "File \u001b[0;32m~/miniconda3/envs/crocus/lib/python3.11/http/client.py:597\u001b[0m, in \u001b[0;36mHTTPResponse._read_chunked\u001b[0;34m(self, amt)\u001b[0m\n\u001b[1;32m    595\u001b[0m     \u001b[38;5;28;01mreturn\u001b[39;00m \u001b[38;5;124mb\u001b[39m\u001b[38;5;124m'\u001b[39m\u001b[38;5;124m'\u001b[39m\u001b[38;5;241m.\u001b[39mjoin(value)\n\u001b[1;32m    596\u001b[0m \u001b[38;5;28;01mexcept\u001b[39;00m IncompleteRead \u001b[38;5;28;01mas\u001b[39;00m exc:\n\u001b[0;32m--> 597\u001b[0m     \u001b[38;5;28;01mraise\u001b[39;00m IncompleteRead(\u001b[38;5;124mb\u001b[39m\u001b[38;5;124m'\u001b[39m\u001b[38;5;124m'\u001b[39m\u001b[38;5;241m.\u001b[39mjoin(value)) \u001b[38;5;28;01mfrom\u001b[39;00m \u001b[38;5;21;01mexc\u001b[39;00m\n",
      "\u001b[0;31mIncompleteRead\u001b[0m: IncompleteRead(709055527 bytes read)"
     ]
    }
   ],
   "source": [
    "ingest_wxt(datetime.datetime(2024,5,2), wxt_global_NEIU, var_attrs_wxt)\n"
   ]
  },
  {
   "cell_type": "code",
   "execution_count": null,
   "id": "01312a37",
   "metadata": {},
   "outputs": [],
   "source": [
    "ingest_wxt(datetime.datetime(2024,5,3), wxt_global_NEIU, var_attrs_wxt)\n"
   ]
  },
  {
   "cell_type": "code",
   "execution_count": null,
   "id": "e87573e8",
   "metadata": {},
   "outputs": [],
   "source": [
    "start_date = datetime.datetime(2024,5,1)\n",
    "for i in range(6):\n",
    "    this_date = start_date + datetime.timedelta(days=i)\n",
    "    print(this_date)\n",
    "    try:\n",
    "        ingest_wxt(this_date,  wxt_global_NU, var_attrs_wxt)\n",
    "        print(\"Succeed\")\n",
    "    except:\n",
    "        print(\"Fail\")"
   ]
  },
  {
   "cell_type": "code",
   "execution_count": null,
   "id": "7addcc5e",
   "metadata": {},
   "outputs": [],
   "source": [
    "start_date = datetime.datetime(2024,5,1)\n",
    "for i in range(6):\n",
    "    this_date = start_date + datetime.timedelta(days=i)\n",
    "    print(this_date)\n",
    "    try:\n",
    "        ingest_wxt(this_date,  wxt_global_CSU, var_attrs_wxt)\n",
    "        print(\"Succeed\")\n",
    "    except:\n",
    "        print(\"Fail\")"
   ]
  },
  {
   "cell_type": "code",
   "execution_count": null,
   "id": "8a8fdb29",
   "metadata": {},
   "outputs": [],
   "source": [
    "start_date = datetime.datetime(2024,5,4)\n",
    "for i in range(6):\n",
    "    this_date = start_date + datetime.timedelta(days=i)\n",
    "    print(this_date)\n",
    "    try:\n",
    "        ingest_wxt(this_date,  wxt_global_NEIU, var_attrs_wxt)\n",
    "        print(\"Succeed\")\n",
    "    except:\n",
    "        print(\"Fail\")"
   ]
  },
  {
   "cell_type": "code",
   "execution_count": 5,
   "id": "fc913dfe",
   "metadata": {},
   "outputs": [
    {
     "name": "stdout",
     "output_type": "stream",
     "text": [
      "2024-04-30T00:00:00Z\n",
      "2024-05-01T00:00:00Z\n",
      "1042487 1042487 1042487 1042487\n"
     ]
    },
    {
     "name": "stderr",
     "output_type": "stream",
     "text": [
      "/var/folders/f4/f3jp1t2x0hddhf4vz50gzlnc0000gn/T/ipykernel_73008/2138274400.py:39: SettingWithCopyWarning: \n",
      "A value is trying to be set on a copy of a slice from a DataFrame.\n",
      "Try using .loc[row_indexer,col_indexer] = value instead\n",
      "\n",
      "See the caveats in the documentation: https://pandas.pydata.org/pandas-docs/stable/user_guide/indexing.html#returning-a-view-versus-a-copy\n",
      "  temps['time'] = pd.DatetimeIndex(temps['timestamp'].values)\n"
     ]
    },
    {
     "name": "stdout",
     "output_type": "stream",
     "text": [
      "1042487 1042487\n"
     ]
    },
    {
     "name": "stderr",
     "output_type": "stream",
     "text": [
      "/var/folders/f4/f3jp1t2x0hddhf4vz50gzlnc0000gn/T/ipykernel_73008/2138274400.py:55: SettingWithCopyWarning: \n",
      "A value is trying to be set on a copy of a slice from a DataFrame.\n",
      "Try using .loc[row_indexer,col_indexer] = value instead\n",
      "\n",
      "See the caveats in the documentation: https://pandas.pydata.org/pandas-docs/stable/user_guide/indexing.html#returning-a-view-versus-a-copy\n",
      "  speed['time'] = pd.DatetimeIndex(speed['timestamp'].values)\n"
     ]
    },
    {
     "name": "stdout",
     "output_type": "stream",
     "text": [
      "2024-04-30T00:00:00Z\n",
      "2024-05-01T00:00:00Z\n",
      "0 0 0 0\n",
      "0 0\n"
     ]
    },
    {
     "ename": "ValueError",
     "evalue": "Iteration of zero-sized operands is not enabled",
     "output_type": "error",
     "traceback": [
      "\u001b[0;31m---------------------------------------------------------------------------\u001b[0m",
      "\u001b[0;31mValueError\u001b[0m                                Traceback (most recent call last)",
      "Cell \u001b[0;32mIn[5], line 3\u001b[0m\n\u001b[1;32m      1\u001b[0m \u001b[38;5;66;03m#ingest_wxt(datetime.datetime(2023,6,29), wxt_global_NEIU, var_attrs_wxt)\u001b[39;00m\n\u001b[1;32m      2\u001b[0m ingest_wxt(datetime\u001b[38;5;241m.\u001b[39mdatetime(\u001b[38;5;241m2024\u001b[39m,\u001b[38;5;241m4\u001b[39m,\u001b[38;5;241m30\u001b[39m), wxt_global_NU, var_attrs_wxt)\n\u001b[0;32m----> 3\u001b[0m \u001b[43mingest_wxt\u001b[49m\u001b[43m(\u001b[49m\u001b[43mdatetime\u001b[49m\u001b[38;5;241;43m.\u001b[39;49m\u001b[43mdatetime\u001b[49m\u001b[43m(\u001b[49m\u001b[38;5;241;43m2024\u001b[39;49m\u001b[43m,\u001b[49m\u001b[38;5;241;43m4\u001b[39;49m\u001b[43m,\u001b[49m\u001b[38;5;241;43m30\u001b[39;49m\u001b[43m)\u001b[49m\u001b[43m,\u001b[49m\u001b[43m \u001b[49m\u001b[43mwxt_global_NEIU\u001b[49m\u001b[43m,\u001b[49m\u001b[43m \u001b[49m\u001b[43mvar_attrs_wxt\u001b[49m\u001b[43m)\u001b[49m\n\u001b[1;32m      4\u001b[0m ingest_wxt(datetime\u001b[38;5;241m.\u001b[39mdatetime(\u001b[38;5;241m2024\u001b[39m,\u001b[38;5;241m4\u001b[39m,\u001b[38;5;241m30\u001b[39m), wxt_global_CSU, var_attrs_wxt)\n",
      "Cell \u001b[0;32mIn[3], line 68\u001b[0m, in \u001b[0;36mingest_wxt\u001b[0;34m(st, global_attrs, var_attrs)\u001b[0m\n\u001b[1;32m     66\u001b[0m vals[\u001b[38;5;124m'\u001b[39m\u001b[38;5;124mdewpoint\u001b[39m\u001b[38;5;124m'\u001b[39m] \u001b[38;5;241m=\u001b[39m dp\n\u001b[1;32m     67\u001b[0m vals10 \u001b[38;5;241m=\u001b[39m vals\u001b[38;5;241m.\u001b[39mresample(\u001b[38;5;124m'\u001b[39m\u001b[38;5;124m10S\u001b[39m\u001b[38;5;124m'\u001b[39m)\u001b[38;5;241m.\u001b[39mmean(numeric_only\u001b[38;5;241m=\u001b[39m\u001b[38;5;28;01mTrue\u001b[39;00m)\u001b[38;5;241m.\u001b[39mffill() \u001b[38;5;66;03m#ffil gets rid of nans due to empty resample periods\u001b[39;00m\n\u001b[0;32m---> 68\u001b[0m wb \u001b[38;5;241m=\u001b[39m \u001b[43mwet_bulb_temperature\u001b[49m\u001b[43m(\u001b[49m\u001b[43mvals10\u001b[49m\u001b[38;5;241;43m.\u001b[39;49m\u001b[43mpressure\u001b[49m\u001b[38;5;241;43m.\u001b[39;49m\u001b[43mto_numpy\u001b[49m\u001b[43m(\u001b[49m\u001b[43m)\u001b[49m\u001b[43m \u001b[49m\u001b[38;5;241;43m*\u001b[39;49m\u001b[43m \u001b[49m\u001b[43munits\u001b[49m\u001b[38;5;241;43m.\u001b[39;49m\u001b[43mhPa\u001b[49m\u001b[43m,\u001b[49m\n\u001b[1;32m     69\u001b[0m \u001b[43m                          \u001b[49m\u001b[43mvals10\u001b[49m\u001b[38;5;241;43m.\u001b[39;49m\u001b[43mtemperature\u001b[49m\u001b[38;5;241;43m.\u001b[39;49m\u001b[43mto_numpy\u001b[49m\u001b[43m(\u001b[49m\u001b[43m)\u001b[49m\u001b[43m \u001b[49m\u001b[38;5;241;43m*\u001b[39;49m\u001b[43m \u001b[49m\u001b[43munits\u001b[49m\u001b[38;5;241;43m.\u001b[39;49m\u001b[43mdegC\u001b[49m\u001b[43m,\u001b[49m\n\u001b[1;32m     70\u001b[0m \u001b[43m                          \u001b[49m\u001b[43mvals10\u001b[49m\u001b[38;5;241;43m.\u001b[39;49m\u001b[43mdewpoint\u001b[49m\u001b[38;5;241;43m.\u001b[39;49m\u001b[43mto_numpy\u001b[49m\u001b[43m(\u001b[49m\u001b[43m)\u001b[49m\u001b[43m \u001b[49m\u001b[38;5;241;43m*\u001b[39;49m\u001b[43m \u001b[49m\u001b[43munits\u001b[49m\u001b[38;5;241;43m.\u001b[39;49m\u001b[43mdegC\u001b[49m\u001b[43m)\u001b[49m\n\u001b[1;32m     72\u001b[0m vals10[\u001b[38;5;124m'\u001b[39m\u001b[38;5;124mwetbulb\u001b[39m\u001b[38;5;124m'\u001b[39m] \u001b[38;5;241m=\u001b[39m wb\n\u001b[1;32m     73\u001b[0m vals10[\u001b[38;5;124m'\u001b[39m\u001b[38;5;124mwind_dir_10s\u001b[39m\u001b[38;5;124m'\u001b[39m] \u001b[38;5;241m=\u001b[39m winds10mean[\u001b[38;5;124m'\u001b[39m\u001b[38;5;124mdirection\u001b[39m\u001b[38;5;124m'\u001b[39m]\n",
      "File \u001b[0;32m~/miniconda3/envs/crocus/lib/python3.11/site-packages/metpy/xarray.py:1329\u001b[0m, in \u001b[0;36mpreprocess_and_wrap.<locals>.decorator.<locals>.wrapper\u001b[0;34m(*args, **kwargs)\u001b[0m\n\u001b[1;32m   1326\u001b[0m     _mutate_arguments(bound_args, units\u001b[38;5;241m.\u001b[39mQuantity, \u001b[38;5;28;01mlambda\u001b[39;00m arg, _: arg\u001b[38;5;241m.\u001b[39mm)\n\u001b[1;32m   1328\u001b[0m \u001b[38;5;66;03m# Evaluate inner calculation\u001b[39;00m\n\u001b[0;32m-> 1329\u001b[0m result \u001b[38;5;241m=\u001b[39m \u001b[43mfunc\u001b[49m\u001b[43m(\u001b[49m\u001b[38;5;241;43m*\u001b[39;49m\u001b[43mbound_args\u001b[49m\u001b[38;5;241;43m.\u001b[39;49m\u001b[43margs\u001b[49m\u001b[43m,\u001b[49m\u001b[43m \u001b[49m\u001b[38;5;241;43m*\u001b[39;49m\u001b[38;5;241;43m*\u001b[39;49m\u001b[43mbound_args\u001b[49m\u001b[38;5;241;43m.\u001b[39;49m\u001b[43mkwargs\u001b[49m\u001b[43m)\u001b[49m\n\u001b[1;32m   1331\u001b[0m \u001b[38;5;66;03m# Wrap output based on match and match_unit\u001b[39;00m\n\u001b[1;32m   1332\u001b[0m \u001b[38;5;28;01mif\u001b[39;00m match \u001b[38;5;129;01mis\u001b[39;00m \u001b[38;5;28;01mNone\u001b[39;00m:\n",
      "File \u001b[0;32m~/miniconda3/envs/crocus/lib/python3.11/site-packages/metpy/units.py:320\u001b[0m, in \u001b[0;36mcheck_units.<locals>.dec.<locals>.wrapper\u001b[0;34m(*args, **kwargs)\u001b[0m\n\u001b[1;32m    317\u001b[0m \u001b[38;5;129m@functools\u001b[39m\u001b[38;5;241m.\u001b[39mwraps(func)\n\u001b[1;32m    318\u001b[0m \u001b[38;5;28;01mdef\u001b[39;00m \u001b[38;5;21mwrapper\u001b[39m(\u001b[38;5;241m*\u001b[39margs, \u001b[38;5;241m*\u001b[39m\u001b[38;5;241m*\u001b[39mkwargs):\n\u001b[1;32m    319\u001b[0m     _check_units_inner_helper(func, sig, defaults, dims, \u001b[38;5;241m*\u001b[39margs, \u001b[38;5;241m*\u001b[39m\u001b[38;5;241m*\u001b[39mkwargs)\n\u001b[0;32m--> 320\u001b[0m     \u001b[38;5;28;01mreturn\u001b[39;00m \u001b[43mfunc\u001b[49m\u001b[43m(\u001b[49m\u001b[38;5;241;43m*\u001b[39;49m\u001b[43margs\u001b[49m\u001b[43m,\u001b[49m\u001b[43m \u001b[49m\u001b[38;5;241;43m*\u001b[39;49m\u001b[38;5;241;43m*\u001b[39;49m\u001b[43mkwargs\u001b[49m\u001b[43m)\u001b[49m\n",
      "File \u001b[0;32m~/miniconda3/envs/crocus/lib/python3.11/site-packages/metpy/calc/thermo.py:3689\u001b[0m, in \u001b[0;36mwet_bulb_temperature\u001b[0;34m(pressure, temperature, dewpoint)\u001b[0m\n\u001b[1;32m   3685\u001b[0m     dewpoint \u001b[38;5;241m=\u001b[39m np\u001b[38;5;241m.\u001b[39matleast_1d(dewpoint)\n\u001b[1;32m   3687\u001b[0m lcl_press, lcl_temp \u001b[38;5;241m=\u001b[39m lcl(pressure, temperature, dewpoint)\n\u001b[0;32m-> 3689\u001b[0m it \u001b[38;5;241m=\u001b[39m \u001b[43mnp\u001b[49m\u001b[38;5;241;43m.\u001b[39;49m\u001b[43mnditer\u001b[49m\u001b[43m(\u001b[49m\u001b[43m[\u001b[49m\u001b[43mpressure\u001b[49m\u001b[38;5;241;43m.\u001b[39;49m\u001b[43mmagnitude\u001b[49m\u001b[43m,\u001b[49m\u001b[43m \u001b[49m\u001b[43mlcl_press\u001b[49m\u001b[38;5;241;43m.\u001b[39;49m\u001b[43mmagnitude\u001b[49m\u001b[43m,\u001b[49m\u001b[43m \u001b[49m\u001b[43mlcl_temp\u001b[49m\u001b[38;5;241;43m.\u001b[39;49m\u001b[43mmagnitude\u001b[49m\u001b[43m,\u001b[49m\u001b[43m \u001b[49m\u001b[38;5;28;43;01mNone\u001b[39;49;00m\u001b[43m]\u001b[49m\u001b[43m,\u001b[49m\n\u001b[1;32m   3690\u001b[0m \u001b[43m               \u001b[49m\u001b[43mop_dtypes\u001b[49m\u001b[38;5;241;43m=\u001b[39;49m\u001b[43m[\u001b[49m\u001b[38;5;124;43m'\u001b[39;49m\u001b[38;5;124;43mfloat\u001b[39;49m\u001b[38;5;124;43m'\u001b[39;49m\u001b[43m,\u001b[49m\u001b[43m \u001b[49m\u001b[38;5;124;43m'\u001b[39;49m\u001b[38;5;124;43mfloat\u001b[39;49m\u001b[38;5;124;43m'\u001b[39;49m\u001b[43m,\u001b[49m\u001b[43m \u001b[49m\u001b[38;5;124;43m'\u001b[39;49m\u001b[38;5;124;43mfloat\u001b[39;49m\u001b[38;5;124;43m'\u001b[39;49m\u001b[43m,\u001b[49m\u001b[43m \u001b[49m\u001b[38;5;124;43m'\u001b[39;49m\u001b[38;5;124;43mfloat\u001b[39;49m\u001b[38;5;124;43m'\u001b[39;49m\u001b[43m]\u001b[49m\u001b[43m,\u001b[49m\n\u001b[1;32m   3691\u001b[0m \u001b[43m               \u001b[49m\u001b[43mflags\u001b[49m\u001b[38;5;241;43m=\u001b[39;49m\u001b[43m[\u001b[49m\u001b[38;5;124;43m'\u001b[39;49m\u001b[38;5;124;43mbuffered\u001b[39;49m\u001b[38;5;124;43m'\u001b[39;49m\u001b[43m]\u001b[49m\u001b[43m)\u001b[49m\n\u001b[1;32m   3693\u001b[0m \u001b[38;5;28;01mfor\u001b[39;00m press, lpress, ltemp, ret \u001b[38;5;129;01min\u001b[39;00m it:\n\u001b[1;32m   3694\u001b[0m     moist_adiabat_temperatures \u001b[38;5;241m=\u001b[39m moist_lapse(units\u001b[38;5;241m.\u001b[39mQuantity(press, pressure\u001b[38;5;241m.\u001b[39munits),\n\u001b[1;32m   3695\u001b[0m                                              units\u001b[38;5;241m.\u001b[39mQuantity(ltemp, lcl_temp\u001b[38;5;241m.\u001b[39munits),\n\u001b[1;32m   3696\u001b[0m                                              units\u001b[38;5;241m.\u001b[39mQuantity(lpress, lcl_press\u001b[38;5;241m.\u001b[39munits))\n",
      "\u001b[0;31mValueError\u001b[0m: Iteration of zero-sized operands is not enabled"
     ]
    }
   ],
   "source": [
    "#ingest_wxt(datetime.datetime(2023,6,29), wxt_global_NEIU, var_attrs_wxt)\n",
    "ingest_wxt(datetime.datetime(2024,4,30), wxt_global_NU, var_attrs_wxt)\n",
    "ingest_wxt(datetime.datetime(2024,4,30), wxt_global_NEIU, var_attrs_wxt)\n",
    "ingest_wxt(datetime.datetime(2024,4,30), wxt_global_CSU, var_attrs_wxt)\n"
   ]
  },
  {
   "cell_type": "code",
   "execution_count": null,
   "id": "29ce6033",
   "metadata": {},
   "outputs": [],
   "source": [
    "! rm /Users/scollis/data/wxt/CMS_wxt536_NEIU_a1_20230612_000000Z.nc\n"
   ]
  },
  {
   "cell_type": "code",
   "execution_count": null,
   "id": "c7f4df54",
   "metadata": {},
   "outputs": [],
   "source": []
  }
 ],
 "metadata": {
  "kernelspec": {
   "display_name": "Python 3 (ipykernel)",
   "language": "python",
   "name": "python3"
  },
  "language_info": {
   "codemirror_mode": {
    "name": "ipython",
    "version": 3
   },
   "file_extension": ".py",
   "mimetype": "text/x-python",
   "name": "python",
   "nbconvert_exporter": "python",
   "pygments_lexer": "ipython3",
   "version": "3.11.0"
  }
 },
 "nbformat": 4,
 "nbformat_minor": 5
}
