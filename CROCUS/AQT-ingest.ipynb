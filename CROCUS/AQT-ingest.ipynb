{
 "cells": [
  {
   "cell_type": "code",
   "execution_count": 8,
   "id": "f81dd508",
   "metadata": {},
   "outputs": [],
   "source": [
    "import sage_data_client\n",
    "import matplotlib.pyplot as plt\n",
    "import pandas as pd\n",
    "from metpy.calc import dewpoint_from_relative_humidity, wet_bulb_temperature\n",
    "from metpy.units import units\n",
    "from PIL import Image\n",
    "import numpy as np\n",
    "import datetime\n",
    "import xarray as xr\n",
    "import os\n",
    "\n",
    "from matplotlib.dates import DateFormatter"
   ]
  },
  {
   "cell_type": "code",
   "execution_count": 12,
   "id": "5c670552",
   "metadata": {},
   "outputs": [],
   "source": [
    "aqt_global_ATMOS = {'conventions': \"CF 1.10\",\n",
    "                  'WSN':'W0A4',\n",
    "                   'site_ID' : \"ATMOS\",\n",
    "                  'CAMS_tag' : \"CMS-AQT-006\",\n",
    "                  'datastream' : \"CMS_aqt580_ATMOS_a1\",\n",
    "                  'plugin' : \"registry.sagecontinuum.org/jrobrien/waggle-aqt:0.*\",\n",
    "                  'datalevel' : \"a1\",\n",
    "                  'latitude' : 41.7016264,\n",
    "                  'longitude' : -87.9956515}\n",
    "\n",
    "\n",
    "aqt_global_UIC = {'conventions': \"CF 1.10\",\n",
    "              'WSN':'W096',\n",
    "               'site_ID' : \"UIC\",\n",
    "              'CAMS_tag' : \"CMS-AQT-011\",\n",
    "              'datastream' : \"CMS_aqt580_UIC_a1\",\n",
    "              'plugin' :  \"registry.sagecontinuum.org/jrobrien/waggle-aqt:0.*\",\n",
    "              'datalevel' : \"a1\",\n",
    "              'latitude' : 41.869407936,\n",
    "              'longitude' : -87.645806251}\n",
    "\n",
    "\n",
    "aqt_global_NEIU = {'conventions': \"CF 1.10\",\n",
    "                   'site_ID' : \"NEIU\",\n",
    "                  'CAMS_tag' : \"CMS-AQT-001\",\n",
    "                  'datastream' : \"CMS_aqt580_NEIU_a1\",\n",
    "                  'datalevel' : \"a1\",\n",
    "                   'WSN' : 'W08D',\n",
    "                   'plugin' : 'registry.sagecontinuum.org/jrobrien/waggle-aqt:0.*',\n",
    "                  'latitude' : 41.9804526,\n",
    "                  'longitude' : -87.7196038}\n",
    "\n",
    "aqt_global_CSU = {'conventions': \"CF 1.10\",\n",
    "                   'site_ID' : \"CSU\",\n",
    "                  'CAMS_tag' : \"CMS-AQT-002\",\n",
    "                  'datastream' : \"CMS_aqt580_CSU_a1\",\n",
    "                  'datalevel' : \"a1\",\n",
    "                   'WSN' : 'W08E',\n",
    "                   'plugin' : 'registry.sagecontinuum.org/jrobrien/waggle-aqt:0.*',\n",
    "                   'latitude' : 41.71991216,\n",
    "                  'longitude' : -87.612834722}\n",
    "\n",
    "aqt_global_NU = {'conventions': \"CF 1.10\",\n",
    "                   'site_ID' : \"NU\",\n",
    "                  'CAMS_tag' : \"CMS-AQT-003\",\n",
    "                  'datastream' : \"CMS_aqt580_NU_a1\",\n",
    "                  'datalevel' : \"a1\",\n",
    "                   'WSN' : 'W099',\n",
    "                   'plugin' : 'registry.sagecontinuum.org/jrobrien/waggle-aqt:0.*',\n",
    "                    'latitude' : 42.051469749,\n",
    "                  'longitude' : -87.677667183}\n",
    "\n",
    "\n",
    "\n",
    "var_attrs_aqt = {'pm2.5' : {'standard_name' : 'mole_concentration_of_pm2p5_ambient_aerosol_particles_in_air',\n",
    "                       'units' : 'ug/m^3'},\n",
    "            'pm10.0' : {'standard_name' : 'mole_concentration_of_pm10p0_ambient_aerosol_particles_in_air',\n",
    "                       'units' : 'ug/m^3'},\n",
    "            'pm1.0' : {'standard_name' : 'mole_concentration_of_pm1p0_ambient_aerosol_particles_in_air',\n",
    "                       'units' : 'ug/m^3'},\n",
    "                'no' : {'standard_name' : 'mole_fraction_of_nitrogen_monoxide_in_air',\n",
    "                       'units' : 'Parts Per Million'},\n",
    "                'o3' : {'standard_name' : 'mole_fraction_of_ozone_in_air',\n",
    "                       'units' : 'Parts Per Million'},\n",
    "                'co' : {'standard_name' : 'mole_fraction_of_carbon_monoxide_in_air',\n",
    "                       'units' : 'Parts Per Million'},\n",
    "                'no2' : {'standard_name' : 'mole_fraction_of_nitrogen_dioxide_in_air',\n",
    "                       'units' : 'Parts Per Million'},\n",
    "                'temperature': {'standard_name' : 'air_temperature',\n",
    "                       'units' : 'celsius'},\n",
    "                'humidity': {'standard_name' : 'relative_humidity',\n",
    "                       'units' : 'percent'},\n",
    "                'dewpoint': {'standard_name' : 'dew_point_temperature',\n",
    "                       'units' : 'celsius'},\n",
    "                'pressure': {'standard_name' : 'air_pressure',\n",
    "                       'units' : 'hPa'}}\n"
   ]
  },
  {
   "cell_type": "code",
   "execution_count": 13,
   "id": "2b2b4224",
   "metadata": {},
   "outputs": [],
   "source": [
    "def ingest_aqt(st, global_attrs, var_attrs):\n",
    "    hours = 24\n",
    "    start = st.strftime('%Y-%m-%dT%H:%M:%SZ')\n",
    "    end = (st + datetime.timedelta(hours=hours)).strftime('%Y-%m-%dT%H:%M:%SZ')\n",
    "\n",
    "    df_aq = sage_data_client.query(\n",
    "        start=start,\n",
    "        end=end, \n",
    "        filter={\n",
    "            \"plugin\": global_attrs['plugin'],\n",
    "            \"vsn\": global_attrs['WSN']\n",
    "        }\n",
    "    )\n",
    "\n",
    "    pm25 = df_aq[df_aq['name']=='aqt.particle.pm2.5']\n",
    "    pm10 = df_aq[df_aq['name']=='aqt.particle.pm1']\n",
    "    pm100 = df_aq[df_aq['name']=='aqt.particle.pm10']\n",
    "\n",
    "    no = df_aq[df_aq['name']=='aqt.gas.no']\n",
    "    o3 = df_aq[df_aq['name']=='aqt.gas.ozone']\n",
    "    no2 = df_aq[df_aq['name']=='aqt.gas.no2']\n",
    "    co = df_aq[df_aq['name']=='aqt.gas.co']\n",
    "    aqtemp = df_aq[df_aq['name']=='aqt.env.temp']\n",
    "    aqhum = df_aq[df_aq['name']=='aqt.env.humidity']\n",
    "    aqpres = df_aq[df_aq['name']=='aqt.env.pressure']\n",
    "\n",
    "\n",
    "    pm25['time'] = pd.DatetimeIndex(pm25['timestamp'].values)\n",
    "\n",
    "    aqvals = pm25.set_index('time')\n",
    "    aqvals['pm2.5'] = aqvals.value.to_numpy().astype(float)\n",
    "    aqvals['pm1.0'] = pm10.value.to_numpy().astype(float)\n",
    "    aqvals['pm10.0'] = pm100.value.to_numpy().astype(float)\n",
    "\n",
    "    aqvals['no'] = no.value.to_numpy().astype(float)\n",
    "    aqvals['o3'] = o3.value.to_numpy().astype(float)\n",
    "    aqvals['no2'] = no2.value.to_numpy().astype(float)\n",
    "    aqvals['co'] = co.value.to_numpy().astype(float)\n",
    "    aqvals['temperature'] =  aqtemp.value.to_numpy().astype(float)\n",
    "    aqvals['humidity'] =  aqhum.value.to_numpy().astype(float)\n",
    "    aqvals['pressure'] =  aqpres.value.to_numpy().astype(float)\n",
    "    \n",
    "    \n",
    "\n",
    "\n",
    "    dp = dewpoint_from_relative_humidity( aqvals.temperature.to_numpy() * units.degC, \n",
    "                                         aqvals.humidity.to_numpy() * units.percent)\n",
    "\n",
    "    aqvals['dewpoint'] = dp\n",
    "\n",
    "    _ = aqvals.pop('value')\n",
    "    _ = aqvals.pop('timestamp')\n",
    "    \n",
    "    end_fname = st.strftime('_%Y%m%d_%H%M%SZ.nc')\n",
    "    start_fname = '/Users/scollis/data/aqt/CMS_AQT580_' + global_attrs['site_ID'] + '_' + global_attrs['datalevel']\n",
    "    fname = start_fname + end_fname\n",
    "\n",
    "    \n",
    "    #fname = st.strftime('/Users/scollis/data/aqt/CMS_aqt580_NEIU_a1_%Y%m%d_%H%M%SZ.nc')\n",
    "    valsxr = xr.Dataset.from_dataframe(aqvals)\n",
    "    valsxr = valsxr.sortby('time')\n",
    "    \n",
    "    \n",
    "    valsxr = valsxr.assign_attrs(global_attrs)\n",
    "    \n",
    "    for varname in var_attrs.keys():\n",
    "        valsxr[varname] = valsxr[varname].assign_attrs(var_attrs[varname])\n",
    "    \n",
    "    try:\n",
    "        os.remove(fname)\n",
    "    except OSError:\n",
    "        pass\n",
    "    \n",
    "    if valsxr['pm2.5'].shape[0] > 0:\n",
    "        valsxr.to_netcdf(fname)\n",
    "    else:\n",
    "        print('not saving... no data')\n",
    "    \n",
    "    #return valsxr\n",
    "\n"
   ]
  },
  {
   "cell_type": "code",
   "execution_count": 22,
   "id": "86306b69",
   "metadata": {},
   "outputs": [
    {
     "name": "stderr",
     "output_type": "stream",
     "text": [
      "/var/folders/f4/f3jp1t2x0hddhf4vz50gzlnc0000gn/T/ipykernel_31031/3766339791.py:28: SettingWithCopyWarning: \n",
      "A value is trying to be set on a copy of a slice from a DataFrame.\n",
      "Try using .loc[row_indexer,col_indexer] = value instead\n",
      "\n",
      "See the caveats in the documentation: https://pandas.pydata.org/pandas-docs/stable/user_guide/indexing.html#returning-a-view-versus-a-copy\n",
      "  pm25['time'] = pd.DatetimeIndex(pm25['timestamp'].values)\n"
     ]
    }
   ],
   "source": [
    "\n",
    "ingest_aqt(datetime.datetime(2024,7,1), aqt_global_UIC, var_attrs_aqt)\n"
   ]
  },
  {
   "cell_type": "code",
   "execution_count": 4,
   "id": "e36f833a",
   "metadata": {},
   "outputs": [
    {
     "ename": "NameError",
     "evalue": "name 'datetime' is not defined",
     "output_type": "error",
     "traceback": [
      "\u001b[0;31m---------------------------------------------------------------------------\u001b[0m",
      "\u001b[0;31mNameError\u001b[0m                                 Traceback (most recent call last)",
      "Cell \u001b[0;32mIn[4], line 1\u001b[0m\n\u001b[0;32m----> 1\u001b[0m start_date \u001b[38;5;241m=\u001b[39m datetime\u001b[38;5;241m.\u001b[39mdatetime(\u001b[38;5;241m2024\u001b[39m,\u001b[38;5;241m5\u001b[39m,\u001b[38;5;241m10\u001b[39m)\n\u001b[1;32m      2\u001b[0m \u001b[38;5;28;01mfor\u001b[39;00m i \u001b[38;5;129;01min\u001b[39;00m \u001b[38;5;28mrange\u001b[39m(\u001b[38;5;241m13\u001b[39m):\n\u001b[1;32m      3\u001b[0m     this_date \u001b[38;5;241m=\u001b[39m start_date \u001b[38;5;241m+\u001b[39m datetime\u001b[38;5;241m.\u001b[39mtimedelta(days\u001b[38;5;241m=\u001b[39mi)\n",
      "\u001b[0;31mNameError\u001b[0m: name 'datetime' is not defined"
     ]
    }
   ],
   "source": [
    "start_date = datetime.datetime(2024,5,10)\n",
    "for i in range(13):\n",
    "    this_date = start_date + datetime.timedelta(days=i)\n",
    "    print(this_date)\n",
    "    try:\n",
    "        ingest_aqt(this_date, aqt_global_NU, var_attrs_aqt)\n",
    "        print(\"Succeed\")\n",
    "    except:\n",
    "        print(\"Fail\")"
   ]
  },
  {
   "cell_type": "code",
   "execution_count": 5,
   "id": "8824e938",
   "metadata": {},
   "outputs": [
    {
     "ename": "NameError",
     "evalue": "name 'datetime' is not defined",
     "output_type": "error",
     "traceback": [
      "\u001b[0;31m---------------------------------------------------------------------------\u001b[0m",
      "\u001b[0;31mNameError\u001b[0m                                 Traceback (most recent call last)",
      "Cell \u001b[0;32mIn[5], line 1\u001b[0m\n\u001b[0;32m----> 1\u001b[0m t13 \u001b[38;5;241m=\u001b[39m ingest_aqt(datetime\u001b[38;5;241m.\u001b[39mdatetime(\u001b[38;5;241m2023\u001b[39m,\u001b[38;5;241m6\u001b[39m,\u001b[38;5;241m13\u001b[39m))\n",
      "\u001b[0;31mNameError\u001b[0m: name 'datetime' is not defined"
     ]
    }
   ],
   "source": [
    "t13 = ingest_aqt(datetime.datetime(2023,6,13))"
   ]
  },
  {
   "cell_type": "code",
   "execution_count": null,
   "id": "245add7d",
   "metadata": {},
   "outputs": [],
   "source": [
    "t14 = ingest_aqt(datetime.datetime(2023,6,14))"
   ]
  },
  {
   "cell_type": "code",
   "execution_count": null,
   "id": "23eb0312",
   "metadata": {},
   "outputs": [],
   "source": [
    "! rm /Users/scollis/data/aqt/CMS_aqt580_NEIU_a1_20230614_000000Z.nc"
   ]
  },
  {
   "cell_type": "code",
   "execution_count": null,
   "id": "9b964a8a",
   "metadata": {},
   "outputs": [],
   "source": [
    "bob = t14['pm1.0']"
   ]
  },
  {
   "cell_type": "code",
   "execution_count": null,
   "id": "d0cfe2b4",
   "metadata": {},
   "outputs": [],
   "source": [
    "t14['pm1.0'] = t14['pm1.0'].assign_attrs({'units': 'bananas'})"
   ]
  },
  {
   "cell_type": "code",
   "execution_count": null,
   "id": "523c20c7",
   "metadata": {},
   "outputs": [],
   "source": [
    "t14['pm1.0'].assign_attrs?"
   ]
  },
  {
   "cell_type": "code",
   "execution_count": null,
   "id": "0ffe23f1",
   "metadata": {},
   "outputs": [],
   "source": [
    "t14"
   ]
  },
  {
   "cell_type": "code",
   "execution_count": null,
   "id": "23193651",
   "metadata": {},
   "outputs": [],
   "source": [
    "t13['hum'].plot()"
   ]
  },
  {
   "cell_type": "markdown",
   "id": "0004d190",
   "metadata": {},
   "source": [
    ":command_line = \"sonde_ingest -s sgp -f C1\" ;\n",
    "\t\t:Conventions = \"ARM-1.2\" ;\n",
    "\t\t:process_version = \"ingest-sonde-10.14-1.el7\" ;\n",
    "\t\t:dod_version = \"sondewnpn-b1-2.3\" ;\n",
    "\t\t:input_source = \"/data/collection/sgp/sgpsondeC1.00/good.2023APR221134.parsed\" ;\n",
    "\t\t:site_id = \"sgp\" ;\n",
    "\t\t:platform_id = \"sondewnpn\" ;\n",
    "\t\t:facility_id = \"C1\" ;\n",
    "\t\t:data_level = \"b1\" ;\n",
    "\t\t:location_description = \"Southern Great Plains (SGP), Lamont, Oklahoma\" ;\n",
    "\t\t:datastream = \"sgpsondewnpnC1.b1\" ;\n",
    "\t\t:sample_int = \"1.2 seconds\" ;\n",
    "\t\t:averaging_int = \"None\" ;\n",
    "\t\t:serial_number = \"T2710383\" ;\n",
    "\t\t:ingest_software = \"ingest-sonde-10.14-1.el7\" ;"
   ]
  }
 ],
 "metadata": {
  "kernelspec": {
   "display_name": "Python 3 (ipykernel)",
   "language": "python",
   "name": "python3"
  },
  "language_info": {
   "codemirror_mode": {
    "name": "ipython",
    "version": 3
   },
   "file_extension": ".py",
   "mimetype": "text/x-python",
   "name": "python",
   "nbconvert_exporter": "python",
   "pygments_lexer": "ipython3",
   "version": "3.11.0"
  }
 },
 "nbformat": 4,
 "nbformat_minor": 5
}
