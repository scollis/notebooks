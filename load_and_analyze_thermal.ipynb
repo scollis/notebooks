{
 "cells": [
  {
   "cell_type": "code",
   "execution_count": 2,
   "metadata": {},
   "outputs": [],
   "source": [
    "import cv2\n",
    "from matplotlib import pyplot as plt\n",
    "import time\n",
    "import numpy as np\n",
    "import datetime\n",
    "import pandas as pd \n",
    "import gc\n",
    "import pickle\n",
    "import requests\n",
    "from requests.auth import HTTPBasicAuth, HTTPDigestAuth\n",
    "import os\n",
    "\n",
    "%matplotlib inline"
   ]
  },
  {
   "cell_type": "code",
   "execution_count": 40,
   "metadata": {},
   "outputs": [],
   "source": [
    "idr = '/Users/scollis/scratch/data'\n",
    "all_files = os.listdir(idr)"
   ]
  },
  {
   "cell_type": "code",
   "execution_count": 41,
   "metadata": {},
   "outputs": [],
   "source": [
    "jansnow = []\n",
    "for file in all_files:\n",
    "    if 'jan' in file:\n",
    "        jansnow.append(file)"
   ]
  },
  {
   "cell_type": "code",
   "execution_count": 42,
   "metadata": {},
   "outputs": [],
   "source": [
    "jansnow.sort()"
   ]
  },
  {
   "cell_type": "code",
   "execution_count": 43,
   "metadata": {},
   "outputs": [
    {
     "data": {
      "text/plain": [
       "['jansnow_data_20210125_151714.npy',\n",
       " 'jansnow_data_20210125_151802.npy',\n",
       " 'jansnow_data_20210125_151850.npy',\n",
       " 'jansnow_data_20210125_151939.npy',\n",
       " 'jansnow_data_20210125_152027.npy',\n",
       " 'jansnow_data_20210125_152115.npy',\n",
       " 'jansnow_data_20210125_152203.npy',\n",
       " 'jansnow_data_20210125_152251.npy',\n",
       " 'jansnow_data_20210125_152339.npy',\n",
       " 'jansnow_data_20210125_152427.npy',\n",
       " 'jansnow_data_20210125_152515.npy',\n",
       " 'jansnow_data_20210125_152603.npy',\n",
       " 'jansnow_data_20210125_152651.npy',\n",
       " 'jansnow_data_20210125_152739.npy',\n",
       " 'jansnow_data_20210125_152827.npy',\n",
       " 'jansnow_data_20210125_152916.npy',\n",
       " 'jansnow_data_20210125_153004.npy',\n",
       " 'jansnow_data_20210125_153052.npy',\n",
       " 'jansnow_data_20210125_153140.npy',\n",
       " 'jansnow_data_20210125_153227.npy',\n",
       " 'jansnow_data_20210125_153316.npy',\n",
       " 'jansnow_data_20210125_153404.npy',\n",
       " 'jansnow_data_20210125_153452.npy',\n",
       " 'jansnow_data_20210125_153540.npy',\n",
       " 'jansnow_data_20210125_153628.npy',\n",
       " 'jansnow_data_20210125_153716.npy',\n",
       " 'jansnow_data_20210125_153804.npy',\n",
       " 'jansnow_data_20210125_153852.npy',\n",
       " 'jansnow_data_20210125_153940.npy',\n",
       " 'jansnow_data_20210125_154028.npy',\n",
       " 'jansnow_data_20210125_154116.npy',\n",
       " 'jansnow_data_20210125_154204.npy',\n",
       " 'jansnow_data_20210125_154253.npy',\n",
       " 'jansnow_data_20210125_154341.npy',\n",
       " 'jansnow_data_20210125_154429.npy',\n",
       " 'jansnow_data_20210125_154517.npy',\n",
       " 'jansnow_data_20210125_154605.npy',\n",
       " 'jansnow_data_20210125_154653.npy',\n",
       " 'jansnow_data_20210125_154741.npy',\n",
       " 'jansnow_data_20210125_154829.npy',\n",
       " 'jansnow_data_20210125_154917.npy',\n",
       " 'jansnow_data_20210125_155005.npy',\n",
       " 'jansnow_data_20210125_155053.npy',\n",
       " 'jansnow_data_20210125_155141.npy',\n",
       " 'jansnow_data_20210125_155229.npy',\n",
       " 'jansnow_data_20210125_155317.npy',\n",
       " 'jansnow_data_20210125_155405.npy',\n",
       " 'jansnow_data_20210125_155453.npy',\n",
       " 'jansnow_data_20210125_155541.npy',\n",
       " 'jansnow_data_20210125_155630.npy',\n",
       " 'jansnow_data_20210125_155718.npy',\n",
       " 'jansnow_data_20210125_155806.npy',\n",
       " 'jansnow_data_20210125_155854.npy',\n",
       " 'jansnow_data_20210125_155942.npy',\n",
       " 'jansnow_data_20210125_160030.npy',\n",
       " 'jansnow_data_20210125_160118.npy',\n",
       " 'jansnow_data_20210125_160206.npy',\n",
       " 'jansnow_data_20210125_160254.npy',\n",
       " 'jansnow_data_20210125_160342.npy',\n",
       " 'jansnow_data_20210125_160430.npy',\n",
       " 'jansnow_data_20210125_160518.npy',\n",
       " 'jansnow_data_20210125_160606.npy',\n",
       " 'jansnow_data_20210125_160654.npy',\n",
       " 'jansnow_data_20210125_160742.npy',\n",
       " 'jansnow_data_20210125_160830.npy',\n",
       " 'jansnow_data_20210125_160918.npy',\n",
       " 'jansnow_data_20210125_161007.npy',\n",
       " 'jansnow_data_20210125_161055.npy',\n",
       " 'jansnow_data_20210125_161143.npy',\n",
       " 'jansnow_data_20210125_161231.npy',\n",
       " 'jansnow_data_20210125_161319.npy',\n",
       " 'jansnow_data_20210125_161407.npy',\n",
       " 'jansnow_data_20210125_161455.npy',\n",
       " 'jansnow_data_20210125_161543.npy',\n",
       " 'jansnow_data_20210125_161631.npy',\n",
       " 'jansnow_data_20210125_161719.npy',\n",
       " 'jansnow_data_20210125_161807.npy',\n",
       " 'jansnow_data_20210125_161855.npy',\n",
       " 'jansnow_data_20210125_161943.npy',\n",
       " 'jansnow_data_20210125_162031.npy',\n",
       " 'jansnow_data_20210125_162119.npy',\n",
       " 'jansnow_data_20210125_162207.npy',\n",
       " 'jansnow_data_20210125_162255.npy',\n",
       " 'jansnow_data_20210125_162344.npy',\n",
       " 'jansnow_data_20210125_162432.npy',\n",
       " 'jansnow_data_20210125_162520.npy',\n",
       " 'jansnow_data_20210125_162608.npy',\n",
       " 'jansnow_data_20210125_162656.npy',\n",
       " 'jansnow_data_20210125_162744.npy',\n",
       " 'jansnow_data_20210125_162832.npy',\n",
       " 'jansnow_data_20210125_162920.npy',\n",
       " 'jansnow_data_20210125_163008.npy',\n",
       " 'jansnow_data_20210125_163056.npy',\n",
       " 'jansnow_data_20210125_163144.npy',\n",
       " 'jansnow_data_20210125_163232.npy',\n",
       " 'jansnow_data_20210125_163320.npy',\n",
       " 'jansnow_data_20210125_163408.npy',\n",
       " 'jansnow_data_20210125_163456.npy',\n",
       " 'jansnow_data_20210125_163544.npy',\n",
       " 'jansnow_data_20210125_163632.npy',\n",
       " 'jansnow_data_20210125_163721.npy',\n",
       " 'jansnow_data_20210125_163809.npy',\n",
       " 'jansnow_data_20210125_163857.npy',\n",
       " 'jansnow_data_20210125_163945.npy',\n",
       " 'jansnow_data_20210125_164033.npy',\n",
       " 'jansnow_data_20210125_164121.npy',\n",
       " 'jansnow_data_20210125_164209.npy',\n",
       " 'jansnow_data_20210125_164257.npy',\n",
       " 'jansnow_data_20210125_164345.npy',\n",
       " 'jansnow_data_20210125_164433.npy',\n",
       " 'jansnow_data_20210125_164521.npy',\n",
       " 'jansnow_data_20210125_164609.npy',\n",
       " 'jansnow_data_20210125_164657.npy',\n",
       " 'jansnow_data_20210125_164745.npy',\n",
       " 'jansnow_data_20210125_164833.npy',\n",
       " 'jansnow_data_20210125_164921.npy',\n",
       " 'jansnow_data_20210125_165010.npy',\n",
       " 'jansnow_data_20210125_165058.npy',\n",
       " 'jansnow_data_20210125_165146.npy',\n",
       " 'jansnow_data_20210125_165234.npy',\n",
       " 'jansnow_data_20210125_165322.npy',\n",
       " 'jansnow_data_20210125_165410.npy',\n",
       " 'jansnow_data_20210125_165458.npy',\n",
       " 'jansnow_data_20210125_165535.npy',\n",
       " 'jansnow_data_20210125_165617.npy',\n",
       " 'jansnow_data_20210125_165705.npy',\n",
       " 'jansnow_data_20210125_165753.npy',\n",
       " 'jansnow_data_20210125_165841.npy',\n",
       " 'jansnow_data_20210125_165929.npy',\n",
       " 'jansnow_data_20210125_170017.npy',\n",
       " 'jansnow_data_20210125_170105.npy',\n",
       " 'jansnow_data_20210125_170153.npy',\n",
       " 'jansnow_data_20210125_170242.npy',\n",
       " 'jansnow_data_20210125_170329.npy',\n",
       " 'jansnow_data_20210125_170418.npy',\n",
       " 'jansnow_data_20210125_170506.npy',\n",
       " 'jansnow_data_20210125_170554.npy',\n",
       " 'jansnow_data_20210125_170642.npy',\n",
       " 'jansnow_data_20210125_170730.npy',\n",
       " 'jansnow_data_20210125_170818.npy',\n",
       " 'jansnow_data_20210125_170906.npy',\n",
       " 'jansnow_data_20210125_170954.npy',\n",
       " 'jansnow_data_20210125_171042.npy',\n",
       " 'jansnow_data_20210125_171130.npy',\n",
       " 'jansnow_data_20210125_171218.npy',\n",
       " 'jansnow_data_20210125_171306.npy',\n",
       " 'jansnow_data_20210125_171355.npy',\n",
       " 'jansnow_data_20210125_171442.npy',\n",
       " 'jansnow_data_20210125_171530.npy',\n",
       " 'jansnow_data_20210125_171618.npy',\n",
       " 'jansnow_data_20210125_171706.npy',\n",
       " 'jansnow_data_20210125_171755.npy',\n",
       " 'jansnow_data_20210125_171843.npy',\n",
       " 'jansnow_data_20210125_171931.npy',\n",
       " 'jansnow_data_20210125_172019.npy',\n",
       " 'jansnow_data_20210125_172107.npy',\n",
       " 'jansnow_data_20210125_172155.npy',\n",
       " 'jansnow_data_20210125_172243.npy',\n",
       " 'jansnow_data_20210125_172331.npy',\n",
       " 'jansnow_data_20210125_172419.npy',\n",
       " 'jansnow_data_20210125_172507.npy',\n",
       " 'jansnow_data_20210125_172555.npy',\n",
       " 'jansnow_data_20210125_172643.npy',\n",
       " 'jansnow_data_20210125_172732.npy',\n",
       " 'jansnow_data_20210125_172820.npy',\n",
       " 'jansnow_data_20210125_172907.npy',\n",
       " 'jansnow_data_20210125_172955.npy',\n",
       " 'jansnow_data_20210125_173043.npy',\n",
       " 'jansnow_data_20210125_173132.npy',\n",
       " 'jansnow_data_20210125_173220.npy',\n",
       " 'jansnow_data_20210125_173308.npy',\n",
       " 'jansnow_data_20210125_173356.npy',\n",
       " 'jansnow_data_20210125_173444.npy',\n",
       " 'jansnow_data_20210125_173532.npy',\n",
       " 'jansnow_data_20210125_173620.npy',\n",
       " 'jansnow_data_20210125_173708.npy',\n",
       " 'jansnow_data_20210125_173756.npy',\n",
       " 'jansnow_data_20210125_173844.npy',\n",
       " 'jansnow_data_20210125_173932.npy']"
      ]
     },
     "execution_count": 43,
     "metadata": {},
     "output_type": "execute_result"
    }
   ],
   "source": [
    "jansnow"
   ]
  },
  {
   "cell_type": "code",
   "execution_count": 44,
   "metadata": {},
   "outputs": [],
   "source": [
    "tms, fr, nf, dt, ems, bees = np.load(os.path.join(idr,jansnow[0]), allow_pickle=True)"
   ]
  },
  {
   "cell_type": "code",
   "execution_count": 45,
   "metadata": {},
   "outputs": [
    {
     "data": {
      "text/plain": [
       "array([-7.04736842, -8.66666667, -8.29166667, -7.1       , -6.56190476])"
      ]
     },
     "execution_count": 45,
     "metadata": {},
     "output_type": "execute_result"
    }
   ],
   "source": [
    "bees"
   ]
  },
  {
   "cell_type": "code",
   "execution_count": 46,
   "metadata": {},
   "outputs": [
    {
     "data": {
      "text/plain": [
       "array([[ 20.,  20.,  20., ...,  20.,  20.,  20.],\n",
       "       [ 20.,  20.,  20., ...,  20.,  20.,  20.],\n",
       "       [ 20.,  20.,  20., ...,  20.,  20.,  20.],\n",
       "       ...,\n",
       "       [117., 118., 121., ..., 118., 118., 118.],\n",
       "       [123., 125., 125., ..., 118., 118., 118.],\n",
       "       [128., 129., 128., ..., 118., 118., 118.]])"
      ]
     },
     "execution_count": 46,
     "metadata": {},
     "output_type": "execute_result"
    }
   ],
   "source": [
    "(fr[3]-bees[3])/ems[3]"
   ]
  },
  {
   "cell_type": "code",
   "execution_count": 47,
   "metadata": {},
   "outputs": [],
   "source": [
    "image_data = np.zeros((len(jansnow), fr[3].shape[0], fr[3].shape[1]))"
   ]
  },
  {
   "cell_type": "code",
   "execution_count": 48,
   "metadata": {},
   "outputs": [],
   "source": [
    "intercepts = np.zeros(len(jansnow))\n",
    "gradients = np.zeros(len(jansnow))\n",
    "times = np.empty(len(jansnow), dtype=datetime.datetime)"
   ]
  },
  {
   "cell_type": "code",
   "execution_count": 58,
   "metadata": {},
   "outputs": [],
   "source": [
    "for i in range(len(jansnow)):\n",
    "    tms, fr, nf, dt, ems, bees = np.load(os.path.join(idr,jansnow[i]), allow_pickle=True)\n",
    "    image_data[i,:] = (fr[3]-bees[3])/ems[3]\n",
    "    times[i] = tms[3]\n",
    "    gradients[i] = ems[3]\n",
    "    intercepts[i] = bees[3]"
   ]
  },
  {
   "cell_type": "code",
   "execution_count": null,
   "metadata": {},
   "outputs": [],
   "source": []
  },
  {
   "cell_type": "code",
   "execution_count": 59,
   "metadata": {},
   "outputs": [
    {
     "data": {
      "text/plain": [
       "(179, 480, 640)"
      ]
     },
     "execution_count": 59,
     "metadata": {},
     "output_type": "execute_result"
    }
   ],
   "source": [
    "(len(jansnow), fr[3].shape[0], fr[3].shape[1])"
   ]
  },
  {
   "cell_type": "code",
   "execution_count": 60,
   "metadata": {},
   "outputs": [
    {
     "data": {
      "text/plain": [
       "[<matplotlib.lines.Line2D at 0x7fe3f9f51450>]"
      ]
     },
     "execution_count": 60,
     "metadata": {},
     "output_type": "execute_result"
    },
    {
     "data": {
      "image/png": "[encoded data removed]",
      "text/plain": [
       "<Figure size 432x288 with 1 Axes>"
      ]
     },
     "metadata": {
      "needs_background": "light"
     },
     "output_type": "display_data"
    }
   ],
   "source": [
    "plt.plot(image_data.mean(axis=1).mean(axis=1))"
   ]
  },
  {
   "cell_type": "code",
   "execution_count": 62,
   "metadata": {},
   "outputs": [
    {
     "data": {
      "text/plain": [
       "[<matplotlib.lines.Line2D at 0x7fe3e9725290>]"
      ]
     },
     "execution_count": 62,
     "metadata": {},
     "output_type": "execute_result"
    },
    {
     "data": {
      "image/png": "[encoded data removed]",
      "text/plain": [
       "<Figure size 432x288 with 1 Axes>"
      ]
     },
     "metadata": {
      "needs_background": "light"
     },
     "output_type": "display_data"
    }
   ],
   "source": [
    "plt.plot(gradients)"
   ]
  },
  {
   "cell_type": "code",
   "execution_count": null,
   "metadata": {},
   "outputs": [],
   "source": []
  }
 ],
 "metadata": {
  "kernelspec": {
   "display_name": "Python 3",
   "language": "python",
   "name": "python3"
  },
  "language_info": {
   "codemirror_mode": {
    "name": "ipython",
    "version": 3
   },
   "file_extension": ".py",
   "mimetype": "text/x-python",
   "name": "python",
   "nbconvert_exporter": "python",
   "pygments_lexer": "ipython3",
   "version": "3.7.9"
  }
 },
 "nbformat": 4,
 "nbformat_minor": 4
}
