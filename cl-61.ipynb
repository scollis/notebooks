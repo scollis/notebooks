{
 "cells": [
  {
   "cell_type": "code",
   "execution_count": 1,
   "id": "5df182e5",
   "metadata": {},
   "outputs": [],
   "source": []
  },
  {
   "cell_type": "code",
   "execution_count": 1,
   "id": "8a148b67",
   "metadata": {},
   "outputs": [
    {
     "name": "stdout",
     "output_type": "stream",
     "text": [
      "\n",
      "## You are using the Python ARM Radar Toolkit (Py-ART), an open source\n",
      "## library for working with weather radar data. Py-ART is partly\n",
      "## supported by the U.S. Department of Energy as part of the Atmospheric\n",
      "## Radiation Measurement (ARM) Climate Research Facility, an Office of\n",
      "## Science user facility.\n",
      "##\n",
      "## If you use this software to prepare a publication, please cite:\n",
      "##\n",
      "##     JJ Helmus and SM Collis, JORS 2016, doi: 10.5334/jors.119\n",
      "\n"
     ]
    }
   ],
   "source": [
    "import act\n",
    "import glob\n",
    "import matplotlib.pyplot as plt\n",
    "import matplotlib\n",
    "import pyart\n",
    "import xarray as xr\n",
    "import datetime\n",
    "import numpy as np\n",
    "\n",
    "%matplotlib inline"
   ]
  },
  {
   "cell_type": "code",
   "execution_count": null,
   "id": "42bd28d9",
   "metadata": {},
   "outputs": [],
   "source": [
    "files = glob.glob('../data/cl61/live_197001*')\n",
    "\n",
    "ds = act.io.read_netcdf(files)\n",
    "ds['backscatter'] = ds['p_pol']\n",
    "ds = act.corrections.correct_ceil(ds)\n",
    "\n",
    "# apply range correction\n"
   ]
  },
  {
   "cell_type": "code",
   "execution_count": null,
   "id": "cf8e155e",
   "metadata": {},
   "outputs": [],
   "source": [
    "ds"
   ]
  },
  {
   "cell_type": "code",
   "execution_count": null,
   "id": "54018375",
   "metadata": {},
   "outputs": [],
   "source": [
    "ds['realtime'] = ds.time + (np.datetime64('2023-05-05T15:14:00.000000') - ds.time[0])\n",
    "ds = ds.set_index(time='realtime')\n",
    "# 5 10:14 live_19700101_001100.nc"
   ]
  },
  {
   "cell_type": "code",
   "execution_count": null,
   "id": "d47397b4",
   "metadata": {},
   "outputs": [],
   "source": []
  },
  {
   "cell_type": "code",
   "execution_count": null,
   "id": "aced65f2",
   "metadata": {},
   "outputs": [],
   "source": [
    "ds"
   ]
  },
  {
   "cell_type": "code",
   "execution_count": null,
   "id": "a8d37577",
   "metadata": {},
   "outputs": [],
   "source": [
    "ds['backscatter'] = ds['p_pol']\n",
    "ds = act.corrections.correct_ceil(ds)"
   ]
  },
  {
   "cell_type": "code",
   "execution_count": null,
   "id": "cb8a2fc0",
   "metadata": {},
   "outputs": [],
   "source": [
    "%matplotlib inline\n",
    "figme = plt.figure(figsize=[16,5])\n",
    "ds.backscatter.transpose().plot( cmap=pyart.graph.cm_colorblind.ChaseSpectral, vmin = -8)\n",
    "plt.ylim([0,8000])"
   ]
  },
  {
   "cell_type": "code",
   "execution_count": null,
   "id": "49aeb3f1",
   "metadata": {},
   "outputs": [],
   "source": [
    "%matplotlib inline\n",
    "figme = plt.figure(figsize=[16,5])\n",
    "ds.linear_depol_ratio.transpose().plot( cmap=pyart.graph.cm_colorblind.ChaseSpectral, vmax=.6, vmin=-.2)\n",
    "plt.ylim([0,8000])"
   ]
  },
  {
   "cell_type": "code",
   "execution_count": null,
   "id": "df4e4811",
   "metadata": {},
   "outputs": [],
   "source": []
  },
  {
   "cell_type": "code",
   "execution_count": null,
   "id": "607b389b",
   "metadata": {},
   "outputs": [],
   "source": []
  }
 ],
 "metadata": {
  "kernelspec": {
   "display_name": "Python 3 (ipykernel)",
   "language": "python",
   "name": "python3"
  },
  "language_info": {
   "codemirror_mode": {
    "name": "ipython",
    "version": 3
   },
   "file_extension": ".py",
   "mimetype": "text/x-python",
   "name": "python",
   "nbconvert_exporter": "python",
   "pygments_lexer": "ipython3",
   "version": "3.11.0"
  }
 },
 "nbformat": 4,
 "nbformat_minor": 5
}
