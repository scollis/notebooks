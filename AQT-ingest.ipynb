{
 "cells": [
  {
   "cell_type": "code",
   "execution_count": 1,
   "id": "f81dd508",
   "metadata": {},
   "outputs": [],
   "source": [
    "import sage_data_client\n",
    "import matplotlib.pyplot as plt\n",
    "import pandas as pd\n",
    "from metpy.calc import dewpoint_from_relative_humidity, wet_bulb_temperature\n",
    "from metpy.units import units\n",
    "from PIL import Image\n",
    "import numpy as np\n",
    "import datetime\n",
    "import xarray as xr\n",
    "\n",
    "from matplotlib.dates import DateFormatter"
   ]
  },
  {
   "cell_type": "code",
   "execution_count": 3,
   "id": "f6c1f19b",
   "metadata": {},
   "outputs": [],
   "source": [
    "st = datetime.datetime(2023,6,6)\n",
    "   "
   ]
  },
  {
   "cell_type": "code",
   "execution_count": 28,
   "id": "2b2b4224",
   "metadata": {},
   "outputs": [],
   "source": [
    "def ingest_aqt(st):\n",
    "    hours = 24\n",
    "    start = st.strftime('%Y-%m-%dT%H:%M:%SZ')\n",
    "    end = (st + datetime.timedelta(hours=hours)).strftime('%Y-%m-%dT%H:%M:%SZ')\n",
    "\n",
    "    df_aq = sage_data_client.query(\n",
    "        start=start,\n",
    "        end=end, \n",
    "        filter={\n",
    "            \"plugin\": \"registry.sagecontinuum.org/jrobrien/waggle-aqt:0.23.5.04.*\",\n",
    "            \"vsn\": \"W08D\"\n",
    "        }\n",
    "    )\n",
    "\n",
    "    pm25 = df_aq[df_aq['name']=='aqt.particle.pm2.5']\n",
    "    pm10 = df_aq[df_aq['name']=='aqt.particle.pm1']\n",
    "    pm100 = df_aq[df_aq['name']=='aqt.particle.pm10']\n",
    "\n",
    "    no = df_aq[df_aq['name']=='aqt.gas.no']\n",
    "    o3 = df_aq[df_aq['name']=='aqt.gas.ozone']\n",
    "    no2 = df_aq[df_aq['name']=='aqt.gas.no2']\n",
    "    co = df_aq[df_aq['name']=='aqt.gas.co']\n",
    "    aqtemp = df_aq[df_aq['name']=='aqt.env.temp']\n",
    "    aqhum = df_aq[df_aq['name']=='aqt.env.humidity']\n",
    "\n",
    "\n",
    "    pm25['time'] = pd.DatetimeIndex(pm25['timestamp'].values)\n",
    "\n",
    "    aqvals = pm25.set_index('time')\n",
    "    aqvals['pm2.5'] = aqvals.value.to_numpy().astype(float)\n",
    "    aqvals['pm1.0'] = pm10.value.to_numpy().astype(float)\n",
    "    aqvals['pm10.0'] = pm100.value.to_numpy().astype(float)\n",
    "\n",
    "    aqvals['no'] = no.value.to_numpy().astype(float)\n",
    "    aqvals['o3'] = o3.value.to_numpy().astype(float)\n",
    "    aqvals['no2'] = no2.value.to_numpy().astype(float)\n",
    "    aqvals['co'] = co.value.to_numpy().astype(float)\n",
    "    aqvals['temp'] =  aqtemp.value.to_numpy().astype(float)\n",
    "    aqvals['hum'] =  aqhum.value.to_numpy().astype(float)\n",
    "\n",
    "\n",
    "    dp = dewpoint_from_relative_humidity( aqvals.temp.to_numpy() * units.degC, \n",
    "                                         aqvals.hum.to_numpy() * units.percent)\n",
    "\n",
    "    aqvals['dewpoint'] = dp\n",
    "\n",
    "    _ = aqvals.pop('value')\n",
    "    _ = aqvals.pop('timestamp')\n",
    "    \n",
    "    \n",
    "    fname = st.strftime('/Users/scollis/data/aqt/CMS_aqt580_NEIU_a1_%Y%m%d_%H%M%SZ.nc')\n",
    "    valsxr = xr.Dataset.from_dataframe(aqvals)\n",
    "    if valsxr['pm2.5'].shape[0] > 0:\n",
    "        valsxr.to_netcdf(fname)\n",
    "    else:\n",
    "        print('not saving... no data')\n",
    "\n"
   ]
  },
  {
   "cell_type": "code",
   "execution_count": 65,
   "id": "86306b69",
   "metadata": {},
   "outputs": [
    {
     "name": "stderr",
     "output_type": "stream",
     "text": [
      "/var/folders/f4/f3jp1t2x0hddhf4vz50gzlnc0000gn/T/ipykernel_98993/4276351945.py:27: SettingWithCopyWarning: \n",
      "A value is trying to be set on a copy of a slice from a DataFrame.\n",
      "Try using .loc[row_indexer,col_indexer] = value instead\n",
      "\n",
      "See the caveats in the documentation: https://pandas.pydata.org/pandas-docs/stable/user_guide/indexing.html#returning-a-view-versus-a-copy\n",
      "  pm25['time'] = pd.DatetimeIndex(pm25['timestamp'].values)\n"
     ]
    }
   ],
   "source": [
    "ingest_aqt(datetime.datetime(2023,6,11))"
   ]
  },
  {
   "cell_type": "code",
   "execution_count": 27,
   "id": "c37a66c9",
   "metadata": {},
   "outputs": [
    {
     "data": {
      "text/plain": [
       "True"
      ]
     },
     "execution_count": 27,
     "metadata": {},
     "output_type": "execute_result"
    }
   ],
   "source": [
    "valsxr['pm2.5'].shape[0] > 0"
   ]
  },
  {
   "cell_type": "code",
   "execution_count": 64,
   "id": "a878d64b",
   "metadata": {},
   "outputs": [],
   "source": [
    "! rm /Users/scollis/data/aqt/CMS_aqt580_NEIU_a1_20230611_000000Z.nc"
   ]
  },
  {
   "cell_type": "code",
   "execution_count": null,
   "id": "8824e938",
   "metadata": {},
   "outputs": [],
   "source": []
  }
 ],
 "metadata": {
  "kernelspec": {
   "display_name": "Python 3 (ipykernel)",
   "language": "python",
   "name": "python3"
  },
  "language_info": {
   "codemirror_mode": {
    "name": "ipython",
    "version": 3
   },
   "file_extension": ".py",
   "mimetype": "text/x-python",
   "name": "python",
   "nbconvert_exporter": "python",
   "pygments_lexer": "ipython3",
   "version": "3.11.0"
  }
 },
 "nbformat": 4,
 "nbformat_minor": 5
}
