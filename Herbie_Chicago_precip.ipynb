{
 "cells": [
  {
   "cell_type": "code",
   "execution_count": 38,
   "id": "79a68d4f",
   "metadata": {},
   "outputs": [],
   "source": [
    "%matplotlib inline\n",
    "import matplotlib.pyplot as plt\n",
    "from matplotlib import rc\n",
    "import numpy as np\n",
    "import xarray as xr\n",
    "\n",
    "import random\n",
    "from IPython.display import HTML\n",
    "\n",
    "import cartopy.feature as cfeature\n",
    "\n",
    "from herbie import Herbie_latest, FastHerbie, Herbie\n",
    "from toolbox import EasyMap, pc, ccrs\n",
    "import metpy\n",
    "from metpy.units import units\n",
    "from paint.standard2 import cm_tmp\n",
    "\n",
    "from pyart.graph import cm_colorblind \n",
    "import xmovie\n",
    "# I like Py-ART's colorblind freindly colormaps"
   ]
  },
  {
   "cell_type": "code",
   "execution_count": 45,
   "id": "5c702a35",
   "metadata": {},
   "outputs": [
    {
     "name": "stderr",
     "output_type": "stream",
     "text": [
      "Could not find 7/63 GRIB files.\n"
     ]
    },
    {
     "data": {
      "text/plain": [
       "\u001b[48;2;255;255;255m\u001b[38;2;136;33;27m▌\u001b[0m\u001b[38;2;12;53;118m\u001b[48;2;240;234;210m▌\u001b[38;2;0;0;0m\u001b[1mHerbie\u001b[0m HRRR model \u001b[3msfc\u001b[0m product initialized \u001b[38;2;41;130;13m2023-Jan-15 19:00 UTC\u001b[92m F02\u001b[0m ┊ \u001b[38;2;255;153;0m\u001b[3msource=aws\u001b[0m"
      ]
     },
     "execution_count": 45,
     "metadata": {},
     "output_type": "execute_result"
    }
   ],
   "source": [
    "H = Herbie_latest(model=\"hrrr\", fxx=range(0,10))\n",
    "H"
   ]
  },
  {
   "cell_type": "code",
   "execution_count": 146,
   "id": "82b8be76",
   "metadata": {},
   "outputs": [
    {
     "name": "stdout",
     "output_type": "stream",
     "text": [
      "✅ Found ┊ model=hrrr ┊ \u001b[3mproduct=sfc\u001b[0m ┊ \u001b[38;2;41;130;13m2023-Jan-15 12:00 UTC\u001b[92m F00\u001b[0m ┊ \u001b[38;2;255;153;0m\u001b[3mGRIB2 @ aws\u001b[0m ┊ \u001b[38;2;255;153;0m\u001b[3mIDX @ aws\u001b[0m\n"
     ]
    },
    {
     "data": {
      "text/html": [
       "<div>\n",
       "<style scoped>\n",
       "    .dataframe tbody tr th:only-of-type {\n",
       "        vertical-align: middle;\n",
       "    }\n",
       "\n",
       "    .dataframe tbody tr th {\n",
       "        vertical-align: top;\n",
       "    }\n",
       "\n",
       "    .dataframe thead th {\n",
       "        text-align: right;\n",
       "    }\n",
       "</style>\n",
       "<table border=\"1\" class=\"dataframe\">\n",
       "  <thead>\n",
       "    <tr style=\"text-align: right;\">\n",
       "      <th></th>\n",
       "      <th>grib_message</th>\n",
       "      <th>start_byte</th>\n",
       "      <th>end_byte</th>\n",
       "      <th>range</th>\n",
       "      <th>reference_time</th>\n",
       "      <th>valid_time</th>\n",
       "      <th>variable</th>\n",
       "      <th>level</th>\n",
       "      <th>forecast_time</th>\n",
       "      <th>search_this</th>\n",
       "    </tr>\n",
       "  </thead>\n",
       "  <tbody>\n",
       "    <tr>\n",
       "      <th>83</th>\n",
       "      <td>84</td>\n",
       "      <td>56387812</td>\n",
       "      <td>56388024</td>\n",
       "      <td>56387812-56388024</td>\n",
       "      <td>2023-01-15 12:00:00</td>\n",
       "      <td>2023-01-15 12:00:00</td>\n",
       "      <td>APCP</td>\n",
       "      <td>surface</td>\n",
       "      <td>0-0 day acc fcst</td>\n",
       "      <td>:APCP:surface:0-0 day acc fcst</td>\n",
       "    </tr>\n",
       "  </tbody>\n",
       "</table>\n",
       "</div>"
      ],
      "text/plain": [
       "    grib_message  start_byte  end_byte              range      reference_time  \\\n",
       "83            84    56387812  56388024  56387812-56388024 2023-01-15 12:00:00   \n",
       "\n",
       "            valid_time variable    level     forecast_time  \\\n",
       "83 2023-01-15 12:00:00     APCP  surface  0-0 day acc fcst   \n",
       "\n",
       "                       search_this  \n",
       "83  :APCP:surface:0-0 day acc fcst  "
      ]
     },
     "execution_count": 146,
     "metadata": {},
     "output_type": "execute_result"
    }
   ],
   "source": [
    "H = Herbie(\n",
    "    mt,  # model run date\n",
    "    model=\"hrrr\",  # model name\n",
    "    product=\"sfc\",  # model produce name (model dependent)\n",
    "    fxx=0,  # forecast lead time\n",
    ")\n",
    "H.read_idx(searchString=\":APCP\")"
   ]
  },
  {
   "cell_type": "code",
   "execution_count": 147,
   "id": "815bb261",
   "metadata": {},
   "outputs": [],
   "source": [
    "qstr = '(' \n",
    "nfcst = 47\n",
    "for i in range(nfcst):\n",
    "    if i != nfcst -1:\n",
    "        qstr = qstr +  f':APCP:surface:{i}-{i+1} h*|'\n",
    "    else:\n",
    "        qstr = qstr +  f':APCP:surface:{i}-{i+1} h*)'\n",
    "    "
   ]
  },
  {
   "cell_type": "code",
   "execution_count": 148,
   "id": "be890e50",
   "metadata": {},
   "outputs": [
    {
     "data": {
      "text/plain": [
       "'(:APCP:surface:0-1 h*|:APCP:surface:1-2 h*|:APCP:surface:2-3 h*|:APCP:surface:3-4 h*|:APCP:surface:4-5 h*|:APCP:surface:5-6 h*|:APCP:surface:6-7 h*|:APCP:surface:7-8 h*|:APCP:surface:8-9 h*|:APCP:surface:9-10 h*|:APCP:surface:10-11 h*|:APCP:surface:11-12 h*|:APCP:surface:12-13 h*|:APCP:surface:13-14 h*|:APCP:surface:14-15 h*|:APCP:surface:15-16 h*|:APCP:surface:16-17 h*|:APCP:surface:17-18 h*|:APCP:surface:18-19 h*|:APCP:surface:19-20 h*|:APCP:surface:20-21 h*|:APCP:surface:21-22 h*|:APCP:surface:22-23 h*|:APCP:surface:23-24 h*|:APCP:surface:24-25 h*|:APCP:surface:25-26 h*|:APCP:surface:26-27 h*|:APCP:surface:27-28 h*|:APCP:surface:28-29 h*|:APCP:surface:29-30 h*|:APCP:surface:30-31 h*|:APCP:surface:31-32 h*|:APCP:surface:32-33 h*|:APCP:surface:33-34 h*|:APCP:surface:34-35 h*|:APCP:surface:35-36 h*|:APCP:surface:36-37 h*|:APCP:surface:37-38 h*|:APCP:surface:38-39 h*|:APCP:surface:39-40 h*|:APCP:surface:40-41 h*|:APCP:surface:41-42 h*|:APCP:surface:42-43 h*|:APCP:surface:43-44 h*|:APCP:surface:44-45 h*|:APCP:surface:45-46 h*|:APCP:surface:46-47 h*)'"
      ]
     },
     "execution_count": 148,
     "metadata": {},
     "output_type": "execute_result"
    }
   ],
   "source": [
    "qstr\n"
   ]
  },
  {
   "cell_type": "code",
   "execution_count": 149,
   "id": "4609f334",
   "metadata": {},
   "outputs": [
    {
     "name": "stdout",
     "output_type": "stream",
     "text": [
      "No GRIB messages found. There might be something wrong with searchString='(:APCP:surface:0-1 h*|:APCP:surface:1-2 h*|:APCP:surface:2-3 h*|:APCP:surface:3-4 h*|:APCP:surface:4-5 h*|:APCP:surface:5-6 h*|:APCP:surface:6-7 h*|:APCP:surface:7-8 h*|:APCP:surface:8-9 h*|:APCP:surface:9-10 h*|:APCP:surface:10-11 h*|:APCP:surface:11-12 h*|:APCP:surface:12-13 h*|:APCP:surface:13-14 h*|:APCP:surface:14-15 h*|:APCP:surface:15-16 h*|:APCP:surface:16-17 h*|:APCP:surface:17-18 h*|:APCP:surface:18-19 h*|:APCP:surface:19-20 h*|:APCP:surface:20-21 h*|:APCP:surface:21-22 h*|:APCP:surface:22-23 h*|:APCP:surface:23-24 h*|:APCP:surface:24-25 h*|:APCP:surface:25-26 h*|:APCP:surface:26-27 h*|:APCP:surface:27-28 h*|:APCP:surface:28-29 h*|:APCP:surface:29-30 h*|:APCP:surface:30-31 h*|:APCP:surface:31-32 h*|:APCP:surface:32-33 h*|:APCP:surface:33-34 h*|:APCP:surface:34-35 h*|:APCP:surface:35-36 h*|:APCP:surface:36-37 h*|:APCP:surface:37-38 h*|:APCP:surface:38-39 h*|:APCP:surface:39-40 h*|:APCP:surface:40-41 h*|:APCP:surface:41-42 h*|:APCP:surface:42-43 h*|:APCP:surface:43-44 h*|:APCP:surface:44-45 h*|:APCP:surface:45-46 h*|:APCP:surface:46-47 h*)'\n",
      "\n",
      "Use regular expression to search for lines in the index file.\n",
      "Here are some examples you can use for the wgrib2-style `searchString`\n",
      "\n",
      "    ============================= ===============================================\n",
      "    ``searchString=``             Messages that will be downloaded\n",
      "    ============================= ===============================================\n",
      "    \":TMP:2 m\"                    Temperature at 2 m.\n",
      "    \":TMP:\"                       Temperature fields at all levels.\n",
      "    \":UGRD:.* mb\"                 U Wind at all pressure levels.\n",
      "    \":500 mb:\"                    All variables on the 500 mb level.\n",
      "    \":APCP:\"                      All accumulated precipitation fields.\n",
      "    \":APCP:surface:0-[1-9]*\"      Accumulated precip since initialization time\n",
      "    \":APCP:surface:[1-9]*-[1-9]*\" Accumulated precip over last hour\n",
      "    \":UGRD:10 m\"                  U wind component at 10 meters.\n",
      "    \":(U|V)GRD:(10|80) m\"         U and V wind component at 10 and 80 m.\n",
      "    \":(U|V)GRD:\"                  U and V wind component at all levels.\n",
      "    \":(?:U|V)GRD:[0-9]+ hybrid\"   U and V wind components at all hybrid levels\n",
      "    \":(?:U|V)GRD:[0-9]+ mb\"        U and V wind components at all pressure levels\n",
      "    \":.GRD:\"                      (Same as above)\n",
      "    \":(TMP|DPT):\"                 Temperature and Dew Point for all levels .\n",
      "    \":(TMP|DPT|RH):\"              TMP, DPT, and Relative Humidity for all levels.\n",
      "    \":REFC:\"                      Composite Reflectivity\n",
      "    \":surface:\"                   All variables at the surface.\n",
      "    ============================= ===============================================\n",
      "\n",
      "If you need help with regular expression, search the web or look at\n",
      "this cheatsheet: https://www.petefreitag.com/cheatsheets/regex/.\n",
      "\n"
     ]
    },
    {
     "name": "stderr",
     "output_type": "stream",
     "text": [
      "/Users/scollis/miniconda3/envs/models/lib/python3.11/site-packages/herbie/archive.py:692: UserWarning: This pattern is interpreted as a regular expression, and has match groups. To actually get the groups, use str.extract.\n",
      "  logic = df.search_this.str.contains(searchString)\n"
     ]
    },
    {
     "data": {
      "text/html": [
       "<div>\n",
       "<style scoped>\n",
       "    .dataframe tbody tr th:only-of-type {\n",
       "        vertical-align: middle;\n",
       "    }\n",
       "\n",
       "    .dataframe tbody tr th {\n",
       "        vertical-align: top;\n",
       "    }\n",
       "\n",
       "    .dataframe thead th {\n",
       "        text-align: right;\n",
       "    }\n",
       "</style>\n",
       "<table border=\"1\" class=\"dataframe\">\n",
       "  <thead>\n",
       "    <tr style=\"text-align: right;\">\n",
       "      <th></th>\n",
       "      <th>grib_message</th>\n",
       "      <th>start_byte</th>\n",
       "      <th>end_byte</th>\n",
       "      <th>range</th>\n",
       "      <th>reference_time</th>\n",
       "      <th>valid_time</th>\n",
       "      <th>variable</th>\n",
       "      <th>level</th>\n",
       "      <th>forecast_time</th>\n",
       "      <th>search_this</th>\n",
       "    </tr>\n",
       "  </thead>\n",
       "  <tbody>\n",
       "  </tbody>\n",
       "</table>\n",
       "</div>"
      ],
      "text/plain": [
       "Empty DataFrame\n",
       "Columns: [grib_message, start_byte, end_byte, range, reference_time, valid_time, variable, level, forecast_time, search_this]\n",
       "Index: []"
      ]
     },
     "execution_count": 149,
     "metadata": {},
     "output_type": "execute_result"
    }
   ],
   "source": [
    "H.read_idx(searchString=qstr)"
   ]
  },
  {
   "cell_type": "code",
   "execution_count": 150,
   "id": "df76c8a0",
   "metadata": {},
   "outputs": [
    {
     "name": "stdout",
     "output_type": "stream",
     "text": [
      "0\n",
      "✅ Found ┊ model=hrrr ┊ \u001b[3mproduct=sfc\u001b[0m ┊ \u001b[38;2;41;130;13m2023-Jan-15 12:00 UTC\u001b[92m F00\u001b[0m ┊ \u001b[38;2;255;153;0m\u001b[3mGRIB2 @ aws\u001b[0m ┊ \u001b[38;2;255;153;0m\u001b[3mIDX @ aws\u001b[0m\n"
     ]
    },
    {
     "name": "stderr",
     "output_type": "stream",
     "text": [
      "/Users/scollis/miniconda3/envs/models/lib/python3.11/site-packages/herbie/archive.py:692: UserWarning: This pattern is interpreted as a regular expression, and has match groups. To actually get the groups, use str.extract.\n",
      "  logic = df.search_this.str.contains(searchString)\n"
     ]
    },
    {
     "name": "stdout",
     "output_type": "stream",
     "text": [
      "No GRIB messages found. There might be something wrong with searchString='(:APCP:surface:0-1 h*|:APCP:surface:1-2 h*|:APCP:surface:2-3 h*|:APCP:surface:3-4 h*|:APCP:surface:4-5 h*|:APCP:surface:5-6 h*|:APCP:surface:6-7 h*|:APCP:surface:7-8 h*|:APCP:surface:8-9 h*|:APCP:surface:9-10 h*|:APCP:surface:10-11 h*|:APCP:surface:11-12 h*|:APCP:surface:12-13 h*|:APCP:surface:13-14 h*|:APCP:surface:14-15 h*|:APCP:surface:15-16 h*|:APCP:surface:16-17 h*|:APCP:surface:17-18 h*|:APCP:surface:18-19 h*|:APCP:surface:19-20 h*|:APCP:surface:20-21 h*|:APCP:surface:21-22 h*|:APCP:surface:22-23 h*|:APCP:surface:23-24 h*|:APCP:surface:24-25 h*|:APCP:surface:25-26 h*|:APCP:surface:26-27 h*|:APCP:surface:27-28 h*|:APCP:surface:28-29 h*|:APCP:surface:29-30 h*|:APCP:surface:30-31 h*|:APCP:surface:31-32 h*|:APCP:surface:32-33 h*|:APCP:surface:33-34 h*|:APCP:surface:34-35 h*|:APCP:surface:35-36 h*|:APCP:surface:36-37 h*|:APCP:surface:37-38 h*|:APCP:surface:38-39 h*|:APCP:surface:39-40 h*|:APCP:surface:40-41 h*|:APCP:surface:41-42 h*|:APCP:surface:42-43 h*|:APCP:surface:43-44 h*|:APCP:surface:44-45 h*|:APCP:surface:45-46 h*|:APCP:surface:46-47 h*)'\n",
      "\n",
      "Use regular expression to search for lines in the index file.\n",
      "Here are some examples you can use for the wgrib2-style `searchString`\n",
      "\n",
      "    ============================= ===============================================\n",
      "    ``searchString=``             Messages that will be downloaded\n",
      "    ============================= ===============================================\n",
      "    \":TMP:2 m\"                    Temperature at 2 m.\n",
      "    \":TMP:\"                       Temperature fields at all levels.\n",
      "    \":UGRD:.* mb\"                 U Wind at all pressure levels.\n",
      "    \":500 mb:\"                    All variables on the 500 mb level.\n",
      "    \":APCP:\"                      All accumulated precipitation fields.\n",
      "    \":APCP:surface:0-[1-9]*\"      Accumulated precip since initialization time\n",
      "    \":APCP:surface:[1-9]*-[1-9]*\" Accumulated precip over last hour\n",
      "    \":UGRD:10 m\"                  U wind component at 10 meters.\n",
      "    \":(U|V)GRD:(10|80) m\"         U and V wind component at 10 and 80 m.\n",
      "    \":(U|V)GRD:\"                  U and V wind component at all levels.\n",
      "    \":(?:U|V)GRD:[0-9]+ hybrid\"   U and V wind components at all hybrid levels\n",
      "    \":(?:U|V)GRD:[0-9]+ mb\"        U and V wind components at all pressure levels\n",
      "    \":.GRD:\"                      (Same as above)\n",
      "    \":(TMP|DPT):\"                 Temperature and Dew Point for all levels .\n",
      "    \":(TMP|DPT|RH):\"              TMP, DPT, and Relative Humidity for all levels.\n",
      "    \":REFC:\"                      Composite Reflectivity\n",
      "    \":surface:\"                   All variables at the surface.\n",
      "    ============================= ===============================================\n",
      "\n",
      "If you need help with regular expression, search the web or look at\n",
      "this cheatsheet: https://www.petefreitag.com/cheatsheets/regex/.\n",
      "\n",
      "Empty DataFrame\n",
      "Columns: [grib_message, start_byte, end_byte, range, reference_time, valid_time, variable, level, forecast_time, search_this]\n",
      "Index: []\n",
      "1\n",
      "✅ Found ┊ model=hrrr ┊ \u001b[3mproduct=sfc\u001b[0m ┊ \u001b[38;2;41;130;13m2023-Jan-15 12:00 UTC\u001b[92m F01\u001b[0m ┊ \u001b[38;2;255;153;0m\u001b[3mGRIB2 @ aws\u001b[0m ┊ \u001b[38;2;255;153;0m\u001b[3mIDX @ aws\u001b[0m\n"
     ]
    },
    {
     "name": "stderr",
     "output_type": "stream",
     "text": [
      "/Users/scollis/miniconda3/envs/models/lib/python3.11/site-packages/herbie/archive.py:692: UserWarning: This pattern is interpreted as a regular expression, and has match groups. To actually get the groups, use str.extract.\n",
      "  logic = df.search_this.str.contains(searchString)\n"
     ]
    },
    {
     "name": "stdout",
     "output_type": "stream",
     "text": [
      "    grib_message  start_byte  end_byte              range      reference_time  \\\n",
      "83            84    64283271  64681461  64283271-64681461 2023-01-15 12:00:00   \n",
      "\n",
      "            valid_time variable    level      forecast_time  \\\n",
      "83 2023-01-15 13:00:00     APCP  surface  0-1 hour acc fcst   \n",
      "\n",
      "                        search_this  \n",
      "83  :APCP:surface:0-1 hour acc fcst  \n",
      "2\n",
      "✅ Found ┊ model=hrrr ┊ \u001b[3mproduct=sfc\u001b[0m ┊ \u001b[38;2;41;130;13m2023-Jan-15 12:00 UTC\u001b[92m F02\u001b[0m ┊ \u001b[38;2;255;153;0m\u001b[3mGRIB2 @ aws\u001b[0m ┊ \u001b[38;2;255;153;0m\u001b[3mIDX @ aws\u001b[0m\n"
     ]
    },
    {
     "name": "stderr",
     "output_type": "stream",
     "text": [
      "/Users/scollis/miniconda3/envs/models/lib/python3.11/site-packages/herbie/archive.py:692: UserWarning: This pattern is interpreted as a regular expression, and has match groups. To actually get the groups, use str.extract.\n",
      "  logic = df.search_this.str.contains(searchString)\n"
     ]
    },
    {
     "name": "stdout",
     "output_type": "stream",
     "text": [
      "    grib_message  start_byte  end_byte              range      reference_time  \\\n",
      "89            90    65405091  65797885  65405091-65797885 2023-01-15 12:00:00   \n",
      "\n",
      "            valid_time variable    level      forecast_time  \\\n",
      "89 2023-01-15 14:00:00     APCP  surface  1-2 hour acc fcst   \n",
      "\n",
      "                        search_this  \n",
      "89  :APCP:surface:1-2 hour acc fcst  \n",
      "3\n",
      "✅ Found ┊ model=hrrr ┊ \u001b[3mproduct=sfc\u001b[0m ┊ \u001b[38;2;41;130;13m2023-Jan-15 12:00 UTC\u001b[92m F03\u001b[0m ┊ \u001b[38;2;255;153;0m\u001b[3mGRIB2 @ aws\u001b[0m ┊ \u001b[38;2;255;153;0m\u001b[3mIDX @ aws\u001b[0m\n"
     ]
    },
    {
     "name": "stderr",
     "output_type": "stream",
     "text": [
      "/Users/scollis/miniconda3/envs/models/lib/python3.11/site-packages/herbie/archive.py:692: UserWarning: This pattern is interpreted as a regular expression, and has match groups. To actually get the groups, use str.extract.\n",
      "  logic = df.search_this.str.contains(searchString)\n"
     ]
    },
    {
     "name": "stdout",
     "output_type": "stream",
     "text": [
      "    grib_message  start_byte  end_byte              range      reference_time  \\\n",
      "89            90    66124282  66553928  66124282-66553928 2023-01-15 12:00:00   \n",
      "\n",
      "            valid_time variable    level      forecast_time  \\\n",
      "89 2023-01-15 15:00:00     APCP  surface  2-3 hour acc fcst   \n",
      "\n",
      "                        search_this  \n",
      "89  :APCP:surface:2-3 hour acc fcst  \n",
      "4\n",
      "✅ Found ┊ model=hrrr ┊ \u001b[3mproduct=sfc\u001b[0m ┊ \u001b[38;2;41;130;13m2023-Jan-15 12:00 UTC\u001b[92m F04\u001b[0m ┊ \u001b[38;2;255;153;0m\u001b[3mGRIB2 @ aws\u001b[0m ┊ \u001b[38;2;255;153;0m\u001b[3mIDX @ aws\u001b[0m\n"
     ]
    },
    {
     "name": "stderr",
     "output_type": "stream",
     "text": [
      "/Users/scollis/miniconda3/envs/models/lib/python3.11/site-packages/herbie/archive.py:692: UserWarning: This pattern is interpreted as a regular expression, and has match groups. To actually get the groups, use str.extract.\n",
      "  logic = df.search_this.str.contains(searchString)\n"
     ]
    },
    {
     "name": "stdout",
     "output_type": "stream",
     "text": [
      "    grib_message  start_byte  end_byte              range      reference_time  \\\n",
      "89            90    66568412  67057526  66568412-67057526 2023-01-15 12:00:00   \n",
      "\n",
      "            valid_time variable    level      forecast_time  \\\n",
      "89 2023-01-15 16:00:00     APCP  surface  3-4 hour acc fcst   \n",
      "\n",
      "                        search_this  \n",
      "89  :APCP:surface:3-4 hour acc fcst  \n",
      "5\n",
      "✅ Found ┊ model=hrrr ┊ \u001b[3mproduct=sfc\u001b[0m ┊ \u001b[38;2;41;130;13m2023-Jan-15 12:00 UTC\u001b[92m F05\u001b[0m ┊ \u001b[38;2;255;153;0m\u001b[3mGRIB2 @ aws\u001b[0m ┊ \u001b[38;2;255;153;0m\u001b[3mIDX @ aws\u001b[0m\n"
     ]
    },
    {
     "name": "stderr",
     "output_type": "stream",
     "text": [
      "/Users/scollis/miniconda3/envs/models/lib/python3.11/site-packages/herbie/archive.py:692: UserWarning: This pattern is interpreted as a regular expression, and has match groups. To actually get the groups, use str.extract.\n",
      "  logic = df.search_this.str.contains(searchString)\n"
     ]
    },
    {
     "name": "stdout",
     "output_type": "stream",
     "text": [
      "    grib_message  start_byte  end_byte              range      reference_time  \\\n",
      "89            90    66912355  67437403  66912355-67437403 2023-01-15 12:00:00   \n",
      "\n",
      "            valid_time variable    level      forecast_time  \\\n",
      "89 2023-01-15 17:00:00     APCP  surface  4-5 hour acc fcst   \n",
      "\n",
      "                        search_this  \n",
      "89  :APCP:surface:4-5 hour acc fcst  \n",
      "6\n",
      "✅ Found ┊ model=hrrr ┊ \u001b[3mproduct=sfc\u001b[0m ┊ \u001b[38;2;41;130;13m2023-Jan-15 12:00 UTC\u001b[92m F06\u001b[0m ┊ \u001b[38;2;255;153;0m\u001b[3mGRIB2 @ aws\u001b[0m ┊ \u001b[38;2;255;153;0m\u001b[3mIDX @ aws\u001b[0m\n"
     ]
    },
    {
     "name": "stderr",
     "output_type": "stream",
     "text": [
      "/Users/scollis/miniconda3/envs/models/lib/python3.11/site-packages/herbie/archive.py:692: UserWarning: This pattern is interpreted as a regular expression, and has match groups. To actually get the groups, use str.extract.\n",
      "  logic = df.search_this.str.contains(searchString)\n"
     ]
    },
    {
     "name": "stdout",
     "output_type": "stream",
     "text": [
      "    grib_message  start_byte  end_byte              range      reference_time  \\\n",
      "89            90    67323949  67869176  67323949-67869176 2023-01-15 12:00:00   \n",
      "\n",
      "            valid_time variable    level      forecast_time  \\\n",
      "89 2023-01-15 18:00:00     APCP  surface  5-6 hour acc fcst   \n",
      "\n",
      "                        search_this  \n",
      "89  :APCP:surface:5-6 hour acc fcst  \n",
      "7\n",
      "✅ Found ┊ model=hrrr ┊ \u001b[3mproduct=sfc\u001b[0m ┊ \u001b[38;2;41;130;13m2023-Jan-15 12:00 UTC\u001b[92m F07\u001b[0m ┊ \u001b[38;2;255;153;0m\u001b[3mGRIB2 @ aws\u001b[0m ┊ \u001b[38;2;255;153;0m\u001b[3mIDX @ aws\u001b[0m\n"
     ]
    },
    {
     "name": "stderr",
     "output_type": "stream",
     "text": [
      "/Users/scollis/miniconda3/envs/models/lib/python3.11/site-packages/herbie/archive.py:692: UserWarning: This pattern is interpreted as a regular expression, and has match groups. To actually get the groups, use str.extract.\n",
      "  logic = df.search_this.str.contains(searchString)\n"
     ]
    },
    {
     "name": "stdout",
     "output_type": "stream",
     "text": [
      "    grib_message  start_byte  end_byte              range      reference_time  \\\n",
      "89            90    67365353  67923128  67365353-67923128 2023-01-15 12:00:00   \n",
      "\n",
      "            valid_time variable    level      forecast_time  \\\n",
      "89 2023-01-15 19:00:00     APCP  surface  6-7 hour acc fcst   \n",
      "\n",
      "                        search_this  \n",
      "89  :APCP:surface:6-7 hour acc fcst  \n",
      "8\n",
      "✅ Found ┊ model=hrrr ┊ \u001b[3mproduct=sfc\u001b[0m ┊ \u001b[38;2;41;130;13m2023-Jan-15 12:00 UTC\u001b[92m F08\u001b[0m ┊ \u001b[38;2;255;153;0m\u001b[3mGRIB2 @ aws\u001b[0m ┊ \u001b[38;2;255;153;0m\u001b[3mIDX @ aws\u001b[0m\n"
     ]
    },
    {
     "name": "stderr",
     "output_type": "stream",
     "text": [
      "/Users/scollis/miniconda3/envs/models/lib/python3.11/site-packages/herbie/archive.py:692: UserWarning: This pattern is interpreted as a regular expression, and has match groups. To actually get the groups, use str.extract.\n",
      "  logic = df.search_this.str.contains(searchString)\n"
     ]
    },
    {
     "name": "stdout",
     "output_type": "stream",
     "text": [
      "    grib_message  start_byte  end_byte              range      reference_time  \\\n",
      "89            90    67548360  68124375  67548360-68124375 2023-01-15 12:00:00   \n",
      "\n",
      "            valid_time variable    level      forecast_time  \\\n",
      "89 2023-01-15 20:00:00     APCP  surface  7-8 hour acc fcst   \n",
      "\n",
      "                        search_this  \n",
      "89  :APCP:surface:7-8 hour acc fcst  \n",
      "9\n",
      "✅ Found ┊ model=hrrr ┊ \u001b[3mproduct=sfc\u001b[0m ┊ \u001b[38;2;41;130;13m2023-Jan-15 12:00 UTC\u001b[92m F09\u001b[0m ┊ \u001b[38;2;255;153;0m\u001b[3mGRIB2 @ aws\u001b[0m ┊ \u001b[38;2;255;153;0m\u001b[3mIDX @ aws\u001b[0m\n"
     ]
    },
    {
     "name": "stderr",
     "output_type": "stream",
     "text": [
      "/Users/scollis/miniconda3/envs/models/lib/python3.11/site-packages/herbie/archive.py:692: UserWarning: This pattern is interpreted as a regular expression, and has match groups. To actually get the groups, use str.extract.\n",
      "  logic = df.search_this.str.contains(searchString)\n"
     ]
    },
    {
     "name": "stdout",
     "output_type": "stream",
     "text": [
      "    grib_message  start_byte  end_byte              range      reference_time  \\\n",
      "89            90    68137531  68743529  68137531-68743529 2023-01-15 12:00:00   \n",
      "\n",
      "            valid_time variable    level      forecast_time  \\\n",
      "89 2023-01-15 21:00:00     APCP  surface  8-9 hour acc fcst   \n",
      "\n",
      "                        search_this  \n",
      "89  :APCP:surface:8-9 hour acc fcst  \n",
      "10\n",
      "✅ Found ┊ model=hrrr ┊ \u001b[3mproduct=sfc\u001b[0m ┊ \u001b[38;2;41;130;13m2023-Jan-15 12:00 UTC\u001b[92m F10\u001b[0m ┊ \u001b[38;2;255;153;0m\u001b[3mGRIB2 @ aws\u001b[0m ┊ \u001b[38;2;255;153;0m\u001b[3mIDX @ aws\u001b[0m\n"
     ]
    },
    {
     "name": "stderr",
     "output_type": "stream",
     "text": [
      "/Users/scollis/miniconda3/envs/models/lib/python3.11/site-packages/herbie/archive.py:692: UserWarning: This pattern is interpreted as a regular expression, and has match groups. To actually get the groups, use str.extract.\n",
      "  logic = df.search_this.str.contains(searchString)\n"
     ]
    },
    {
     "name": "stdout",
     "output_type": "stream",
     "text": [
      "    grib_message  start_byte  end_byte              range      reference_time  \\\n",
      "89            90    68848981  69473153  68848981-69473153 2023-01-15 12:00:00   \n",
      "\n",
      "            valid_time variable    level       forecast_time  \\\n",
      "89 2023-01-15 22:00:00     APCP  surface  9-10 hour acc fcst   \n",
      "\n",
      "                         search_this  \n",
      "89  :APCP:surface:9-10 hour acc fcst  \n",
      "11\n",
      "✅ Found ┊ model=hrrr ┊ \u001b[3mproduct=sfc\u001b[0m ┊ \u001b[38;2;41;130;13m2023-Jan-15 12:00 UTC\u001b[92m F11\u001b[0m ┊ \u001b[38;2;255;153;0m\u001b[3mGRIB2 @ aws\u001b[0m ┊ \u001b[38;2;255;153;0m\u001b[3mIDX @ aws\u001b[0m\n"
     ]
    },
    {
     "name": "stderr",
     "output_type": "stream",
     "text": [
      "/Users/scollis/miniconda3/envs/models/lib/python3.11/site-packages/herbie/archive.py:692: UserWarning: This pattern is interpreted as a regular expression, and has match groups. To actually get the groups, use str.extract.\n",
      "  logic = df.search_this.str.contains(searchString)\n"
     ]
    },
    {
     "name": "stdout",
     "output_type": "stream",
     "text": [
      "    grib_message  start_byte  end_byte              range      reference_time  \\\n",
      "89            90    69170717  69817281  69170717-69817281 2023-01-15 12:00:00   \n",
      "\n",
      "            valid_time variable    level        forecast_time  \\\n",
      "89 2023-01-15 23:00:00     APCP  surface  10-11 hour acc fcst   \n",
      "\n",
      "                          search_this  \n",
      "89  :APCP:surface:10-11 hour acc fcst  \n",
      "12\n",
      "✅ Found ┊ model=hrrr ┊ \u001b[3mproduct=sfc\u001b[0m ┊ \u001b[38;2;41;130;13m2023-Jan-15 12:00 UTC\u001b[92m F12\u001b[0m ┊ \u001b[38;2;255;153;0m\u001b[3mGRIB2 @ aws\u001b[0m ┊ \u001b[38;2;255;153;0m\u001b[3mIDX @ aws\u001b[0m\n"
     ]
    },
    {
     "name": "stderr",
     "output_type": "stream",
     "text": [
      "/Users/scollis/miniconda3/envs/models/lib/python3.11/site-packages/herbie/archive.py:692: UserWarning: This pattern is interpreted as a regular expression, and has match groups. To actually get the groups, use str.extract.\n",
      "  logic = df.search_this.str.contains(searchString)\n"
     ]
    },
    {
     "name": "stdout",
     "output_type": "stream",
     "text": [
      "    grib_message  start_byte  end_byte              range      reference_time  \\\n",
      "89            90    69894124  70554868  69894124-70554868 2023-01-15 12:00:00   \n",
      "\n",
      "   valid_time variable    level        forecast_time  \\\n",
      "89 2023-01-16     APCP  surface  11-12 hour acc fcst   \n",
      "\n",
      "                          search_this  \n",
      "89  :APCP:surface:11-12 hour acc fcst  \n",
      "13\n",
      "✅ Found ┊ model=hrrr ┊ \u001b[3mproduct=sfc\u001b[0m ┊ \u001b[38;2;41;130;13m2023-Jan-15 12:00 UTC\u001b[92m F13\u001b[0m ┊ \u001b[38;2;255;153;0m\u001b[3mGRIB2 @ aws\u001b[0m ┊ \u001b[38;2;255;153;0m\u001b[3mIDX @ aws\u001b[0m\n"
     ]
    },
    {
     "name": "stderr",
     "output_type": "stream",
     "text": [
      "/Users/scollis/miniconda3/envs/models/lib/python3.11/site-packages/herbie/archive.py:692: UserWarning: This pattern is interpreted as a regular expression, and has match groups. To actually get the groups, use str.extract.\n",
      "  logic = df.search_this.str.contains(searchString)\n"
     ]
    },
    {
     "name": "stdout",
     "output_type": "stream",
     "text": [
      "    grib_message  start_byte  end_byte              range      reference_time  \\\n",
      "89            90    70272416  70946709  70272416-70946709 2023-01-15 12:00:00   \n",
      "\n",
      "            valid_time variable    level        forecast_time  \\\n",
      "89 2023-01-16 01:00:00     APCP  surface  12-13 hour acc fcst   \n",
      "\n",
      "                          search_this  \n",
      "89  :APCP:surface:12-13 hour acc fcst  \n",
      "14\n",
      "✅ Found ┊ model=hrrr ┊ \u001b[3mproduct=sfc\u001b[0m ┊ \u001b[38;2;41;130;13m2023-Jan-15 12:00 UTC\u001b[92m F14\u001b[0m ┊ \u001b[38;2;255;153;0m\u001b[3mGRIB2 @ aws\u001b[0m ┊ \u001b[38;2;255;153;0m\u001b[3mIDX @ aws\u001b[0m\n"
     ]
    },
    {
     "name": "stderr",
     "output_type": "stream",
     "text": [
      "/Users/scollis/miniconda3/envs/models/lib/python3.11/site-packages/herbie/archive.py:692: UserWarning: This pattern is interpreted as a regular expression, and has match groups. To actually get the groups, use str.extract.\n",
      "  logic = df.search_this.str.contains(searchString)\n"
     ]
    },
    {
     "name": "stdout",
     "output_type": "stream",
     "text": [
      "    grib_message  start_byte  end_byte              range      reference_time  \\\n",
      "89            90    71064170  71764228  71064170-71764228 2023-01-15 12:00:00   \n",
      "\n",
      "            valid_time variable    level        forecast_time  \\\n",
      "89 2023-01-16 02:00:00     APCP  surface  13-14 hour acc fcst   \n",
      "\n",
      "                          search_this  \n",
      "89  :APCP:surface:13-14 hour acc fcst  \n",
      "15\n",
      "✅ Found ┊ model=hrrr ┊ \u001b[3mproduct=sfc\u001b[0m ┊ \u001b[38;2;41;130;13m2023-Jan-15 12:00 UTC\u001b[92m F15\u001b[0m ┊ \u001b[38;2;255;153;0m\u001b[3mGRIB2 @ aws\u001b[0m ┊ \u001b[38;2;255;153;0m\u001b[3mIDX @ aws\u001b[0m\n"
     ]
    },
    {
     "name": "stderr",
     "output_type": "stream",
     "text": [
      "/Users/scollis/miniconda3/envs/models/lib/python3.11/site-packages/herbie/archive.py:692: UserWarning: This pattern is interpreted as a regular expression, and has match groups. To actually get the groups, use str.extract.\n",
      "  logic = df.search_this.str.contains(searchString)\n"
     ]
    },
    {
     "name": "stdout",
     "output_type": "stream",
     "text": [
      "    grib_message  start_byte  end_byte              range      reference_time  \\\n",
      "89            90    71759254  72469865  71759254-72469865 2023-01-15 12:00:00   \n",
      "\n",
      "            valid_time variable    level        forecast_time  \\\n",
      "89 2023-01-16 03:00:00     APCP  surface  14-15 hour acc fcst   \n",
      "\n",
      "                          search_this  \n",
      "89  :APCP:surface:14-15 hour acc fcst  \n",
      "16\n",
      "✅ Found ┊ model=hrrr ┊ \u001b[3mproduct=sfc\u001b[0m ┊ \u001b[38;2;41;130;13m2023-Jan-15 12:00 UTC\u001b[92m F16\u001b[0m ┊ \u001b[38;2;255;153;0m\u001b[3mGRIB2 @ aws\u001b[0m ┊ \u001b[38;2;255;153;0m\u001b[3mIDX @ aws\u001b[0m\n"
     ]
    },
    {
     "name": "stderr",
     "output_type": "stream",
     "text": [
      "/Users/scollis/miniconda3/envs/models/lib/python3.11/site-packages/herbie/archive.py:692: UserWarning: This pattern is interpreted as a regular expression, and has match groups. To actually get the groups, use str.extract.\n",
      "  logic = df.search_this.str.contains(searchString)\n"
     ]
    },
    {
     "name": "stdout",
     "output_type": "stream",
     "text": [
      "    grib_message  start_byte  end_byte              range      reference_time  \\\n",
      "89            90    72129365  72851203  72129365-72851203 2023-01-15 12:00:00   \n",
      "\n",
      "            valid_time variable    level        forecast_time  \\\n",
      "89 2023-01-16 04:00:00     APCP  surface  15-16 hour acc fcst   \n",
      "\n",
      "                          search_this  \n",
      "89  :APCP:surface:15-16 hour acc fcst  \n",
      "17\n",
      "✅ Found ┊ model=hrrr ┊ \u001b[3mproduct=sfc\u001b[0m ┊ \u001b[38;2;41;130;13m2023-Jan-15 12:00 UTC\u001b[92m F17\u001b[0m ┊ \u001b[38;2;255;153;0m\u001b[3mGRIB2 @ aws\u001b[0m ┊ \u001b[38;2;255;153;0m\u001b[3mIDX @ aws\u001b[0m\n"
     ]
    },
    {
     "name": "stderr",
     "output_type": "stream",
     "text": [
      "/Users/scollis/miniconda3/envs/models/lib/python3.11/site-packages/herbie/archive.py:692: UserWarning: This pattern is interpreted as a regular expression, and has match groups. To actually get the groups, use str.extract.\n",
      "  logic = df.search_this.str.contains(searchString)\n"
     ]
    },
    {
     "name": "stdout",
     "output_type": "stream",
     "text": [
      "    grib_message  start_byte  end_byte              range      reference_time  \\\n",
      "89            90    72509753  73243528  72509753-73243528 2023-01-15 12:00:00   \n",
      "\n",
      "            valid_time variable    level        forecast_time  \\\n",
      "89 2023-01-16 05:00:00     APCP  surface  16-17 hour acc fcst   \n",
      "\n",
      "                          search_this  \n",
      "89  :APCP:surface:16-17 hour acc fcst  \n",
      "18\n",
      "✅ Found ┊ model=hrrr ┊ \u001b[3mproduct=sfc\u001b[0m ┊ \u001b[38;2;41;130;13m2023-Jan-15 12:00 UTC\u001b[92m F18\u001b[0m ┊ \u001b[38;2;255;153;0m\u001b[3mGRIB2 @ aws\u001b[0m ┊ \u001b[38;2;255;153;0m\u001b[3mIDX @ aws\u001b[0m\n"
     ]
    },
    {
     "name": "stderr",
     "output_type": "stream",
     "text": [
      "/Users/scollis/miniconda3/envs/models/lib/python3.11/site-packages/herbie/archive.py:692: UserWarning: This pattern is interpreted as a regular expression, and has match groups. To actually get the groups, use str.extract.\n",
      "  logic = df.search_this.str.contains(searchString)\n"
     ]
    },
    {
     "name": "stdout",
     "output_type": "stream",
     "text": [
      "    grib_message  start_byte  end_byte              range      reference_time  \\\n",
      "89            90    71944232  72712737  71944232-72712737 2023-01-15 12:00:00   \n",
      "\n",
      "            valid_time variable    level        forecast_time  \\\n",
      "89 2023-01-16 06:00:00     APCP  surface  17-18 hour acc fcst   \n",
      "\n",
      "                          search_this  \n",
      "89  :APCP:surface:17-18 hour acc fcst  \n",
      "19\n",
      "✅ Found ┊ model=hrrr ┊ \u001b[3mproduct=sfc\u001b[0m ┊ \u001b[38;2;41;130;13m2023-Jan-15 12:00 UTC\u001b[92m F19\u001b[0m ┊ \u001b[38;2;255;153;0m\u001b[3mGRIB2 @ aws\u001b[0m ┊ \u001b[38;2;255;153;0m\u001b[3mIDX @ aws\u001b[0m\n"
     ]
    },
    {
     "name": "stderr",
     "output_type": "stream",
     "text": [
      "/Users/scollis/miniconda3/envs/models/lib/python3.11/site-packages/herbie/archive.py:692: UserWarning: This pattern is interpreted as a regular expression, and has match groups. To actually get the groups, use str.extract.\n",
      "  logic = df.search_this.str.contains(searchString)\n"
     ]
    },
    {
     "name": "stdout",
     "output_type": "stream",
     "text": [
      "    grib_message  start_byte  end_byte              range      reference_time  \\\n",
      "89            90    72003799  72790376  72003799-72790376 2023-01-15 12:00:00   \n",
      "\n",
      "            valid_time variable    level        forecast_time  \\\n",
      "89 2023-01-16 07:00:00     APCP  surface  18-19 hour acc fcst   \n",
      "\n",
      "                          search_this  \n",
      "89  :APCP:surface:18-19 hour acc fcst  \n",
      "20\n",
      "✅ Found ┊ model=hrrr ┊ \u001b[3mproduct=sfc\u001b[0m ┊ \u001b[38;2;41;130;13m2023-Jan-15 12:00 UTC\u001b[92m F20\u001b[0m ┊ \u001b[38;2;255;153;0m\u001b[3mGRIB2 @ aws\u001b[0m ┊ \u001b[38;2;255;153;0m\u001b[3mIDX @ aws\u001b[0m\n"
     ]
    },
    {
     "name": "stderr",
     "output_type": "stream",
     "text": [
      "/Users/scollis/miniconda3/envs/models/lib/python3.11/site-packages/herbie/archive.py:692: UserWarning: This pattern is interpreted as a regular expression, and has match groups. To actually get the groups, use str.extract.\n",
      "  logic = df.search_this.str.contains(searchString)\n"
     ]
    },
    {
     "name": "stdout",
     "output_type": "stream",
     "text": [
      "    grib_message  start_byte  end_byte              range      reference_time  \\\n",
      "89            90    72691283  73483727  72691283-73483727 2023-01-15 12:00:00   \n",
      "\n",
      "            valid_time variable    level        forecast_time  \\\n",
      "89 2023-01-16 08:00:00     APCP  surface  19-20 hour acc fcst   \n",
      "\n",
      "                          search_this  \n",
      "89  :APCP:surface:19-20 hour acc fcst  \n",
      "21\n",
      "✅ Found ┊ model=hrrr ┊ \u001b[3mproduct=sfc\u001b[0m ┊ \u001b[38;2;41;130;13m2023-Jan-15 12:00 UTC\u001b[92m F21\u001b[0m ┊ \u001b[38;2;255;153;0m\u001b[3mGRIB2 @ aws\u001b[0m ┊ \u001b[38;2;255;153;0m\u001b[3mIDX @ aws\u001b[0m\n"
     ]
    },
    {
     "name": "stderr",
     "output_type": "stream",
     "text": [
      "/Users/scollis/miniconda3/envs/models/lib/python3.11/site-packages/herbie/archive.py:692: UserWarning: This pattern is interpreted as a regular expression, and has match groups. To actually get the groups, use str.extract.\n",
      "  logic = df.search_this.str.contains(searchString)\n"
     ]
    },
    {
     "name": "stdout",
     "output_type": "stream",
     "text": [
      "    grib_message  start_byte  end_byte              range      reference_time  \\\n",
      "89            90    72786940  73585927  72786940-73585927 2023-01-15 12:00:00   \n",
      "\n",
      "            valid_time variable    level        forecast_time  \\\n",
      "89 2023-01-16 09:00:00     APCP  surface  20-21 hour acc fcst   \n",
      "\n",
      "                          search_this  \n",
      "89  :APCP:surface:20-21 hour acc fcst  \n",
      "22\n",
      "✅ Found ┊ model=hrrr ┊ \u001b[3mproduct=sfc\u001b[0m ┊ \u001b[38;2;41;130;13m2023-Jan-15 12:00 UTC\u001b[92m F22\u001b[0m ┊ \u001b[38;2;255;153;0m\u001b[3mGRIB2 @ aws\u001b[0m ┊ \u001b[38;2;255;153;0m\u001b[3mIDX @ aws\u001b[0m\n"
     ]
    },
    {
     "name": "stderr",
     "output_type": "stream",
     "text": [
      "/Users/scollis/miniconda3/envs/models/lib/python3.11/site-packages/herbie/archive.py:692: UserWarning: This pattern is interpreted as a regular expression, and has match groups. To actually get the groups, use str.extract.\n",
      "  logic = df.search_this.str.contains(searchString)\n"
     ]
    },
    {
     "name": "stdout",
     "output_type": "stream",
     "text": [
      "    grib_message  start_byte  end_byte              range      reference_time  \\\n",
      "89            90    72297221  73129458  72297221-73129458 2023-01-15 12:00:00   \n",
      "\n",
      "            valid_time variable    level        forecast_time  \\\n",
      "89 2023-01-16 10:00:00     APCP  surface  21-22 hour acc fcst   \n",
      "\n",
      "                          search_this  \n",
      "89  :APCP:surface:21-22 hour acc fcst  \n",
      "23\n",
      "✅ Found ┊ model=hrrr ┊ \u001b[3mproduct=sfc\u001b[0m ┊ \u001b[38;2;41;130;13m2023-Jan-15 12:00 UTC\u001b[92m F23\u001b[0m ┊ \u001b[38;2;255;153;0m\u001b[3mGRIB2 @ aws\u001b[0m ┊ \u001b[38;2;255;153;0m\u001b[3mIDX @ aws\u001b[0m\n"
     ]
    },
    {
     "name": "stderr",
     "output_type": "stream",
     "text": [
      "/Users/scollis/miniconda3/envs/models/lib/python3.11/site-packages/herbie/archive.py:692: UserWarning: This pattern is interpreted as a regular expression, and has match groups. To actually get the groups, use str.extract.\n",
      "  logic = df.search_this.str.contains(searchString)\n"
     ]
    },
    {
     "name": "stdout",
     "output_type": "stream",
     "text": [
      "    grib_message  start_byte  end_byte              range      reference_time  \\\n",
      "89            90    72823093  73653708  72823093-73653708 2023-01-15 12:00:00   \n",
      "\n",
      "            valid_time variable    level        forecast_time  \\\n",
      "89 2023-01-16 11:00:00     APCP  surface  22-23 hour acc fcst   \n",
      "\n",
      "                          search_this  \n",
      "89  :APCP:surface:22-23 hour acc fcst  \n",
      "24\n",
      "✅ Found ┊ model=hrrr ┊ \u001b[3mproduct=sfc\u001b[0m ┊ \u001b[38;2;41;130;13m2023-Jan-15 12:00 UTC\u001b[92m F24\u001b[0m ┊ \u001b[38;2;255;153;0m\u001b[3mGRIB2 @ aws\u001b[0m ┊ \u001b[38;2;255;153;0m\u001b[3mIDX @ aws\u001b[0m\n"
     ]
    },
    {
     "name": "stderr",
     "output_type": "stream",
     "text": [
      "/Users/scollis/miniconda3/envs/models/lib/python3.11/site-packages/herbie/archive.py:692: UserWarning: This pattern is interpreted as a regular expression, and has match groups. To actually get the groups, use str.extract.\n",
      "  logic = df.search_this.str.contains(searchString)\n"
     ]
    },
    {
     "name": "stdout",
     "output_type": "stream",
     "text": [
      "    grib_message  start_byte  end_byte              range      reference_time  \\\n",
      "83            84    71113744  72235150  71113744-72235150 2023-01-15 12:00:00   \n",
      "89            90    73650485  74523668  73650485-74523668 2023-01-15 12:00:00   \n",
      "\n",
      "            valid_time variable    level        forecast_time  \\\n",
      "83 2023-01-16 12:00:00     APCP  surface     0-1 day acc fcst   \n",
      "89 2023-01-16 12:00:00     APCP  surface  23-24 hour acc fcst   \n",
      "\n",
      "                          search_this  \n",
      "83     :APCP:surface:0-1 day acc fcst  \n",
      "89  :APCP:surface:23-24 hour acc fcst  \n",
      "25\n",
      "✅ Found ┊ model=hrrr ┊ \u001b[3mproduct=sfc\u001b[0m ┊ \u001b[38;2;41;130;13m2023-Jan-15 12:00 UTC\u001b[92m F25\u001b[0m ┊ \u001b[38;2;255;153;0m\u001b[3mGRIB2 @ aws\u001b[0m ┊ \u001b[38;2;255;153;0m\u001b[3mIDX @ aws\u001b[0m\n"
     ]
    },
    {
     "name": "stderr",
     "output_type": "stream",
     "text": [
      "/Users/scollis/miniconda3/envs/models/lib/python3.11/site-packages/herbie/archive.py:692: UserWarning: This pattern is interpreted as a regular expression, and has match groups. To actually get the groups, use str.extract.\n",
      "  logic = df.search_this.str.contains(searchString)\n"
     ]
    },
    {
     "name": "stdout",
     "output_type": "stream",
     "text": [
      "    grib_message  start_byte  end_byte              range      reference_time  \\\n",
      "89            90    73350522  74238156  73350522-74238156 2023-01-15 12:00:00   \n",
      "\n",
      "            valid_time variable    level        forecast_time  \\\n",
      "89 2023-01-16 13:00:00     APCP  surface  24-25 hour acc fcst   \n",
      "\n",
      "                          search_this  \n",
      "89  :APCP:surface:24-25 hour acc fcst  \n",
      "26\n",
      "✅ Found ┊ model=hrrr ┊ \u001b[3mproduct=sfc\u001b[0m ┊ \u001b[38;2;41;130;13m2023-Jan-15 12:00 UTC\u001b[92m F26\u001b[0m ┊ \u001b[38;2;255;153;0m\u001b[3mGRIB2 @ aws\u001b[0m ┊ \u001b[38;2;255;153;0m\u001b[3mIDX @ aws\u001b[0m\n"
     ]
    },
    {
     "name": "stderr",
     "output_type": "stream",
     "text": [
      "/Users/scollis/miniconda3/envs/models/lib/python3.11/site-packages/herbie/archive.py:692: UserWarning: This pattern is interpreted as a regular expression, and has match groups. To actually get the groups, use str.extract.\n",
      "  logic = df.search_this.str.contains(searchString)\n"
     ]
    },
    {
     "name": "stdout",
     "output_type": "stream",
     "text": [
      "    grib_message  start_byte  end_byte              range      reference_time  \\\n",
      "89            90    74036822  74913068  74036822-74913068 2023-01-15 12:00:00   \n",
      "\n",
      "            valid_time variable    level        forecast_time  \\\n",
      "89 2023-01-16 14:00:00     APCP  surface  25-26 hour acc fcst   \n",
      "\n",
      "                          search_this  \n",
      "89  :APCP:surface:25-26 hour acc fcst  \n",
      "27\n",
      "✅ Found ┊ model=hrrr ┊ \u001b[3mproduct=sfc\u001b[0m ┊ \u001b[38;2;41;130;13m2023-Jan-15 12:00 UTC\u001b[92m F27\u001b[0m ┊ \u001b[38;2;255;153;0m\u001b[3mGRIB2 @ aws\u001b[0m ┊ \u001b[38;2;255;153;0m\u001b[3mIDX @ aws\u001b[0m\n"
     ]
    },
    {
     "name": "stderr",
     "output_type": "stream",
     "text": [
      "/Users/scollis/miniconda3/envs/models/lib/python3.11/site-packages/herbie/archive.py:692: UserWarning: This pattern is interpreted as a regular expression, and has match groups. To actually get the groups, use str.extract.\n",
      "  logic = df.search_this.str.contains(searchString)\n"
     ]
    },
    {
     "name": "stdout",
     "output_type": "stream",
     "text": [
      "    grib_message  start_byte  end_byte              range      reference_time  \\\n",
      "89            90    73497464  74375785  73497464-74375785 2023-01-15 12:00:00   \n",
      "\n",
      "            valid_time variable    level        forecast_time  \\\n",
      "89 2023-01-16 15:00:00     APCP  surface  26-27 hour acc fcst   \n",
      "\n",
      "                          search_this  \n",
      "89  :APCP:surface:26-27 hour acc fcst  \n",
      "28\n",
      "✅ Found ┊ model=hrrr ┊ \u001b[3mproduct=sfc\u001b[0m ┊ \u001b[38;2;41;130;13m2023-Jan-15 12:00 UTC\u001b[92m F28\u001b[0m ┊ \u001b[38;2;255;153;0m\u001b[3mGRIB2 @ aws\u001b[0m ┊ \u001b[38;2;255;153;0m\u001b[3mIDX @ aws\u001b[0m\n"
     ]
    },
    {
     "name": "stderr",
     "output_type": "stream",
     "text": [
      "/Users/scollis/miniconda3/envs/models/lib/python3.11/site-packages/herbie/archive.py:692: UserWarning: This pattern is interpreted as a regular expression, and has match groups. To actually get the groups, use str.extract.\n",
      "  logic = df.search_this.str.contains(searchString)\n"
     ]
    },
    {
     "name": "stdout",
     "output_type": "stream",
     "text": [
      "    grib_message  start_byte  end_byte              range      reference_time  \\\n",
      "89            90    72688229  73565458  72688229-73565458 2023-01-15 12:00:00   \n",
      "\n",
      "            valid_time variable    level        forecast_time  \\\n",
      "89 2023-01-16 16:00:00     APCP  surface  27-28 hour acc fcst   \n",
      "\n",
      "                          search_this  \n",
      "89  :APCP:surface:27-28 hour acc fcst  \n",
      "29\n",
      "✅ Found ┊ model=hrrr ┊ \u001b[3mproduct=sfc\u001b[0m ┊ \u001b[38;2;41;130;13m2023-Jan-15 12:00 UTC\u001b[92m F29\u001b[0m ┊ \u001b[38;2;255;153;0m\u001b[3mGRIB2 @ aws\u001b[0m ┊ \u001b[38;2;255;153;0m\u001b[3mIDX @ aws\u001b[0m\n"
     ]
    },
    {
     "name": "stderr",
     "output_type": "stream",
     "text": [
      "/Users/scollis/miniconda3/envs/models/lib/python3.11/site-packages/herbie/archive.py:692: UserWarning: This pattern is interpreted as a regular expression, and has match groups. To actually get the groups, use str.extract.\n",
      "  logic = df.search_this.str.contains(searchString)\n"
     ]
    },
    {
     "name": "stdout",
     "output_type": "stream",
     "text": [
      "    grib_message  start_byte  end_byte              range      reference_time  \\\n",
      "89            90    73529424  74414761  73529424-74414761 2023-01-15 12:00:00   \n",
      "\n",
      "            valid_time variable    level        forecast_time  \\\n",
      "89 2023-01-16 17:00:00     APCP  surface  28-29 hour acc fcst   \n",
      "\n",
      "                          search_this  \n",
      "89  :APCP:surface:28-29 hour acc fcst  \n",
      "30\n",
      "✅ Found ┊ model=hrrr ┊ \u001b[3mproduct=sfc\u001b[0m ┊ \u001b[38;2;41;130;13m2023-Jan-15 12:00 UTC\u001b[92m F30\u001b[0m ┊ \u001b[38;2;255;153;0m\u001b[3mGRIB2 @ aws\u001b[0m ┊ \u001b[38;2;255;153;0m\u001b[3mIDX @ aws\u001b[0m\n"
     ]
    },
    {
     "name": "stderr",
     "output_type": "stream",
     "text": [
      "/Users/scollis/miniconda3/envs/models/lib/python3.11/site-packages/herbie/archive.py:692: UserWarning: This pattern is interpreted as a regular expression, and has match groups. To actually get the groups, use str.extract.\n",
      "  logic = df.search_this.str.contains(searchString)\n"
     ]
    },
    {
     "name": "stdout",
     "output_type": "stream",
     "text": [
      "    grib_message  start_byte  end_byte              range      reference_time  \\\n",
      "89            90    73314242  74186724  73314242-74186724 2023-01-15 12:00:00   \n",
      "\n",
      "            valid_time variable    level        forecast_time  \\\n",
      "89 2023-01-16 18:00:00     APCP  surface  29-30 hour acc fcst   \n",
      "\n",
      "                          search_this  \n",
      "89  :APCP:surface:29-30 hour acc fcst  \n",
      "31\n",
      "✅ Found ┊ model=hrrr ┊ \u001b[3mproduct=sfc\u001b[0m ┊ \u001b[38;2;41;130;13m2023-Jan-15 12:00 UTC\u001b[92m F31\u001b[0m ┊ \u001b[38;2;255;153;0m\u001b[3mGRIB2 @ aws\u001b[0m ┊ \u001b[38;2;255;153;0m\u001b[3mIDX @ aws\u001b[0m\n"
     ]
    },
    {
     "name": "stderr",
     "output_type": "stream",
     "text": [
      "/Users/scollis/miniconda3/envs/models/lib/python3.11/site-packages/herbie/archive.py:692: UserWarning: This pattern is interpreted as a regular expression, and has match groups. To actually get the groups, use str.extract.\n",
      "  logic = df.search_this.str.contains(searchString)\n"
     ]
    },
    {
     "name": "stdout",
     "output_type": "stream",
     "text": [
      "    grib_message  start_byte  end_byte              range      reference_time  \\\n",
      "89            90    72645520  73523175  72645520-73523175 2023-01-15 12:00:00   \n",
      "\n",
      "            valid_time variable    level        forecast_time  \\\n",
      "89 2023-01-16 19:00:00     APCP  surface  30-31 hour acc fcst   \n",
      "\n",
      "                          search_this  \n",
      "89  :APCP:surface:30-31 hour acc fcst  \n",
      "32\n",
      "✅ Found ┊ model=hrrr ┊ \u001b[3mproduct=sfc\u001b[0m ┊ \u001b[38;2;41;130;13m2023-Jan-15 12:00 UTC\u001b[92m F32\u001b[0m ┊ \u001b[38;2;255;153;0m\u001b[3mGRIB2 @ aws\u001b[0m ┊ \u001b[38;2;255;153;0m\u001b[3mIDX @ aws\u001b[0m\n"
     ]
    },
    {
     "name": "stderr",
     "output_type": "stream",
     "text": [
      "/Users/scollis/miniconda3/envs/models/lib/python3.11/site-packages/herbie/archive.py:692: UserWarning: This pattern is interpreted as a regular expression, and has match groups. To actually get the groups, use str.extract.\n",
      "  logic = df.search_this.str.contains(searchString)\n"
     ]
    },
    {
     "name": "stdout",
     "output_type": "stream",
     "text": [
      "    grib_message  start_byte  end_byte              range      reference_time  \\\n",
      "89            90    72857404  73737347  72857404-73737347 2023-01-15 12:00:00   \n",
      "\n",
      "            valid_time variable    level        forecast_time  \\\n",
      "89 2023-01-16 20:00:00     APCP  surface  31-32 hour acc fcst   \n",
      "\n",
      "                          search_this  \n",
      "89  :APCP:surface:31-32 hour acc fcst  \n",
      "33\n",
      "✅ Found ┊ model=hrrr ┊ \u001b[3mproduct=sfc\u001b[0m ┊ \u001b[38;2;41;130;13m2023-Jan-15 12:00 UTC\u001b[92m F33\u001b[0m ┊ \u001b[38;2;255;153;0m\u001b[3mGRIB2 @ aws\u001b[0m ┊ \u001b[38;2;255;153;0m\u001b[3mIDX @ aws\u001b[0m\n"
     ]
    },
    {
     "name": "stderr",
     "output_type": "stream",
     "text": [
      "/Users/scollis/miniconda3/envs/models/lib/python3.11/site-packages/herbie/archive.py:692: UserWarning: This pattern is interpreted as a regular expression, and has match groups. To actually get the groups, use str.extract.\n",
      "  logic = df.search_this.str.contains(searchString)\n"
     ]
    },
    {
     "name": "stdout",
     "output_type": "stream",
     "text": [
      "    grib_message  start_byte  end_byte              range      reference_time  \\\n",
      "89            90    72928441  73812487  72928441-73812487 2023-01-15 12:00:00   \n",
      "\n",
      "            valid_time variable    level        forecast_time  \\\n",
      "89 2023-01-16 21:00:00     APCP  surface  32-33 hour acc fcst   \n",
      "\n",
      "                          search_this  \n",
      "89  :APCP:surface:32-33 hour acc fcst  \n",
      "34\n",
      "✅ Found ┊ model=hrrr ┊ \u001b[3mproduct=sfc\u001b[0m ┊ \u001b[38;2;41;130;13m2023-Jan-15 12:00 UTC\u001b[92m F34\u001b[0m ┊ \u001b[38;2;255;153;0m\u001b[3mGRIB2 @ aws\u001b[0m ┊ \u001b[38;2;255;153;0m\u001b[3mIDX @ aws\u001b[0m\n"
     ]
    },
    {
     "name": "stderr",
     "output_type": "stream",
     "text": [
      "/Users/scollis/miniconda3/envs/models/lib/python3.11/site-packages/herbie/archive.py:692: UserWarning: This pattern is interpreted as a regular expression, and has match groups. To actually get the groups, use str.extract.\n",
      "  logic = df.search_this.str.contains(searchString)\n"
     ]
    },
    {
     "name": "stdout",
     "output_type": "stream",
     "text": [
      "    grib_message  start_byte  end_byte              range      reference_time  \\\n",
      "89            90    73061266  73982457  73061266-73982457 2023-01-15 12:00:00   \n",
      "\n",
      "            valid_time variable    level        forecast_time  \\\n",
      "89 2023-01-16 22:00:00     APCP  surface  33-34 hour acc fcst   \n",
      "\n",
      "                          search_this  \n",
      "89  :APCP:surface:33-34 hour acc fcst  \n",
      "35\n",
      "✅ Found ┊ model=hrrr ┊ \u001b[3mproduct=sfc\u001b[0m ┊ \u001b[38;2;41;130;13m2023-Jan-15 12:00 UTC\u001b[92m F35\u001b[0m ┊ \u001b[38;2;255;153;0m\u001b[3mGRIB2 @ aws\u001b[0m ┊ \u001b[38;2;255;153;0m\u001b[3mIDX @ aws\u001b[0m\n"
     ]
    },
    {
     "name": "stderr",
     "output_type": "stream",
     "text": [
      "/Users/scollis/miniconda3/envs/models/lib/python3.11/site-packages/herbie/archive.py:692: UserWarning: This pattern is interpreted as a regular expression, and has match groups. To actually get the groups, use str.extract.\n",
      "  logic = df.search_this.str.contains(searchString)\n"
     ]
    },
    {
     "name": "stdout",
     "output_type": "stream",
     "text": [
      "    grib_message  start_byte  end_byte              range      reference_time  \\\n",
      "89            90    72707678  73612702  72707678-73612702 2023-01-15 12:00:00   \n",
      "\n",
      "            valid_time variable    level        forecast_time  \\\n",
      "89 2023-01-16 23:00:00     APCP  surface  34-35 hour acc fcst   \n",
      "\n",
      "                          search_this  \n",
      "89  :APCP:surface:34-35 hour acc fcst  \n",
      "36\n",
      "✅ Found ┊ model=hrrr ┊ \u001b[3mproduct=sfc\u001b[0m ┊ \u001b[38;2;41;130;13m2023-Jan-15 12:00 UTC\u001b[92m F36\u001b[0m ┊ \u001b[38;2;255;153;0m\u001b[3mGRIB2 @ aws\u001b[0m ┊ \u001b[38;2;255;153;0m\u001b[3mIDX @ aws\u001b[0m\n"
     ]
    },
    {
     "name": "stderr",
     "output_type": "stream",
     "text": [
      "/Users/scollis/miniconda3/envs/models/lib/python3.11/site-packages/herbie/archive.py:692: UserWarning: This pattern is interpreted as a regular expression, and has match groups. To actually get the groups, use str.extract.\n",
      "  logic = df.search_this.str.contains(searchString)\n"
     ]
    },
    {
     "name": "stdout",
     "output_type": "stream",
     "text": [
      "    grib_message  start_byte  end_byte              range      reference_time  \\\n",
      "89            90    72949875  73846587  72949875-73846587 2023-01-15 12:00:00   \n",
      "\n",
      "   valid_time variable    level        forecast_time  \\\n",
      "89 2023-01-17     APCP  surface  35-36 hour acc fcst   \n",
      "\n",
      "                          search_this  \n",
      "89  :APCP:surface:35-36 hour acc fcst  \n",
      "37\n",
      "✅ Found ┊ model=hrrr ┊ \u001b[3mproduct=sfc\u001b[0m ┊ \u001b[38;2;41;130;13m2023-Jan-15 12:00 UTC\u001b[92m F37\u001b[0m ┊ \u001b[38;2;255;153;0m\u001b[3mGRIB2 @ aws\u001b[0m ┊ \u001b[38;2;255;153;0m\u001b[3mIDX @ aws\u001b[0m\n"
     ]
    },
    {
     "name": "stderr",
     "output_type": "stream",
     "text": [
      "/Users/scollis/miniconda3/envs/models/lib/python3.11/site-packages/herbie/archive.py:692: UserWarning: This pattern is interpreted as a regular expression, and has match groups. To actually get the groups, use str.extract.\n",
      "  logic = df.search_this.str.contains(searchString)\n"
     ]
    },
    {
     "name": "stdout",
     "output_type": "stream",
     "text": [
      "    grib_message  start_byte  end_byte              range      reference_time  \\\n",
      "89            90    72647405  73515981  72647405-73515981 2023-01-15 12:00:00   \n",
      "\n",
      "            valid_time variable    level        forecast_time  \\\n",
      "89 2023-01-17 01:00:00     APCP  surface  36-37 hour acc fcst   \n",
      "\n",
      "                          search_this  \n",
      "89  :APCP:surface:36-37 hour acc fcst  \n",
      "38\n",
      "✅ Found ┊ model=hrrr ┊ \u001b[3mproduct=sfc\u001b[0m ┊ \u001b[38;2;41;130;13m2023-Jan-15 12:00 UTC\u001b[92m F38\u001b[0m ┊ \u001b[38;2;255;153;0m\u001b[3mGRIB2 @ aws\u001b[0m ┊ \u001b[38;2;255;153;0m\u001b[3mIDX @ aws\u001b[0m\n"
     ]
    },
    {
     "name": "stderr",
     "output_type": "stream",
     "text": [
      "/Users/scollis/miniconda3/envs/models/lib/python3.11/site-packages/herbie/archive.py:692: UserWarning: This pattern is interpreted as a regular expression, and has match groups. To actually get the groups, use str.extract.\n",
      "  logic = df.search_this.str.contains(searchString)\n"
     ]
    },
    {
     "name": "stdout",
     "output_type": "stream",
     "text": [
      "    grib_message  start_byte  end_byte              range      reference_time  \\\n",
      "89            90    73153155  74015912  73153155-74015912 2023-01-15 12:00:00   \n",
      "\n",
      "            valid_time variable    level        forecast_time  \\\n",
      "89 2023-01-17 02:00:00     APCP  surface  37-38 hour acc fcst   \n",
      "\n",
      "                          search_this  \n",
      "89  :APCP:surface:37-38 hour acc fcst  \n",
      "39\n",
      "✅ Found ┊ model=hrrr ┊ \u001b[3mproduct=sfc\u001b[0m ┊ \u001b[38;2;41;130;13m2023-Jan-15 12:00 UTC\u001b[92m F39\u001b[0m ┊ \u001b[38;2;255;153;0m\u001b[3mGRIB2 @ aws\u001b[0m ┊ \u001b[38;2;255;153;0m\u001b[3mIDX @ aws\u001b[0m\n"
     ]
    },
    {
     "name": "stderr",
     "output_type": "stream",
     "text": [
      "/Users/scollis/miniconda3/envs/models/lib/python3.11/site-packages/herbie/archive.py:692: UserWarning: This pattern is interpreted as a regular expression, and has match groups. To actually get the groups, use str.extract.\n",
      "  logic = df.search_this.str.contains(searchString)\n"
     ]
    },
    {
     "name": "stdout",
     "output_type": "stream",
     "text": [
      "    grib_message  start_byte  end_byte              range      reference_time  \\\n",
      "89            90    72692160  73530793  72692160-73530793 2023-01-15 12:00:00   \n",
      "\n",
      "            valid_time variable    level        forecast_time  \\\n",
      "89 2023-01-17 03:00:00     APCP  surface  38-39 hour acc fcst   \n",
      "\n",
      "                          search_this  \n",
      "89  :APCP:surface:38-39 hour acc fcst  \n",
      "40\n",
      "✅ Found ┊ model=hrrr ┊ \u001b[3mproduct=sfc\u001b[0m ┊ \u001b[38;2;41;130;13m2023-Jan-15 12:00 UTC\u001b[92m F40\u001b[0m ┊ \u001b[38;2;255;153;0m\u001b[3mGRIB2 @ aws\u001b[0m ┊ \u001b[38;2;255;153;0m\u001b[3mIDX @ aws\u001b[0m\n"
     ]
    },
    {
     "name": "stderr",
     "output_type": "stream",
     "text": [
      "/Users/scollis/miniconda3/envs/models/lib/python3.11/site-packages/herbie/archive.py:692: UserWarning: This pattern is interpreted as a regular expression, and has match groups. To actually get the groups, use str.extract.\n",
      "  logic = df.search_this.str.contains(searchString)\n"
     ]
    },
    {
     "name": "stdout",
     "output_type": "stream",
     "text": [
      "    grib_message  start_byte  end_byte              range      reference_time  \\\n",
      "89            90    72967669  73801746  72967669-73801746 2023-01-15 12:00:00   \n",
      "\n",
      "            valid_time variable    level        forecast_time  \\\n",
      "89 2023-01-17 04:00:00     APCP  surface  39-40 hour acc fcst   \n",
      "\n",
      "                          search_this  \n",
      "89  :APCP:surface:39-40 hour acc fcst  \n",
      "41\n",
      "✅ Found ┊ model=hrrr ┊ \u001b[3mproduct=sfc\u001b[0m ┊ \u001b[38;2;41;130;13m2023-Jan-15 12:00 UTC\u001b[92m F41\u001b[0m ┊ \u001b[38;2;255;153;0m\u001b[3mGRIB2 @ aws\u001b[0m ┊ \u001b[38;2;255;153;0m\u001b[3mIDX @ aws\u001b[0m\n"
     ]
    },
    {
     "name": "stderr",
     "output_type": "stream",
     "text": [
      "/Users/scollis/miniconda3/envs/models/lib/python3.11/site-packages/herbie/archive.py:692: UserWarning: This pattern is interpreted as a regular expression, and has match groups. To actually get the groups, use str.extract.\n",
      "  logic = df.search_this.str.contains(searchString)\n"
     ]
    },
    {
     "name": "stdout",
     "output_type": "stream",
     "text": [
      "    grib_message  start_byte  end_byte              range      reference_time  \\\n",
      "89            90    72939023  73752550  72939023-73752550 2023-01-15 12:00:00   \n",
      "\n",
      "            valid_time variable    level        forecast_time  \\\n",
      "89 2023-01-17 05:00:00     APCP  surface  40-41 hour acc fcst   \n",
      "\n",
      "                          search_this  \n",
      "89  :APCP:surface:40-41 hour acc fcst  \n",
      "42\n",
      "✅ Found ┊ model=hrrr ┊ \u001b[3mproduct=sfc\u001b[0m ┊ \u001b[38;2;41;130;13m2023-Jan-15 12:00 UTC\u001b[92m F42\u001b[0m ┊ \u001b[38;2;255;153;0m\u001b[3mGRIB2 @ aws\u001b[0m ┊ \u001b[38;2;255;153;0m\u001b[3mIDX @ aws\u001b[0m\n"
     ]
    },
    {
     "name": "stderr",
     "output_type": "stream",
     "text": [
      "/Users/scollis/miniconda3/envs/models/lib/python3.11/site-packages/herbie/archive.py:692: UserWarning: This pattern is interpreted as a regular expression, and has match groups. To actually get the groups, use str.extract.\n",
      "  logic = df.search_this.str.contains(searchString)\n"
     ]
    },
    {
     "name": "stdout",
     "output_type": "stream",
     "text": [
      "    grib_message  start_byte  end_byte              range      reference_time  \\\n",
      "89            90    73366810  74177825  73366810-74177825 2023-01-15 12:00:00   \n",
      "\n",
      "            valid_time variable    level        forecast_time  \\\n",
      "89 2023-01-17 06:00:00     APCP  surface  41-42 hour acc fcst   \n",
      "\n",
      "                          search_this  \n",
      "89  :APCP:surface:41-42 hour acc fcst  \n",
      "43\n",
      "✅ Found ┊ model=hrrr ┊ \u001b[3mproduct=sfc\u001b[0m ┊ \u001b[38;2;41;130;13m2023-Jan-15 12:00 UTC\u001b[92m F43\u001b[0m ┊ \u001b[38;2;255;153;0m\u001b[3mGRIB2 @ aws\u001b[0m ┊ \u001b[38;2;255;153;0m\u001b[3mIDX @ aws\u001b[0m\n"
     ]
    },
    {
     "name": "stderr",
     "output_type": "stream",
     "text": [
      "/Users/scollis/miniconda3/envs/models/lib/python3.11/site-packages/herbie/archive.py:692: UserWarning: This pattern is interpreted as a regular expression, and has match groups. To actually get the groups, use str.extract.\n",
      "  logic = df.search_this.str.contains(searchString)\n"
     ]
    },
    {
     "name": "stdout",
     "output_type": "stream",
     "text": [
      "    grib_message  start_byte  end_byte              range      reference_time  \\\n",
      "89            90    73303682  74111612  73303682-74111612 2023-01-15 12:00:00   \n",
      "\n",
      "            valid_time variable    level        forecast_time  \\\n",
      "89 2023-01-17 07:00:00     APCP  surface  42-43 hour acc fcst   \n",
      "\n",
      "                          search_this  \n",
      "89  :APCP:surface:42-43 hour acc fcst  \n",
      "44\n",
      "✅ Found ┊ model=hrrr ┊ \u001b[3mproduct=sfc\u001b[0m ┊ \u001b[38;2;41;130;13m2023-Jan-15 12:00 UTC\u001b[92m F44\u001b[0m ┊ \u001b[38;2;255;153;0m\u001b[3mGRIB2 @ aws\u001b[0m ┊ \u001b[38;2;255;153;0m\u001b[3mIDX @ aws\u001b[0m\n"
     ]
    },
    {
     "name": "stderr",
     "output_type": "stream",
     "text": [
      "/Users/scollis/miniconda3/envs/models/lib/python3.11/site-packages/herbie/archive.py:692: UserWarning: This pattern is interpreted as a regular expression, and has match groups. To actually get the groups, use str.extract.\n",
      "  logic = df.search_this.str.contains(searchString)\n"
     ]
    },
    {
     "name": "stdout",
     "output_type": "stream",
     "text": [
      "    grib_message  start_byte  end_byte              range      reference_time  \\\n",
      "89            90    72726852  73505746  72726852-73505746 2023-01-15 12:00:00   \n",
      "\n",
      "            valid_time variable    level        forecast_time  \\\n",
      "89 2023-01-17 08:00:00     APCP  surface  43-44 hour acc fcst   \n",
      "\n",
      "                          search_this  \n",
      "89  :APCP:surface:43-44 hour acc fcst  \n",
      "45\n",
      "✅ Found ┊ model=hrrr ┊ \u001b[3mproduct=sfc\u001b[0m ┊ \u001b[38;2;41;130;13m2023-Jan-15 12:00 UTC\u001b[92m F45\u001b[0m ┊ \u001b[38;2;255;153;0m\u001b[3mGRIB2 @ aws\u001b[0m ┊ \u001b[38;2;255;153;0m\u001b[3mIDX @ aws\u001b[0m\n"
     ]
    },
    {
     "name": "stderr",
     "output_type": "stream",
     "text": [
      "/Users/scollis/miniconda3/envs/models/lib/python3.11/site-packages/herbie/archive.py:692: UserWarning: This pattern is interpreted as a regular expression, and has match groups. To actually get the groups, use str.extract.\n",
      "  logic = df.search_this.str.contains(searchString)\n"
     ]
    },
    {
     "name": "stdout",
     "output_type": "stream",
     "text": [
      "    grib_message  start_byte  end_byte              range      reference_time  \\\n",
      "89            90    73366606  74151916  73366606-74151916 2023-01-15 12:00:00   \n",
      "\n",
      "            valid_time variable    level        forecast_time  \\\n",
      "89 2023-01-17 09:00:00     APCP  surface  44-45 hour acc fcst   \n",
      "\n",
      "                          search_this  \n",
      "89  :APCP:surface:44-45 hour acc fcst  \n",
      "46\n",
      "✅ Found ┊ model=hrrr ┊ \u001b[3mproduct=sfc\u001b[0m ┊ \u001b[38;2;41;130;13m2023-Jan-15 12:00 UTC\u001b[92m F46\u001b[0m ┊ \u001b[38;2;255;153;0m\u001b[3mGRIB2 @ aws\u001b[0m ┊ \u001b[38;2;255;153;0m\u001b[3mIDX @ aws\u001b[0m\n",
      "    grib_message  start_byte  end_byte              range      reference_time  \\\n",
      "89            90    72641613  73410260  72641613-73410260 2023-01-15 12:00:00   \n",
      "\n",
      "            valid_time variable    level        forecast_time  \\\n",
      "89 2023-01-17 10:00:00     APCP  surface  45-46 hour acc fcst   \n",
      "\n",
      "                          search_this  \n",
      "89  :APCP:surface:45-46 hour acc fcst  \n"
     ]
    },
    {
     "name": "stderr",
     "output_type": "stream",
     "text": [
      "/Users/scollis/miniconda3/envs/models/lib/python3.11/site-packages/herbie/archive.py:692: UserWarning: This pattern is interpreted as a regular expression, and has match groups. To actually get the groups, use str.extract.\n",
      "  logic = df.search_this.str.contains(searchString)\n"
     ]
    }
   ],
   "source": [
    "for i in range(nfcst):\n",
    "    print(i)\n",
    "    print(Herbie(\n",
    "        mt,  # model run date\n",
    "        model=\"hrrr\",  # model name\n",
    "        product=\"sfc\",  # model produce name (model dependent)\n",
    "        fxx=i,  # forecast lead time\n",
    "    ).read_idx(searchString=qstr))"
   ]
  },
  {
   "cell_type": "code",
   "execution_count": 151,
   "id": "118414dd",
   "metadata": {},
   "outputs": [],
   "source": [
    "%%capture \n",
    "#Handles warnings..\n",
    "\n",
    "mt = \"2023-01-15 12:00\"\n",
    "\n",
    "FH = FastHerbie([mt], model=\"hrrr\", fxx=range(1,nfcst))\n",
    "FH.download(qstr) #This needs a good (and cheap) internet connection... ~1m on my connection\n",
    "ds = FH.xarray(qstr, remove_grib=True)\n"
   ]
  },
  {
   "cell_type": "code",
   "execution_count": null,
   "id": "ff838f28",
   "metadata": {},
   "outputs": [],
   "source": [
    "\n",
    "\n"
   ]
  },
  {
   "cell_type": "code",
   "execution_count": 152,
   "id": "867bbf8c",
   "metadata": {},
   "outputs": [
    {
     "data": {
      "text/html": [
       "<div><svg style=\"position: absolute; width: 0; height: 0; overflow: hidden\">\n",
       "<defs>\n",
       "<symbol id=\"icon-database\" viewBox=\"0 0 32 32\">\n",
       "<path d=\"M16 0c-8.837 0-16 2.239-16 5v4c0 2.761 7.163 5 16 5s16-2.239 16-5v-4c0-2.761-7.163-5-16-5z\"></path>\n",
       "<path d=\"M16 17c-8.837 0-16-2.239-16-5v6c0 2.761 7.163 5 16 5s16-2.239 16-5v-6c0 2.761-7.163 5-16 5z\"></path>\n",
       "<path d=\"M16 26c-8.837 0-16-2.239-16-5v6c0 2.761 7.163 5 16 5s16-2.239 16-5v-6c0 2.761-7.163 5-16 5z\"></path>\n",
       "</symbol>\n",
       "<symbol id=\"icon-file-text2\" viewBox=\"0 0 32 32\">\n",
       "<path d=\"M28.681 7.159c-0.694-0.947-1.662-2.053-2.724-3.116s-2.169-2.030-3.116-2.724c-1.612-1.182-2.393-1.319-2.841-1.319h-15.5c-1.378 0-2.5 1.121-2.5 2.5v27c0 1.378 1.122 2.5 2.5 2.5h23c1.378 0 2.5-1.122 2.5-2.5v-19.5c0-0.448-0.137-1.23-1.319-2.841zM24.543 5.457c0.959 0.959 1.712 1.825 2.268 2.543h-4.811v-4.811c0.718 0.556 1.584 1.309 2.543 2.268zM28 29.5c0 0.271-0.229 0.5-0.5 0.5h-23c-0.271 0-0.5-0.229-0.5-0.5v-27c0-0.271 0.229-0.5 0.5-0.5 0 0 15.499-0 15.5 0v7c0 0.552 0.448 1 1 1h7v19.5z\"></path>\n",
       "<path d=\"M23 26h-14c-0.552 0-1-0.448-1-1s0.448-1 1-1h14c0.552 0 1 0.448 1 1s-0.448 1-1 1z\"></path>\n",
       "<path d=\"M23 22h-14c-0.552 0-1-0.448-1-1s0.448-1 1-1h14c0.552 0 1 0.448 1 1s-0.448 1-1 1z\"></path>\n",
       "<path d=\"M23 18h-14c-0.552 0-1-0.448-1-1s0.448-1 1-1h14c0.552 0 1 0.448 1 1s-0.448 1-1 1z\"></path>\n",
       "</symbol>\n",
       "</defs>\n",
       "</svg>\n",
       "<style>/* CSS stylesheet for displaying xarray objects in jupyterlab.\n",
       " *\n",
       " */\n",
       "\n",
       ":root {\n",
       "  --xr-font-color0: var(--jp-content-font-color0, rgba(0, 0, 0, 1));\n",
       "  --xr-font-color2: var(--jp-content-font-color2, rgba(0, 0, 0, 0.54));\n",
       "  --xr-font-color3: var(--jp-content-font-color3, rgba(0, 0, 0, 0.38));\n",
       "  --xr-border-color: var(--jp-border-color2, #e0e0e0);\n",
       "  --xr-disabled-color: var(--jp-layout-color3, #bdbdbd);\n",
       "  --xr-background-color: var(--jp-layout-color0, white);\n",
       "  --xr-background-color-row-even: var(--jp-layout-color1, white);\n",
       "  --xr-background-color-row-odd: var(--jp-layout-color2, #eeeeee);\n",
       "}\n",
       "\n",
       "html[theme=dark],\n",
       "body[data-theme=dark],\n",
       "body.vscode-dark {\n",
       "  --xr-font-color0: rgba(255, 255, 255, 1);\n",
       "  --xr-font-color2: rgba(255, 255, 255, 0.54);\n",
       "  --xr-font-color3: rgba(255, 255, 255, 0.38);\n",
       "  --xr-border-color: #1F1F1F;\n",
       "  --xr-disabled-color: #515151;\n",
       "  --xr-background-color: #111111;\n",
       "  --xr-background-color-row-even: #111111;\n",
       "  --xr-background-color-row-odd: #313131;\n",
       "}\n",
       "\n",
       ".xr-wrap {\n",
       "  display: block !important;\n",
       "  min-width: 300px;\n",
       "  max-width: 700px;\n",
       "}\n",
       "\n",
       ".xr-text-repr-fallback {\n",
       "  /* fallback to plain text repr when CSS is not injected (untrusted notebook) */\n",
       "  display: none;\n",
       "}\n",
       "\n",
       ".xr-header {\n",
       "  padding-top: 6px;\n",
       "  padding-bottom: 6px;\n",
       "  margin-bottom: 4px;\n",
       "  border-bottom: solid 1px var(--xr-border-color);\n",
       "}\n",
       "\n",
       ".xr-header > div,\n",
       ".xr-header > ul {\n",
       "  display: inline;\n",
       "  margin-top: 0;\n",
       "  margin-bottom: 0;\n",
       "}\n",
       "\n",
       ".xr-obj-type,\n",
       ".xr-array-name {\n",
       "  margin-left: 2px;\n",
       "  margin-right: 10px;\n",
       "}\n",
       "\n",
       ".xr-obj-type {\n",
       "  color: var(--xr-font-color2);\n",
       "}\n",
       "\n",
       ".xr-sections {\n",
       "  padding-left: 0 !important;\n",
       "  display: grid;\n",
       "  grid-template-columns: 150px auto auto 1fr 20px 20px;\n",
       "}\n",
       "\n",
       ".xr-section-item {\n",
       "  display: contents;\n",
       "}\n",
       "\n",
       ".xr-section-item input {\n",
       "  display: none;\n",
       "}\n",
       "\n",
       ".xr-section-item input + label {\n",
       "  color: var(--xr-disabled-color);\n",
       "}\n",
       "\n",
       ".xr-section-item input:enabled + label {\n",
       "  cursor: pointer;\n",
       "  color: var(--xr-font-color2);\n",
       "}\n",
       "\n",
       ".xr-section-item input:enabled + label:hover {\n",
       "  color: var(--xr-font-color0);\n",
       "}\n",
       "\n",
       ".xr-section-summary {\n",
       "  grid-column: 1;\n",
       "  color: var(--xr-font-color2);\n",
       "  font-weight: 500;\n",
       "}\n",
       "\n",
       ".xr-section-summary > span {\n",
       "  display: inline-block;\n",
       "  padding-left: 0.5em;\n",
       "}\n",
       "\n",
       ".xr-section-summary-in:disabled + label {\n",
       "  color: var(--xr-font-color2);\n",
       "}\n",
       "\n",
       ".xr-section-summary-in + label:before {\n",
       "  display: inline-block;\n",
       "  content: '►';\n",
       "  font-size: 11px;\n",
       "  width: 15px;\n",
       "  text-align: center;\n",
       "}\n",
       "\n",
       ".xr-section-summary-in:disabled + label:before {\n",
       "  color: var(--xr-disabled-color);\n",
       "}\n",
       "\n",
       ".xr-section-summary-in:checked + label:before {\n",
       "  content: '▼';\n",
       "}\n",
       "\n",
       ".xr-section-summary-in:checked + label > span {\n",
       "  display: none;\n",
       "}\n",
       "\n",
       ".xr-section-summary,\n",
       ".xr-section-inline-details {\n",
       "  padding-top: 4px;\n",
       "  padding-bottom: 4px;\n",
       "}\n",
       "\n",
       ".xr-section-inline-details {\n",
       "  grid-column: 2 / -1;\n",
       "}\n",
       "\n",
       ".xr-section-details {\n",
       "  display: none;\n",
       "  grid-column: 1 / -1;\n",
       "  margin-bottom: 5px;\n",
       "}\n",
       "\n",
       ".xr-section-summary-in:checked ~ .xr-section-details {\n",
       "  display: contents;\n",
       "}\n",
       "\n",
       ".xr-array-wrap {\n",
       "  grid-column: 1 / -1;\n",
       "  display: grid;\n",
       "  grid-template-columns: 20px auto;\n",
       "}\n",
       "\n",
       ".xr-array-wrap > label {\n",
       "  grid-column: 1;\n",
       "  vertical-align: top;\n",
       "}\n",
       "\n",
       ".xr-preview {\n",
       "  color: var(--xr-font-color3);\n",
       "}\n",
       "\n",
       ".xr-array-preview,\n",
       ".xr-array-data {\n",
       "  padding: 0 5px !important;\n",
       "  grid-column: 2;\n",
       "}\n",
       "\n",
       ".xr-array-data,\n",
       ".xr-array-in:checked ~ .xr-array-preview {\n",
       "  display: none;\n",
       "}\n",
       "\n",
       ".xr-array-in:checked ~ .xr-array-data,\n",
       ".xr-array-preview {\n",
       "  display: inline-block;\n",
       "}\n",
       "\n",
       ".xr-dim-list {\n",
       "  display: inline-block !important;\n",
       "  list-style: none;\n",
       "  padding: 0 !important;\n",
       "  margin: 0;\n",
       "}\n",
       "\n",
       ".xr-dim-list li {\n",
       "  display: inline-block;\n",
       "  padding: 0;\n",
       "  margin: 0;\n",
       "}\n",
       "\n",
       ".xr-dim-list:before {\n",
       "  content: '(';\n",
       "}\n",
       "\n",
       ".xr-dim-list:after {\n",
       "  content: ')';\n",
       "}\n",
       "\n",
       ".xr-dim-list li:not(:last-child):after {\n",
       "  content: ',';\n",
       "  padding-right: 5px;\n",
       "}\n",
       "\n",
       ".xr-has-index {\n",
       "  font-weight: bold;\n",
       "}\n",
       "\n",
       ".xr-var-list,\n",
       ".xr-var-item {\n",
       "  display: contents;\n",
       "}\n",
       "\n",
       ".xr-var-item > div,\n",
       ".xr-var-item label,\n",
       ".xr-var-item > .xr-var-name span {\n",
       "  background-color: var(--xr-background-color-row-even);\n",
       "  margin-bottom: 0;\n",
       "}\n",
       "\n",
       ".xr-var-item > .xr-var-name:hover span {\n",
       "  padding-right: 5px;\n",
       "}\n",
       "\n",
       ".xr-var-list > li:nth-child(odd) > div,\n",
       ".xr-var-list > li:nth-child(odd) > label,\n",
       ".xr-var-list > li:nth-child(odd) > .xr-var-name span {\n",
       "  background-color: var(--xr-background-color-row-odd);\n",
       "}\n",
       "\n",
       ".xr-var-name {\n",
       "  grid-column: 1;\n",
       "}\n",
       "\n",
       ".xr-var-dims {\n",
       "  grid-column: 2;\n",
       "}\n",
       "\n",
       ".xr-var-dtype {\n",
       "  grid-column: 3;\n",
       "  text-align: right;\n",
       "  color: var(--xr-font-color2);\n",
       "}\n",
       "\n",
       ".xr-var-preview {\n",
       "  grid-column: 4;\n",
       "}\n",
       "\n",
       ".xr-index-preview {\n",
       "  grid-column: 2 / 5;\n",
       "  color: var(--xr-font-color2);\n",
       "}\n",
       "\n",
       ".xr-var-name,\n",
       ".xr-var-dims,\n",
       ".xr-var-dtype,\n",
       ".xr-preview,\n",
       ".xr-attrs dt {\n",
       "  white-space: nowrap;\n",
       "  overflow: hidden;\n",
       "  text-overflow: ellipsis;\n",
       "  padding-right: 10px;\n",
       "}\n",
       "\n",
       ".xr-var-name:hover,\n",
       ".xr-var-dims:hover,\n",
       ".xr-var-dtype:hover,\n",
       ".xr-attrs dt:hover {\n",
       "  overflow: visible;\n",
       "  width: auto;\n",
       "  z-index: 1;\n",
       "}\n",
       "\n",
       ".xr-var-attrs,\n",
       ".xr-var-data,\n",
       ".xr-index-data {\n",
       "  display: none;\n",
       "  background-color: var(--xr-background-color) !important;\n",
       "  padding-bottom: 5px !important;\n",
       "}\n",
       "\n",
       ".xr-var-attrs-in:checked ~ .xr-var-attrs,\n",
       ".xr-var-data-in:checked ~ .xr-var-data,\n",
       ".xr-index-data-in:checked ~ .xr-index-data {\n",
       "  display: block;\n",
       "}\n",
       "\n",
       ".xr-var-data > table {\n",
       "  float: right;\n",
       "}\n",
       "\n",
       ".xr-var-name span,\n",
       ".xr-var-data,\n",
       ".xr-index-name div,\n",
       ".xr-index-data,\n",
       ".xr-attrs {\n",
       "  padding-left: 25px !important;\n",
       "}\n",
       "\n",
       ".xr-attrs,\n",
       ".xr-var-attrs,\n",
       ".xr-var-data,\n",
       ".xr-index-data {\n",
       "  grid-column: 1 / -1;\n",
       "}\n",
       "\n",
       "dl.xr-attrs {\n",
       "  padding: 0;\n",
       "  margin: 0;\n",
       "  display: grid;\n",
       "  grid-template-columns: 125px auto;\n",
       "}\n",
       "\n",
       ".xr-attrs dt,\n",
       ".xr-attrs dd {\n",
       "  padding: 0;\n",
       "  margin: 0;\n",
       "  float: left;\n",
       "  padding-right: 10px;\n",
       "  width: auto;\n",
       "}\n",
       "\n",
       ".xr-attrs dt {\n",
       "  font-weight: normal;\n",
       "  grid-column: 1;\n",
       "}\n",
       "\n",
       ".xr-attrs dt:hover span {\n",
       "  display: inline-block;\n",
       "  background: var(--xr-background-color);\n",
       "  padding-right: 10px;\n",
       "}\n",
       "\n",
       ".xr-attrs dd {\n",
       "  grid-column: 2;\n",
       "  white-space: pre-wrap;\n",
       "  word-break: break-all;\n",
       "}\n",
       "\n",
       ".xr-icon-database,\n",
       ".xr-icon-file-text2,\n",
       ".xr-no-icon {\n",
       "  display: inline-block;\n",
       "  vertical-align: middle;\n",
       "  width: 1em;\n",
       "  height: 1.5em !important;\n",
       "  stroke-width: 0;\n",
       "  stroke: currentColor;\n",
       "  fill: currentColor;\n",
       "}\n",
       "</style><pre class='xr-text-repr-fallback'>&lt;xarray.DataArray &#x27;tp&#x27; (step: 46, y: 1059, x: 1799)&gt;\n",
       "array([[[0., 0., 0., ..., 0., 0., 0.],\n",
       "        [0., 0., 0., ..., 0., 0., 0.],\n",
       "        [0., 0., 0., ..., 0., 0., 0.],\n",
       "        ...,\n",
       "        [0., 0., 0., ..., 0., 0., 0.],\n",
       "        [0., 0., 0., ..., 0., 0., 0.],\n",
       "        [0., 0., 0., ..., 0., 0., 0.]],\n",
       "\n",
       "       [[0., 0., 0., ..., 0., 0., 0.],\n",
       "        [0., 0., 0., ..., 0., 0., 0.],\n",
       "        [0., 0., 0., ..., 0., 0., 0.],\n",
       "        ...,\n",
       "        [0., 0., 0., ..., 0., 0., 0.],\n",
       "        [0., 0., 0., ..., 0., 0., 0.],\n",
       "        [0., 0., 0., ..., 0., 0., 0.]],\n",
       "\n",
       "       [[0., 0., 0., ..., 0., 0., 0.],\n",
       "        [0., 0., 0., ..., 0., 0., 0.],\n",
       "        [0., 0., 0., ..., 0., 0., 0.],\n",
       "        ...,\n",
       "...\n",
       "        ...,\n",
       "        [0., 0., 0., ..., 0., 0., 0.],\n",
       "        [0., 0., 0., ..., 0., 0., 0.],\n",
       "        [0., 0., 0., ..., 0., 0., 0.]],\n",
       "\n",
       "       [[0., 0., 0., ..., 0., 0., 0.],\n",
       "        [0., 0., 0., ..., 0., 0., 0.],\n",
       "        [0., 0., 0., ..., 0., 0., 0.],\n",
       "        ...,\n",
       "        [0., 0., 0., ..., 0., 0., 0.],\n",
       "        [0., 0., 0., ..., 0., 0., 0.],\n",
       "        [0., 0., 0., ..., 0., 0., 0.]],\n",
       "\n",
       "       [[0., 0., 0., ..., 0., 0., 0.],\n",
       "        [0., 0., 0., ..., 0., 0., 0.],\n",
       "        [0., 0., 0., ..., 0., 0., 0.],\n",
       "        ...,\n",
       "        [0., 0., 0., ..., 0., 0., 0.],\n",
       "        [0., 0., 0., ..., 0., 0., 0.],\n",
       "        [0., 0., 0., ..., 0., 0., 0.]]], dtype=float32)\n",
       "Coordinates:\n",
       "    time        datetime64[ns] 2023-01-15T12:00:00\n",
       "  * step        (step) timedelta64[ns] 01:00:00 02:00:00 ... 1 days 22:00:00\n",
       "    surface     float64 0.0\n",
       "    latitude    (y, x) float64 21.14 21.15 21.15 21.16 ... 47.86 47.85 47.84\n",
       "    longitude   (y, x) float64 237.3 237.3 237.3 237.4 ... 299.0 299.0 299.1\n",
       "    valid_time  (step) datetime64[ns] 2023-01-15T13:00:00 ... 2023-01-17T10:0...\n",
       "Dimensions without coordinates: y, x\n",
       "Attributes: (12/36)\n",
       "    GRIB_paramId:                             228228\n",
       "    GRIB_dataType:                            fc\n",
       "    GRIB_numberOfPoints:                      1905141\n",
       "    GRIB_typeOfLevel:                         surface\n",
       "    GRIB_stepUnits:                           1\n",
       "    GRIB_stepType:                            accum\n",
       "    ...                                       ...\n",
       "    GRIB_shortName:                           tp\n",
       "    GRIB_units:                               kg m**-2\n",
       "    long_name:                                Total Precipitation\n",
       "    units:                                    kg m**-2\n",
       "    standard_name:                            unknown\n",
       "    grid_mapping:                             gribfile_projection</pre><div class='xr-wrap' style='display:none'><div class='xr-header'><div class='xr-obj-type'>xarray.DataArray</div><div class='xr-array-name'>'tp'</div><ul class='xr-dim-list'><li><span class='xr-has-index'>step</span>: 46</li><li><span>y</span>: 1059</li><li><span>x</span>: 1799</li></ul></div><ul class='xr-sections'><li class='xr-section-item'><div class='xr-array-wrap'><input id='section-88f9c1ab-ecc1-40e0-92d5-9efc6697a8ce' class='xr-array-in' type='checkbox' checked><label for='section-88f9c1ab-ecc1-40e0-92d5-9efc6697a8ce' title='Show/hide data repr'><svg class='icon xr-icon-database'><use xlink:href='#icon-database'></use></svg></label><div class='xr-array-preview xr-preview'><span>0.0 0.0 0.0 0.0 0.0 0.0 0.0 0.0 ... 0.0 0.0 0.0 0.0 0.0 0.0 0.0 0.0</span></div><div class='xr-array-data'><pre>array([[[0., 0., 0., ..., 0., 0., 0.],\n",
       "        [0., 0., 0., ..., 0., 0., 0.],\n",
       "        [0., 0., 0., ..., 0., 0., 0.],\n",
       "        ...,\n",
       "        [0., 0., 0., ..., 0., 0., 0.],\n",
       "        [0., 0., 0., ..., 0., 0., 0.],\n",
       "        [0., 0., 0., ..., 0., 0., 0.]],\n",
       "\n",
       "       [[0., 0., 0., ..., 0., 0., 0.],\n",
       "        [0., 0., 0., ..., 0., 0., 0.],\n",
       "        [0., 0., 0., ..., 0., 0., 0.],\n",
       "        ...,\n",
       "        [0., 0., 0., ..., 0., 0., 0.],\n",
       "        [0., 0., 0., ..., 0., 0., 0.],\n",
       "        [0., 0., 0., ..., 0., 0., 0.]],\n",
       "\n",
       "       [[0., 0., 0., ..., 0., 0., 0.],\n",
       "        [0., 0., 0., ..., 0., 0., 0.],\n",
       "        [0., 0., 0., ..., 0., 0., 0.],\n",
       "        ...,\n",
       "...\n",
       "        ...,\n",
       "        [0., 0., 0., ..., 0., 0., 0.],\n",
       "        [0., 0., 0., ..., 0., 0., 0.],\n",
       "        [0., 0., 0., ..., 0., 0., 0.]],\n",
       "\n",
       "       [[0., 0., 0., ..., 0., 0., 0.],\n",
       "        [0., 0., 0., ..., 0., 0., 0.],\n",
       "        [0., 0., 0., ..., 0., 0., 0.],\n",
       "        ...,\n",
       "        [0., 0., 0., ..., 0., 0., 0.],\n",
       "        [0., 0., 0., ..., 0., 0., 0.],\n",
       "        [0., 0., 0., ..., 0., 0., 0.]],\n",
       "\n",
       "       [[0., 0., 0., ..., 0., 0., 0.],\n",
       "        [0., 0., 0., ..., 0., 0., 0.],\n",
       "        [0., 0., 0., ..., 0., 0., 0.],\n",
       "        ...,\n",
       "        [0., 0., 0., ..., 0., 0., 0.],\n",
       "        [0., 0., 0., ..., 0., 0., 0.],\n",
       "        [0., 0., 0., ..., 0., 0., 0.]]], dtype=float32)</pre></div></div></li><li class='xr-section-item'><input id='section-0bfb2ebc-e25c-4fb6-b430-13070c646c04' class='xr-section-summary-in' type='checkbox'  checked><label for='section-0bfb2ebc-e25c-4fb6-b430-13070c646c04' class='xr-section-summary' >Coordinates: <span>(6)</span></label><div class='xr-section-inline-details'></div><div class='xr-section-details'><ul class='xr-var-list'><li class='xr-var-item'><div class='xr-var-name'><span>time</span></div><div class='xr-var-dims'>()</div><div class='xr-var-dtype'>datetime64[ns]</div><div class='xr-var-preview xr-preview'>2023-01-15T12:00:00</div><input id='attrs-f4a75fc2-fed7-406b-a258-2949a8463232' class='xr-var-attrs-in' type='checkbox' ><label for='attrs-f4a75fc2-fed7-406b-a258-2949a8463232' title='Show/Hide attributes'><svg class='icon xr-icon-file-text2'><use xlink:href='#icon-file-text2'></use></svg></label><input id='data-f9bdbc55-c36a-4e69-b8bc-30ca8b4d3c11' class='xr-var-data-in' type='checkbox'><label for='data-f9bdbc55-c36a-4e69-b8bc-30ca8b4d3c11' title='Show/Hide data repr'><svg class='icon xr-icon-database'><use xlink:href='#icon-database'></use></svg></label><div class='xr-var-attrs'><dl class='xr-attrs'><dt><span>long_name :</span></dt><dd>initial time of forecast</dd><dt><span>standard_name :</span></dt><dd>forecast_reference_time</dd></dl></div><div class='xr-var-data'><pre>array(&#x27;2023-01-15T12:00:00.000000000&#x27;, dtype=&#x27;datetime64[ns]&#x27;)</pre></div></li><li class='xr-var-item'><div class='xr-var-name'><span class='xr-has-index'>step</span></div><div class='xr-var-dims'>(step)</div><div class='xr-var-dtype'>timedelta64[ns]</div><div class='xr-var-preview xr-preview'>01:00:00 ... 1 days 22:00:00</div><input id='attrs-cf799e72-b3a4-450a-9c0c-cbe3dc1e809a' class='xr-var-attrs-in' type='checkbox' ><label for='attrs-cf799e72-b3a4-450a-9c0c-cbe3dc1e809a' title='Show/Hide attributes'><svg class='icon xr-icon-file-text2'><use xlink:href='#icon-file-text2'></use></svg></label><input id='data-36cf72ab-0072-4a78-bd00-8762dee1127a' class='xr-var-data-in' type='checkbox'><label for='data-36cf72ab-0072-4a78-bd00-8762dee1127a' title='Show/Hide data repr'><svg class='icon xr-icon-database'><use xlink:href='#icon-database'></use></svg></label><div class='xr-var-attrs'><dl class='xr-attrs'><dt><span>long_name :</span></dt><dd>time since forecast_reference_time</dd><dt><span>standard_name :</span></dt><dd>forecast_period</dd></dl></div><div class='xr-var-data'><pre>array([  3600000000000,   7200000000000,  10800000000000,  14400000000000,\n",
       "        18000000000000,  21600000000000,  25200000000000,  28800000000000,\n",
       "        32400000000000,  36000000000000,  39600000000000,  43200000000000,\n",
       "        46800000000000,  50400000000000,  54000000000000,  57600000000000,\n",
       "        61200000000000,  64800000000000,  68400000000000,  72000000000000,\n",
       "        75600000000000,  79200000000000,  82800000000000,  86400000000000,\n",
       "        90000000000000,  93600000000000,  97200000000000, 100800000000000,\n",
       "       104400000000000, 108000000000000, 111600000000000, 115200000000000,\n",
       "       118800000000000, 122400000000000, 126000000000000, 129600000000000,\n",
       "       133200000000000, 136800000000000, 140400000000000, 144000000000000,\n",
       "       147600000000000, 151200000000000, 154800000000000, 158400000000000,\n",
       "       162000000000000, 165600000000000], dtype=&#x27;timedelta64[ns]&#x27;)</pre></div></li><li class='xr-var-item'><div class='xr-var-name'><span>surface</span></div><div class='xr-var-dims'>()</div><div class='xr-var-dtype'>float64</div><div class='xr-var-preview xr-preview'>0.0</div><input id='attrs-a96e73c1-2758-4ad8-ad5d-d3bdb8729399' class='xr-var-attrs-in' type='checkbox' ><label for='attrs-a96e73c1-2758-4ad8-ad5d-d3bdb8729399' title='Show/Hide attributes'><svg class='icon xr-icon-file-text2'><use xlink:href='#icon-file-text2'></use></svg></label><input id='data-13626873-0db3-4db0-9822-be5fca971e5e' class='xr-var-data-in' type='checkbox'><label for='data-13626873-0db3-4db0-9822-be5fca971e5e' title='Show/Hide data repr'><svg class='icon xr-icon-database'><use xlink:href='#icon-database'></use></svg></label><div class='xr-var-attrs'><dl class='xr-attrs'><dt><span>long_name :</span></dt><dd>original GRIB coordinate for key: level(surface)</dd><dt><span>units :</span></dt><dd>1</dd></dl></div><div class='xr-var-data'><pre>array(0.)</pre></div></li><li class='xr-var-item'><div class='xr-var-name'><span>latitude</span></div><div class='xr-var-dims'>(y, x)</div><div class='xr-var-dtype'>float64</div><div class='xr-var-preview xr-preview'>21.14 21.15 21.15 ... 47.85 47.84</div><input id='attrs-8776e4ff-834d-4c93-b38a-1989a155f33b' class='xr-var-attrs-in' type='checkbox' ><label for='attrs-8776e4ff-834d-4c93-b38a-1989a155f33b' title='Show/Hide attributes'><svg class='icon xr-icon-file-text2'><use xlink:href='#icon-file-text2'></use></svg></label><input id='data-0154731e-0964-43da-a9bd-64c51154daf4' class='xr-var-data-in' type='checkbox'><label for='data-0154731e-0964-43da-a9bd-64c51154daf4' title='Show/Hide data repr'><svg class='icon xr-icon-database'><use xlink:href='#icon-database'></use></svg></label><div class='xr-var-attrs'><dl class='xr-attrs'><dt><span>units :</span></dt><dd>degrees_north</dd><dt><span>standard_name :</span></dt><dd>latitude</dd><dt><span>long_name :</span></dt><dd>latitude</dd></dl></div><div class='xr-var-data'><pre>array([[21.138123  , 21.14511004, 21.1520901 , ..., 21.1545089 ,\n",
       "        21.14753125, 21.14054663],\n",
       "       [21.16299459, 21.1699845 , 21.17696744, ..., 21.17938723,\n",
       "        21.1724067 , 21.16541921],\n",
       "       [21.18786863, 21.19486142, 21.20184723, ..., 21.20426802,\n",
       "        21.19728462, 21.19029425],\n",
       "       ...,\n",
       "       [47.78955926, 47.799849  , 47.81012868, ..., 47.81369093,\n",
       "        47.80341474, 47.79312849],\n",
       "       [47.81409316, 47.82438621, 47.8346692 , ..., 47.83823259,\n",
       "        47.8279531 , 47.81766354],\n",
       "       [47.8386235 , 47.84891986, 47.85920615, ..., 47.86277069,\n",
       "        47.85248789, 47.84219502]])</pre></div></li><li class='xr-var-item'><div class='xr-var-name'><span>longitude</span></div><div class='xr-var-dims'>(y, x)</div><div class='xr-var-dtype'>float64</div><div class='xr-var-preview xr-preview'>237.3 237.3 237.3 ... 299.0 299.1</div><input id='attrs-019cb2b8-3998-4be6-8771-7f0f7fbc5d66' class='xr-var-attrs-in' type='checkbox' ><label for='attrs-019cb2b8-3998-4be6-8771-7f0f7fbc5d66' title='Show/Hide attributes'><svg class='icon xr-icon-file-text2'><use xlink:href='#icon-file-text2'></use></svg></label><input id='data-8016adfb-41e6-482e-9ae2-c1c043eb461f' class='xr-var-data-in' type='checkbox'><label for='data-8016adfb-41e6-482e-9ae2-c1c043eb461f' title='Show/Hide data repr'><svg class='icon xr-icon-database'><use xlink:href='#icon-database'></use></svg></label><div class='xr-var-attrs'><dl class='xr-attrs'><dt><span>units :</span></dt><dd>degrees_east</dd><dt><span>standard_name :</span></dt><dd>longitude</dd><dt><span>long_name :</span></dt><dd>longitude</dd></dl></div><div class='xr-var-data'><pre>array([[237.280472  , 237.30713868, 237.3338097 , ..., 287.6569408 ,\n",
       "        287.68361332, 287.71028151],\n",
       "       [237.27297501, 237.29964881, 237.32632695, ..., 287.66442108,\n",
       "        287.69110073, 287.71777603],\n",
       "       [237.26547368, 237.2921546 , 237.31883986, ..., 287.6719057 ,\n",
       "        287.69859247, 287.7252749 ],\n",
       "       ...,\n",
       "       [225.9351904 , 225.97171577, 226.00825329, ..., 298.97907406,\n",
       "        299.0156158 , 299.05214538],\n",
       "       [225.91986142, 225.95639874, 225.99294822, ..., 298.99437498,\n",
       "        299.03092868, 299.06747022],\n",
       "       [225.90452027, 225.94106954, 225.97763099, ..., 299.00968806,\n",
       "        299.04625373, 299.08280723]])</pre></div></li><li class='xr-var-item'><div class='xr-var-name'><span>valid_time</span></div><div class='xr-var-dims'>(step)</div><div class='xr-var-dtype'>datetime64[ns]</div><div class='xr-var-preview xr-preview'>2023-01-15T13:00:00 ... 2023-01-...</div><input id='attrs-705e828f-a357-42c2-9ac8-905f8a5b631c' class='xr-var-attrs-in' type='checkbox' ><label for='attrs-705e828f-a357-42c2-9ac8-905f8a5b631c' title='Show/Hide attributes'><svg class='icon xr-icon-file-text2'><use xlink:href='#icon-file-text2'></use></svg></label><input id='data-85731524-0676-48d2-9e3f-ea6157658c95' class='xr-var-data-in' type='checkbox'><label for='data-85731524-0676-48d2-9e3f-ea6157658c95' title='Show/Hide data repr'><svg class='icon xr-icon-database'><use xlink:href='#icon-database'></use></svg></label><div class='xr-var-attrs'><dl class='xr-attrs'><dt><span>standard_name :</span></dt><dd>time</dd><dt><span>long_name :</span></dt><dd>time</dd></dl></div><div class='xr-var-data'><pre>array([&#x27;2023-01-15T13:00:00.000000000&#x27;, &#x27;2023-01-15T14:00:00.000000000&#x27;,\n",
       "       &#x27;2023-01-15T15:00:00.000000000&#x27;, &#x27;2023-01-15T16:00:00.000000000&#x27;,\n",
       "       &#x27;2023-01-15T17:00:00.000000000&#x27;, &#x27;2023-01-15T18:00:00.000000000&#x27;,\n",
       "       &#x27;2023-01-15T19:00:00.000000000&#x27;, &#x27;2023-01-15T20:00:00.000000000&#x27;,\n",
       "       &#x27;2023-01-15T21:00:00.000000000&#x27;, &#x27;2023-01-15T22:00:00.000000000&#x27;,\n",
       "       &#x27;2023-01-15T23:00:00.000000000&#x27;, &#x27;2023-01-16T00:00:00.000000000&#x27;,\n",
       "       &#x27;2023-01-16T01:00:00.000000000&#x27;, &#x27;2023-01-16T02:00:00.000000000&#x27;,\n",
       "       &#x27;2023-01-16T03:00:00.000000000&#x27;, &#x27;2023-01-16T04:00:00.000000000&#x27;,\n",
       "       &#x27;2023-01-16T05:00:00.000000000&#x27;, &#x27;2023-01-16T06:00:00.000000000&#x27;,\n",
       "       &#x27;2023-01-16T07:00:00.000000000&#x27;, &#x27;2023-01-16T08:00:00.000000000&#x27;,\n",
       "       &#x27;2023-01-16T09:00:00.000000000&#x27;, &#x27;2023-01-16T10:00:00.000000000&#x27;,\n",
       "       &#x27;2023-01-16T11:00:00.000000000&#x27;, &#x27;2023-01-16T12:00:00.000000000&#x27;,\n",
       "       &#x27;2023-01-16T13:00:00.000000000&#x27;, &#x27;2023-01-16T14:00:00.000000000&#x27;,\n",
       "       &#x27;2023-01-16T15:00:00.000000000&#x27;, &#x27;2023-01-16T16:00:00.000000000&#x27;,\n",
       "       &#x27;2023-01-16T17:00:00.000000000&#x27;, &#x27;2023-01-16T18:00:00.000000000&#x27;,\n",
       "       &#x27;2023-01-16T19:00:00.000000000&#x27;, &#x27;2023-01-16T20:00:00.000000000&#x27;,\n",
       "       &#x27;2023-01-16T21:00:00.000000000&#x27;, &#x27;2023-01-16T22:00:00.000000000&#x27;,\n",
       "       &#x27;2023-01-16T23:00:00.000000000&#x27;, &#x27;2023-01-17T00:00:00.000000000&#x27;,\n",
       "       &#x27;2023-01-17T01:00:00.000000000&#x27;, &#x27;2023-01-17T02:00:00.000000000&#x27;,\n",
       "       &#x27;2023-01-17T03:00:00.000000000&#x27;, &#x27;2023-01-17T04:00:00.000000000&#x27;,\n",
       "       &#x27;2023-01-17T05:00:00.000000000&#x27;, &#x27;2023-01-17T06:00:00.000000000&#x27;,\n",
       "       &#x27;2023-01-17T07:00:00.000000000&#x27;, &#x27;2023-01-17T08:00:00.000000000&#x27;,\n",
       "       &#x27;2023-01-17T09:00:00.000000000&#x27;, &#x27;2023-01-17T10:00:00.000000000&#x27;],\n",
       "      dtype=&#x27;datetime64[ns]&#x27;)</pre></div></li></ul></div></li><li class='xr-section-item'><input id='section-bfda833e-ca15-4284-827e-1101a71e211d' class='xr-section-summary-in' type='checkbox'  ><label for='section-bfda833e-ca15-4284-827e-1101a71e211d' class='xr-section-summary' >Indexes: <span>(1)</span></label><div class='xr-section-inline-details'></div><div class='xr-section-details'><ul class='xr-var-list'><li class='xr-var-item'><div class='xr-index-name'><div>step</div></div><div class='xr-index-preview'>PandasIndex</div><div></div><input id='index-a295b6fb-f1cd-4ac3-9529-0d965ac5741f' class='xr-index-data-in' type='checkbox'/><label for='index-a295b6fb-f1cd-4ac3-9529-0d965ac5741f' title='Show/Hide index repr'><svg class='icon xr-icon-database'><use xlink:href='#icon-database'></use></svg></label><div class='xr-index-data'><pre>PandasIndex(TimedeltaIndex([&#x27;0 days 01:00:00&#x27;, &#x27;0 days 02:00:00&#x27;, &#x27;0 days 03:00:00&#x27;,\n",
       "                &#x27;0 days 04:00:00&#x27;, &#x27;0 days 05:00:00&#x27;, &#x27;0 days 06:00:00&#x27;,\n",
       "                &#x27;0 days 07:00:00&#x27;, &#x27;0 days 08:00:00&#x27;, &#x27;0 days 09:00:00&#x27;,\n",
       "                &#x27;0 days 10:00:00&#x27;, &#x27;0 days 11:00:00&#x27;, &#x27;0 days 12:00:00&#x27;,\n",
       "                &#x27;0 days 13:00:00&#x27;, &#x27;0 days 14:00:00&#x27;, &#x27;0 days 15:00:00&#x27;,\n",
       "                &#x27;0 days 16:00:00&#x27;, &#x27;0 days 17:00:00&#x27;, &#x27;0 days 18:00:00&#x27;,\n",
       "                &#x27;0 days 19:00:00&#x27;, &#x27;0 days 20:00:00&#x27;, &#x27;0 days 21:00:00&#x27;,\n",
       "                &#x27;0 days 22:00:00&#x27;, &#x27;0 days 23:00:00&#x27;, &#x27;1 days 00:00:00&#x27;,\n",
       "                &#x27;1 days 01:00:00&#x27;, &#x27;1 days 02:00:00&#x27;, &#x27;1 days 03:00:00&#x27;,\n",
       "                &#x27;1 days 04:00:00&#x27;, &#x27;1 days 05:00:00&#x27;, &#x27;1 days 06:00:00&#x27;,\n",
       "                &#x27;1 days 07:00:00&#x27;, &#x27;1 days 08:00:00&#x27;, &#x27;1 days 09:00:00&#x27;,\n",
       "                &#x27;1 days 10:00:00&#x27;, &#x27;1 days 11:00:00&#x27;, &#x27;1 days 12:00:00&#x27;,\n",
       "                &#x27;1 days 13:00:00&#x27;, &#x27;1 days 14:00:00&#x27;, &#x27;1 days 15:00:00&#x27;,\n",
       "                &#x27;1 days 16:00:00&#x27;, &#x27;1 days 17:00:00&#x27;, &#x27;1 days 18:00:00&#x27;,\n",
       "                &#x27;1 days 19:00:00&#x27;, &#x27;1 days 20:00:00&#x27;, &#x27;1 days 21:00:00&#x27;,\n",
       "                &#x27;1 days 22:00:00&#x27;],\n",
       "               dtype=&#x27;timedelta64[ns]&#x27;, name=&#x27;step&#x27;, freq=None))</pre></div></li></ul></div></li><li class='xr-section-item'><input id='section-014226c8-70ec-45aa-a533-3ba3c3fa5f6e' class='xr-section-summary-in' type='checkbox'  ><label for='section-014226c8-70ec-45aa-a533-3ba3c3fa5f6e' class='xr-section-summary' >Attributes: <span>(36)</span></label><div class='xr-section-inline-details'></div><div class='xr-section-details'><dl class='xr-attrs'><dt><span>GRIB_paramId :</span></dt><dd>228228</dd><dt><span>GRIB_dataType :</span></dt><dd>fc</dd><dt><span>GRIB_numberOfPoints :</span></dt><dd>1905141</dd><dt><span>GRIB_typeOfLevel :</span></dt><dd>surface</dd><dt><span>GRIB_stepUnits :</span></dt><dd>1</dd><dt><span>GRIB_stepType :</span></dt><dd>accum</dd><dt><span>GRIB_gridType :</span></dt><dd>lambert</dd><dt><span>GRIB_DxInMetres :</span></dt><dd>3000.0</dd><dt><span>GRIB_DyInMetres :</span></dt><dd>3000.0</dd><dt><span>GRIB_LaDInDegrees :</span></dt><dd>38.5</dd><dt><span>GRIB_Latin1InDegrees :</span></dt><dd>38.5</dd><dt><span>GRIB_Latin2InDegrees :</span></dt><dd>38.5</dd><dt><span>GRIB_LoVInDegrees :</span></dt><dd>262.5</dd><dt><span>GRIB_NV :</span></dt><dd>0</dd><dt><span>GRIB_Nx :</span></dt><dd>1799</dd><dt><span>GRIB_Ny :</span></dt><dd>1059</dd><dt><span>GRIB_cfName :</span></dt><dd>unknown</dd><dt><span>GRIB_cfVarName :</span></dt><dd>unknown</dd><dt><span>GRIB_gridDefinitionDescription :</span></dt><dd>Lambert Conformal can be secant or tangent, conical or bipolar</dd><dt><span>GRIB_iScansNegatively :</span></dt><dd>0</dd><dt><span>GRIB_jPointsAreConsecutive :</span></dt><dd>0</dd><dt><span>GRIB_jScansPositively :</span></dt><dd>1</dd><dt><span>GRIB_latitudeOfFirstGridPointInDegrees :</span></dt><dd>21.138123</dd><dt><span>GRIB_latitudeOfSouthernPoleInDegrees :</span></dt><dd>0.0</dd><dt><span>GRIB_longitudeOfFirstGridPointInDegrees :</span></dt><dd>237.280472</dd><dt><span>GRIB_longitudeOfSouthernPoleInDegrees :</span></dt><dd>0.0</dd><dt><span>GRIB_missingValue :</span></dt><dd>3.4028234663852886e+38</dd><dt><span>GRIB_name :</span></dt><dd>Total Precipitation</dd><dt><span>GRIB_parameterName :</span></dt><dd>Total precipitation</dd><dt><span>GRIB_parameterUnits :</span></dt><dd>kg m-2</dd><dt><span>GRIB_shortName :</span></dt><dd>tp</dd><dt><span>GRIB_units :</span></dt><dd>kg m**-2</dd><dt><span>long_name :</span></dt><dd>Total Precipitation</dd><dt><span>units :</span></dt><dd>kg m**-2</dd><dt><span>standard_name :</span></dt><dd>unknown</dd><dt><span>grid_mapping :</span></dt><dd>gribfile_projection</dd></dl></div></li></ul></div></div>"
      ],
      "text/plain": [
       "<xarray.DataArray 'tp' (step: 46, y: 1059, x: 1799)>\n",
       "array([[[0., 0., 0., ..., 0., 0., 0.],\n",
       "        [0., 0., 0., ..., 0., 0., 0.],\n",
       "        [0., 0., 0., ..., 0., 0., 0.],\n",
       "        ...,\n",
       "        [0., 0., 0., ..., 0., 0., 0.],\n",
       "        [0., 0., 0., ..., 0., 0., 0.],\n",
       "        [0., 0., 0., ..., 0., 0., 0.]],\n",
       "\n",
       "       [[0., 0., 0., ..., 0., 0., 0.],\n",
       "        [0., 0., 0., ..., 0., 0., 0.],\n",
       "        [0., 0., 0., ..., 0., 0., 0.],\n",
       "        ...,\n",
       "        [0., 0., 0., ..., 0., 0., 0.],\n",
       "        [0., 0., 0., ..., 0., 0., 0.],\n",
       "        [0., 0., 0., ..., 0., 0., 0.]],\n",
       "\n",
       "       [[0., 0., 0., ..., 0., 0., 0.],\n",
       "        [0., 0., 0., ..., 0., 0., 0.],\n",
       "        [0., 0., 0., ..., 0., 0., 0.],\n",
       "        ...,\n",
       "...\n",
       "        ...,\n",
       "        [0., 0., 0., ..., 0., 0., 0.],\n",
       "        [0., 0., 0., ..., 0., 0., 0.],\n",
       "        [0., 0., 0., ..., 0., 0., 0.]],\n",
       "\n",
       "       [[0., 0., 0., ..., 0., 0., 0.],\n",
       "        [0., 0., 0., ..., 0., 0., 0.],\n",
       "        [0., 0., 0., ..., 0., 0., 0.],\n",
       "        ...,\n",
       "        [0., 0., 0., ..., 0., 0., 0.],\n",
       "        [0., 0., 0., ..., 0., 0., 0.],\n",
       "        [0., 0., 0., ..., 0., 0., 0.]],\n",
       "\n",
       "       [[0., 0., 0., ..., 0., 0., 0.],\n",
       "        [0., 0., 0., ..., 0., 0., 0.],\n",
       "        [0., 0., 0., ..., 0., 0., 0.],\n",
       "        ...,\n",
       "        [0., 0., 0., ..., 0., 0., 0.],\n",
       "        [0., 0., 0., ..., 0., 0., 0.],\n",
       "        [0., 0., 0., ..., 0., 0., 0.]]], dtype=float32)\n",
       "Coordinates:\n",
       "    time        datetime64[ns] 2023-01-15T12:00:00\n",
       "  * step        (step) timedelta64[ns] 01:00:00 02:00:00 ... 1 days 22:00:00\n",
       "    surface     float64 0.0\n",
       "    latitude    (y, x) float64 21.14 21.15 21.15 21.16 ... 47.86 47.85 47.84\n",
       "    longitude   (y, x) float64 237.3 237.3 237.3 237.4 ... 299.0 299.0 299.1\n",
       "    valid_time  (step) datetime64[ns] 2023-01-15T13:00:00 ... 2023-01-17T10:0...\n",
       "Dimensions without coordinates: y, x\n",
       "Attributes: (12/36)\n",
       "    GRIB_paramId:                             228228\n",
       "    GRIB_dataType:                            fc\n",
       "    GRIB_numberOfPoints:                      1905141\n",
       "    GRIB_typeOfLevel:                         surface\n",
       "    GRIB_stepUnits:                           1\n",
       "    GRIB_stepType:                            accum\n",
       "    ...                                       ...\n",
       "    GRIB_shortName:                           tp\n",
       "    GRIB_units:                               kg m**-2\n",
       "    long_name:                                Total Precipitation\n",
       "    units:                                    kg m**-2\n",
       "    standard_name:                            unknown\n",
       "    grid_mapping:                             gribfile_projection"
      ]
     },
     "execution_count": 152,
     "metadata": {},
     "output_type": "execute_result"
    }
   ],
   "source": [
    "ds.tp"
   ]
  },
  {
   "cell_type": "code",
   "execution_count": 154,
   "id": "b0cb38b1",
   "metadata": {},
   "outputs": [
    {
     "data": {
      "text/plain": [
       "<matplotlib.collections.QuadMesh at 0x19e220310>"
      ]
     },
     "execution_count": 154,
     "metadata": {},
     "output_type": "execute_result"
    },
    {
     "data": {
      "image/png": "[encoded data removed]",
      "text/plain": [
       "<Figure size 640x480 with 2 Axes>"
      ]
     },
     "metadata": {},
     "output_type": "display_data"
    }
   ],
   "source": [
    "ds.tp.isel(step=1).plot()"
   ]
  },
  {
   "cell_type": "code",
   "execution_count": null,
   "id": "77b42f70",
   "metadata": {},
   "outputs": [],
   "source": []
  },
  {
   "cell_type": "code",
   "execution_count": 155,
   "id": "0503be24",
   "metadata": {},
   "outputs": [
    {
     "name": "stderr",
     "output_type": "stream",
     "text": [
      "/Users/scollis/miniconda3/envs/models/lib/python3.11/site-packages/metpy/xarray.py:382: UserWarning: More than one time coordinate present for variable \"tp\".\n",
      "  warnings.warn('More than one ' + axis + ' coordinate present for variable'\n"
     ]
    },
    {
     "data": {
      "text/html": [
       "<div><svg style=\"position: absolute; width: 0; height: 0; overflow: hidden\">\n",
       "<defs>\n",
       "<symbol id=\"icon-database\" viewBox=\"0 0 32 32\">\n",
       "<path d=\"M16 0c-8.837 0-16 2.239-16 5v4c0 2.761 7.163 5 16 5s16-2.239 16-5v-4c0-2.761-7.163-5-16-5z\"></path>\n",
       "<path d=\"M16 17c-8.837 0-16-2.239-16-5v6c0 2.761 7.163 5 16 5s16-2.239 16-5v-6c0 2.761-7.163 5-16 5z\"></path>\n",
       "<path d=\"M16 26c-8.837 0-16-2.239-16-5v6c0 2.761 7.163 5 16 5s16-2.239 16-5v-6c0 2.761-7.163 5-16 5z\"></path>\n",
       "</symbol>\n",
       "<symbol id=\"icon-file-text2\" viewBox=\"0 0 32 32\">\n",
       "<path d=\"M28.681 7.159c-0.694-0.947-1.662-2.053-2.724-3.116s-2.169-2.030-3.116-2.724c-1.612-1.182-2.393-1.319-2.841-1.319h-15.5c-1.378 0-2.5 1.121-2.5 2.5v27c0 1.378 1.122 2.5 2.5 2.5h23c1.378 0 2.5-1.122 2.5-2.5v-19.5c0-0.448-0.137-1.23-1.319-2.841zM24.543 5.457c0.959 0.959 1.712 1.825 2.268 2.543h-4.811v-4.811c0.718 0.556 1.584 1.309 2.543 2.268zM28 29.5c0 0.271-0.229 0.5-0.5 0.5h-23c-0.271 0-0.5-0.229-0.5-0.5v-27c0-0.271 0.229-0.5 0.5-0.5 0 0 15.499-0 15.5 0v7c0 0.552 0.448 1 1 1h7v19.5z\"></path>\n",
       "<path d=\"M23 26h-14c-0.552 0-1-0.448-1-1s0.448-1 1-1h14c0.552 0 1 0.448 1 1s-0.448 1-1 1z\"></path>\n",
       "<path d=\"M23 22h-14c-0.552 0-1-0.448-1-1s0.448-1 1-1h14c0.552 0 1 0.448 1 1s-0.448 1-1 1z\"></path>\n",
       "<path d=\"M23 18h-14c-0.552 0-1-0.448-1-1s0.448-1 1-1h14c0.552 0 1 0.448 1 1s-0.448 1-1 1z\"></path>\n",
       "</symbol>\n",
       "</defs>\n",
       "</svg>\n",
       "<style>/* CSS stylesheet for displaying xarray objects in jupyterlab.\n",
       " *\n",
       " */\n",
       "\n",
       ":root {\n",
       "  --xr-font-color0: var(--jp-content-font-color0, rgba(0, 0, 0, 1));\n",
       "  --xr-font-color2: var(--jp-content-font-color2, rgba(0, 0, 0, 0.54));\n",
       "  --xr-font-color3: var(--jp-content-font-color3, rgba(0, 0, 0, 0.38));\n",
       "  --xr-border-color: var(--jp-border-color2, #e0e0e0);\n",
       "  --xr-disabled-color: var(--jp-layout-color3, #bdbdbd);\n",
       "  --xr-background-color: var(--jp-layout-color0, white);\n",
       "  --xr-background-color-row-even: var(--jp-layout-color1, white);\n",
       "  --xr-background-color-row-odd: var(--jp-layout-color2, #eeeeee);\n",
       "}\n",
       "\n",
       "html[theme=dark],\n",
       "body[data-theme=dark],\n",
       "body.vscode-dark {\n",
       "  --xr-font-color0: rgba(255, 255, 255, 1);\n",
       "  --xr-font-color2: rgba(255, 255, 255, 0.54);\n",
       "  --xr-font-color3: rgba(255, 255, 255, 0.38);\n",
       "  --xr-border-color: #1F1F1F;\n",
       "  --xr-disabled-color: #515151;\n",
       "  --xr-background-color: #111111;\n",
       "  --xr-background-color-row-even: #111111;\n",
       "  --xr-background-color-row-odd: #313131;\n",
       "}\n",
       "\n",
       ".xr-wrap {\n",
       "  display: block !important;\n",
       "  min-width: 300px;\n",
       "  max-width: 700px;\n",
       "}\n",
       "\n",
       ".xr-text-repr-fallback {\n",
       "  /* fallback to plain text repr when CSS is not injected (untrusted notebook) */\n",
       "  display: none;\n",
       "}\n",
       "\n",
       ".xr-header {\n",
       "  padding-top: 6px;\n",
       "  padding-bottom: 6px;\n",
       "  margin-bottom: 4px;\n",
       "  border-bottom: solid 1px var(--xr-border-color);\n",
       "}\n",
       "\n",
       ".xr-header > div,\n",
       ".xr-header > ul {\n",
       "  display: inline;\n",
       "  margin-top: 0;\n",
       "  margin-bottom: 0;\n",
       "}\n",
       "\n",
       ".xr-obj-type,\n",
       ".xr-array-name {\n",
       "  margin-left: 2px;\n",
       "  margin-right: 10px;\n",
       "}\n",
       "\n",
       ".xr-obj-type {\n",
       "  color: var(--xr-font-color2);\n",
       "}\n",
       "\n",
       ".xr-sections {\n",
       "  padding-left: 0 !important;\n",
       "  display: grid;\n",
       "  grid-template-columns: 150px auto auto 1fr 20px 20px;\n",
       "}\n",
       "\n",
       ".xr-section-item {\n",
       "  display: contents;\n",
       "}\n",
       "\n",
       ".xr-section-item input {\n",
       "  display: none;\n",
       "}\n",
       "\n",
       ".xr-section-item input + label {\n",
       "  color: var(--xr-disabled-color);\n",
       "}\n",
       "\n",
       ".xr-section-item input:enabled + label {\n",
       "  cursor: pointer;\n",
       "  color: var(--xr-font-color2);\n",
       "}\n",
       "\n",
       ".xr-section-item input:enabled + label:hover {\n",
       "  color: var(--xr-font-color0);\n",
       "}\n",
       "\n",
       ".xr-section-summary {\n",
       "  grid-column: 1;\n",
       "  color: var(--xr-font-color2);\n",
       "  font-weight: 500;\n",
       "}\n",
       "\n",
       ".xr-section-summary > span {\n",
       "  display: inline-block;\n",
       "  padding-left: 0.5em;\n",
       "}\n",
       "\n",
       ".xr-section-summary-in:disabled + label {\n",
       "  color: var(--xr-font-color2);\n",
       "}\n",
       "\n",
       ".xr-section-summary-in + label:before {\n",
       "  display: inline-block;\n",
       "  content: '►';\n",
       "  font-size: 11px;\n",
       "  width: 15px;\n",
       "  text-align: center;\n",
       "}\n",
       "\n",
       ".xr-section-summary-in:disabled + label:before {\n",
       "  color: var(--xr-disabled-color);\n",
       "}\n",
       "\n",
       ".xr-section-summary-in:checked + label:before {\n",
       "  content: '▼';\n",
       "}\n",
       "\n",
       ".xr-section-summary-in:checked + label > span {\n",
       "  display: none;\n",
       "}\n",
       "\n",
       ".xr-section-summary,\n",
       ".xr-section-inline-details {\n",
       "  padding-top: 4px;\n",
       "  padding-bottom: 4px;\n",
       "}\n",
       "\n",
       ".xr-section-inline-details {\n",
       "  grid-column: 2 / -1;\n",
       "}\n",
       "\n",
       ".xr-section-details {\n",
       "  display: none;\n",
       "  grid-column: 1 / -1;\n",
       "  margin-bottom: 5px;\n",
       "}\n",
       "\n",
       ".xr-section-summary-in:checked ~ .xr-section-details {\n",
       "  display: contents;\n",
       "}\n",
       "\n",
       ".xr-array-wrap {\n",
       "  grid-column: 1 / -1;\n",
       "  display: grid;\n",
       "  grid-template-columns: 20px auto;\n",
       "}\n",
       "\n",
       ".xr-array-wrap > label {\n",
       "  grid-column: 1;\n",
       "  vertical-align: top;\n",
       "}\n",
       "\n",
       ".xr-preview {\n",
       "  color: var(--xr-font-color3);\n",
       "}\n",
       "\n",
       ".xr-array-preview,\n",
       ".xr-array-data {\n",
       "  padding: 0 5px !important;\n",
       "  grid-column: 2;\n",
       "}\n",
       "\n",
       ".xr-array-data,\n",
       ".xr-array-in:checked ~ .xr-array-preview {\n",
       "  display: none;\n",
       "}\n",
       "\n",
       ".xr-array-in:checked ~ .xr-array-data,\n",
       ".xr-array-preview {\n",
       "  display: inline-block;\n",
       "}\n",
       "\n",
       ".xr-dim-list {\n",
       "  display: inline-block !important;\n",
       "  list-style: none;\n",
       "  padding: 0 !important;\n",
       "  margin: 0;\n",
       "}\n",
       "\n",
       ".xr-dim-list li {\n",
       "  display: inline-block;\n",
       "  padding: 0;\n",
       "  margin: 0;\n",
       "}\n",
       "\n",
       ".xr-dim-list:before {\n",
       "  content: '(';\n",
       "}\n",
       "\n",
       ".xr-dim-list:after {\n",
       "  content: ')';\n",
       "}\n",
       "\n",
       ".xr-dim-list li:not(:last-child):after {\n",
       "  content: ',';\n",
       "  padding-right: 5px;\n",
       "}\n",
       "\n",
       ".xr-has-index {\n",
       "  font-weight: bold;\n",
       "}\n",
       "\n",
       ".xr-var-list,\n",
       ".xr-var-item {\n",
       "  display: contents;\n",
       "}\n",
       "\n",
       ".xr-var-item > div,\n",
       ".xr-var-item label,\n",
       ".xr-var-item > .xr-var-name span {\n",
       "  background-color: var(--xr-background-color-row-even);\n",
       "  margin-bottom: 0;\n",
       "}\n",
       "\n",
       ".xr-var-item > .xr-var-name:hover span {\n",
       "  padding-right: 5px;\n",
       "}\n",
       "\n",
       ".xr-var-list > li:nth-child(odd) > div,\n",
       ".xr-var-list > li:nth-child(odd) > label,\n",
       ".xr-var-list > li:nth-child(odd) > .xr-var-name span {\n",
       "  background-color: var(--xr-background-color-row-odd);\n",
       "}\n",
       "\n",
       ".xr-var-name {\n",
       "  grid-column: 1;\n",
       "}\n",
       "\n",
       ".xr-var-dims {\n",
       "  grid-column: 2;\n",
       "}\n",
       "\n",
       ".xr-var-dtype {\n",
       "  grid-column: 3;\n",
       "  text-align: right;\n",
       "  color: var(--xr-font-color2);\n",
       "}\n",
       "\n",
       ".xr-var-preview {\n",
       "  grid-column: 4;\n",
       "}\n",
       "\n",
       ".xr-index-preview {\n",
       "  grid-column: 2 / 5;\n",
       "  color: var(--xr-font-color2);\n",
       "}\n",
       "\n",
       ".xr-var-name,\n",
       ".xr-var-dims,\n",
       ".xr-var-dtype,\n",
       ".xr-preview,\n",
       ".xr-attrs dt {\n",
       "  white-space: nowrap;\n",
       "  overflow: hidden;\n",
       "  text-overflow: ellipsis;\n",
       "  padding-right: 10px;\n",
       "}\n",
       "\n",
       ".xr-var-name:hover,\n",
       ".xr-var-dims:hover,\n",
       ".xr-var-dtype:hover,\n",
       ".xr-attrs dt:hover {\n",
       "  overflow: visible;\n",
       "  width: auto;\n",
       "  z-index: 1;\n",
       "}\n",
       "\n",
       ".xr-var-attrs,\n",
       ".xr-var-data,\n",
       ".xr-index-data {\n",
       "  display: none;\n",
       "  background-color: var(--xr-background-color) !important;\n",
       "  padding-bottom: 5px !important;\n",
       "}\n",
       "\n",
       ".xr-var-attrs-in:checked ~ .xr-var-attrs,\n",
       ".xr-var-data-in:checked ~ .xr-var-data,\n",
       ".xr-index-data-in:checked ~ .xr-index-data {\n",
       "  display: block;\n",
       "}\n",
       "\n",
       ".xr-var-data > table {\n",
       "  float: right;\n",
       "}\n",
       "\n",
       ".xr-var-name span,\n",
       ".xr-var-data,\n",
       ".xr-index-name div,\n",
       ".xr-index-data,\n",
       ".xr-attrs {\n",
       "  padding-left: 25px !important;\n",
       "}\n",
       "\n",
       ".xr-attrs,\n",
       ".xr-var-attrs,\n",
       ".xr-var-data,\n",
       ".xr-index-data {\n",
       "  grid-column: 1 / -1;\n",
       "}\n",
       "\n",
       "dl.xr-attrs {\n",
       "  padding: 0;\n",
       "  margin: 0;\n",
       "  display: grid;\n",
       "  grid-template-columns: 125px auto;\n",
       "}\n",
       "\n",
       ".xr-attrs dt,\n",
       ".xr-attrs dd {\n",
       "  padding: 0;\n",
       "  margin: 0;\n",
       "  float: left;\n",
       "  padding-right: 10px;\n",
       "  width: auto;\n",
       "}\n",
       "\n",
       ".xr-attrs dt {\n",
       "  font-weight: normal;\n",
       "  grid-column: 1;\n",
       "}\n",
       "\n",
       ".xr-attrs dt:hover span {\n",
       "  display: inline-block;\n",
       "  background: var(--xr-background-color);\n",
       "  padding-right: 10px;\n",
       "}\n",
       "\n",
       ".xr-attrs dd {\n",
       "  grid-column: 2;\n",
       "  white-space: pre-wrap;\n",
       "  word-break: break-all;\n",
       "}\n",
       "\n",
       ".xr-icon-database,\n",
       ".xr-icon-file-text2,\n",
       ".xr-no-icon {\n",
       "  display: inline-block;\n",
       "  vertical-align: middle;\n",
       "  width: 1em;\n",
       "  height: 1.5em !important;\n",
       "  stroke-width: 0;\n",
       "  stroke: currentColor;\n",
       "  fill: currentColor;\n",
       "}\n",
       "</style><pre class='xr-text-repr-fallback'>&lt;xarray.Dataset&gt;\n",
       "Dimensions:              (step: 46, point: 3)\n",
       "Coordinates:\n",
       "    time                 datetime64[ns] 2023-01-15T12:00:00\n",
       "  * step                 (step) timedelta64[ns] 01:00:00 ... 1 days 22:00:00\n",
       "    surface              float64 0.0\n",
       "    latitude             (point) float64 41.88 41.71 41.79\n",
       "    longitude            (point) float64 272.4 272.0 272.0\n",
       "    valid_time           (step) datetime64[ns] 2023-01-15T13:00:00 ... 2023-0...\n",
       "    metpy_crs            object Projection: lambert_conformal_conic\n",
       "    y                    (point) float64 4.197e+05 3.987e+05 4.077e+05\n",
       "    x                    (point) float64 8.185e+05 7.915e+05 7.915e+05\n",
       "  * point                (point) &lt;U7 &#x27;Chicago&#x27; &#x27;Argonne&#x27; &#x27;Barn&#x27;\n",
       "Data variables:\n",
       "    tp                   (point, step) float32 0.0 0.0 0.0 0.0 ... 0.0 0.013 0.0\n",
       "    gribfile_projection  (point) object None None None\n",
       "Attributes:\n",
       "    GRIB_edition:            2\n",
       "    GRIB_centre:             kwbc\n",
       "    GRIB_centreDescription:  US National Weather Service - NCEP\n",
       "    GRIB_subCentre:          0\n",
       "    Conventions:             CF-1.7\n",
       "    institution:             US National Weather Service - NCEP\n",
       "    model:                   hrrr\n",
       "    product:                 sfc\n",
       "    description:             High-Resolution Rapid Refresh - CONUS\n",
       "    searchString:            (:APCP:surface:0-1 h*|:APCP:surface:1-2 h*|:APCP...</pre><div class='xr-wrap' style='display:none'><div class='xr-header'><div class='xr-obj-type'>xarray.Dataset</div></div><ul class='xr-sections'><li class='xr-section-item'><input id='section-c828391c-e662-4e57-804a-0f9c45360af3' class='xr-section-summary-in' type='checkbox' disabled ><label for='section-c828391c-e662-4e57-804a-0f9c45360af3' class='xr-section-summary'  title='Expand/collapse section'>Dimensions:</label><div class='xr-section-inline-details'><ul class='xr-dim-list'><li><span class='xr-has-index'>step</span>: 46</li><li><span class='xr-has-index'>point</span>: 3</li></ul></div><div class='xr-section-details'></div></li><li class='xr-section-item'><input id='section-0786c829-8978-48ac-976c-6289a97543cd' class='xr-section-summary-in' type='checkbox'  checked><label for='section-0786c829-8978-48ac-976c-6289a97543cd' class='xr-section-summary' >Coordinates: <span>(10)</span></label><div class='xr-section-inline-details'></div><div class='xr-section-details'><ul class='xr-var-list'><li class='xr-var-item'><div class='xr-var-name'><span>time</span></div><div class='xr-var-dims'>()</div><div class='xr-var-dtype'>datetime64[ns]</div><div class='xr-var-preview xr-preview'>2023-01-15T12:00:00</div><input id='attrs-2868a7f7-79b9-42d6-b03b-ad7e291cdd3e' class='xr-var-attrs-in' type='checkbox' ><label for='attrs-2868a7f7-79b9-42d6-b03b-ad7e291cdd3e' title='Show/Hide attributes'><svg class='icon xr-icon-file-text2'><use xlink:href='#icon-file-text2'></use></svg></label><input id='data-7b772ad8-1e95-4f2d-a8d2-15fa313aa403' class='xr-var-data-in' type='checkbox'><label for='data-7b772ad8-1e95-4f2d-a8d2-15fa313aa403' title='Show/Hide data repr'><svg class='icon xr-icon-database'><use xlink:href='#icon-database'></use></svg></label><div class='xr-var-attrs'><dl class='xr-attrs'><dt><span>long_name :</span></dt><dd>initial time of forecast</dd><dt><span>standard_name :</span></dt><dd>forecast_reference_time</dd><dt><span>_metpy_axis :</span></dt><dd>time</dd></dl></div><div class='xr-var-data'><pre>array(&#x27;2023-01-15T12:00:00.000000000&#x27;, dtype=&#x27;datetime64[ns]&#x27;)</pre></div></li><li class='xr-var-item'><div class='xr-var-name'><span class='xr-has-index'>step</span></div><div class='xr-var-dims'>(step)</div><div class='xr-var-dtype'>timedelta64[ns]</div><div class='xr-var-preview xr-preview'>01:00:00 ... 1 days 22:00:00</div><input id='attrs-faf00963-db4f-443b-9e4a-1cb44c73aa7c' class='xr-var-attrs-in' type='checkbox' ><label for='attrs-faf00963-db4f-443b-9e4a-1cb44c73aa7c' title='Show/Hide attributes'><svg class='icon xr-icon-file-text2'><use xlink:href='#icon-file-text2'></use></svg></label><input id='data-0cb4f898-9603-40b5-8b61-c3a5cd5f9a2d' class='xr-var-data-in' type='checkbox'><label for='data-0cb4f898-9603-40b5-8b61-c3a5cd5f9a2d' title='Show/Hide data repr'><svg class='icon xr-icon-database'><use xlink:href='#icon-database'></use></svg></label><div class='xr-var-attrs'><dl class='xr-attrs'><dt><span>long_name :</span></dt><dd>time since forecast_reference_time</dd><dt><span>standard_name :</span></dt><dd>forecast_period</dd></dl></div><div class='xr-var-data'><pre>array([  3600000000000,   7200000000000,  10800000000000,  14400000000000,\n",
       "        18000000000000,  21600000000000,  25200000000000,  28800000000000,\n",
       "        32400000000000,  36000000000000,  39600000000000,  43200000000000,\n",
       "        46800000000000,  50400000000000,  54000000000000,  57600000000000,\n",
       "        61200000000000,  64800000000000,  68400000000000,  72000000000000,\n",
       "        75600000000000,  79200000000000,  82800000000000,  86400000000000,\n",
       "        90000000000000,  93600000000000,  97200000000000, 100800000000000,\n",
       "       104400000000000, 108000000000000, 111600000000000, 115200000000000,\n",
       "       118800000000000, 122400000000000, 126000000000000, 129600000000000,\n",
       "       133200000000000, 136800000000000, 140400000000000, 144000000000000,\n",
       "       147600000000000, 151200000000000, 154800000000000, 158400000000000,\n",
       "       162000000000000, 165600000000000], dtype=&#x27;timedelta64[ns]&#x27;)</pre></div></li><li class='xr-var-item'><div class='xr-var-name'><span>surface</span></div><div class='xr-var-dims'>()</div><div class='xr-var-dtype'>float64</div><div class='xr-var-preview xr-preview'>0.0</div><input id='attrs-95dd394f-22bb-4911-8337-be40f557d0f7' class='xr-var-attrs-in' type='checkbox' ><label for='attrs-95dd394f-22bb-4911-8337-be40f557d0f7' title='Show/Hide attributes'><svg class='icon xr-icon-file-text2'><use xlink:href='#icon-file-text2'></use></svg></label><input id='data-c6888481-6dc6-4e9f-a67d-3c7e42c9c048' class='xr-var-data-in' type='checkbox'><label for='data-c6888481-6dc6-4e9f-a67d-3c7e42c9c048' title='Show/Hide data repr'><svg class='icon xr-icon-database'><use xlink:href='#icon-database'></use></svg></label><div class='xr-var-attrs'><dl class='xr-attrs'><dt><span>long_name :</span></dt><dd>original GRIB coordinate for key: level(surface)</dd><dt><span>units :</span></dt><dd>1</dd></dl></div><div class='xr-var-data'><pre>array(0.)</pre></div></li><li class='xr-var-item'><div class='xr-var-name'><span>latitude</span></div><div class='xr-var-dims'>(point)</div><div class='xr-var-dtype'>float64</div><div class='xr-var-preview xr-preview'>41.88 41.71 41.79</div><input id='attrs-8fb7d5e9-a5b8-432f-96f2-73f21acb0e49' class='xr-var-attrs-in' type='checkbox' ><label for='attrs-8fb7d5e9-a5b8-432f-96f2-73f21acb0e49' title='Show/Hide attributes'><svg class='icon xr-icon-file-text2'><use xlink:href='#icon-file-text2'></use></svg></label><input id='data-7e92e26b-af45-4e9e-b3a8-8da753ced94c' class='xr-var-data-in' type='checkbox'><label for='data-7e92e26b-af45-4e9e-b3a8-8da753ced94c' title='Show/Hide data repr'><svg class='icon xr-icon-database'><use xlink:href='#icon-database'></use></svg></label><div class='xr-var-attrs'><dl class='xr-attrs'><dt><span>units :</span></dt><dd>degrees_north</dd><dt><span>standard_name :</span></dt><dd>latitude</dd><dt><span>long_name :</span></dt><dd>latitude</dd><dt><span>_metpy_axis :</span></dt><dd>latitude</dd></dl></div><div class='xr-var-data'><pre>array([41.87656533, 41.71461081, 41.79498034])</pre></div></li><li class='xr-var-item'><div class='xr-var-name'><span>longitude</span></div><div class='xr-var-dims'>(point)</div><div class='xr-var-dtype'>float64</div><div class='xr-var-preview xr-preview'>272.4 272.0 272.0</div><input id='attrs-2df0afbf-7d01-40e1-bbe9-056942967e06' class='xr-var-attrs-in' type='checkbox' ><label for='attrs-2df0afbf-7d01-40e1-bbe9-056942967e06' title='Show/Hide attributes'><svg class='icon xr-icon-file-text2'><use xlink:href='#icon-file-text2'></use></svg></label><input id='data-f370ecfb-6374-4305-96e9-c1fb16f9ce65' class='xr-var-data-in' type='checkbox'><label for='data-f370ecfb-6374-4305-96e9-c1fb16f9ce65' title='Show/Hide data repr'><svg class='icon xr-icon-database'><use xlink:href='#icon-database'></use></svg></label><div class='xr-var-attrs'><dl class='xr-attrs'><dt><span>units :</span></dt><dd>degrees_east</dd><dt><span>standard_name :</span></dt><dd>longitude</dd><dt><span>long_name :</span></dt><dd>longitude</dd><dt><span>_metpy_axis :</span></dt><dd>longitude</dd></dl></div><div class='xr-var-data'><pre>array([272.38694404, 272.03697798, 272.04818795])</pre></div></li><li class='xr-var-item'><div class='xr-var-name'><span>valid_time</span></div><div class='xr-var-dims'>(step)</div><div class='xr-var-dtype'>datetime64[ns]</div><div class='xr-var-preview xr-preview'>2023-01-15T13:00:00 ... 2023-01-...</div><input id='attrs-e4616cc8-f8d7-41ac-b46b-d77c6b2335b8' class='xr-var-attrs-in' type='checkbox' ><label for='attrs-e4616cc8-f8d7-41ac-b46b-d77c6b2335b8' title='Show/Hide attributes'><svg class='icon xr-icon-file-text2'><use xlink:href='#icon-file-text2'></use></svg></label><input id='data-688dd0df-04aa-427b-bd16-972a387566ca' class='xr-var-data-in' type='checkbox'><label for='data-688dd0df-04aa-427b-bd16-972a387566ca' title='Show/Hide data repr'><svg class='icon xr-icon-database'><use xlink:href='#icon-database'></use></svg></label><div class='xr-var-attrs'><dl class='xr-attrs'><dt><span>standard_name :</span></dt><dd>time</dd><dt><span>long_name :</span></dt><dd>time</dd></dl></div><div class='xr-var-data'><pre>array([&#x27;2023-01-15T13:00:00.000000000&#x27;, &#x27;2023-01-15T14:00:00.000000000&#x27;,\n",
       "       &#x27;2023-01-15T15:00:00.000000000&#x27;, &#x27;2023-01-15T16:00:00.000000000&#x27;,\n",
       "       &#x27;2023-01-15T17:00:00.000000000&#x27;, &#x27;2023-01-15T18:00:00.000000000&#x27;,\n",
       "       &#x27;2023-01-15T19:00:00.000000000&#x27;, &#x27;2023-01-15T20:00:00.000000000&#x27;,\n",
       "       &#x27;2023-01-15T21:00:00.000000000&#x27;, &#x27;2023-01-15T22:00:00.000000000&#x27;,\n",
       "       &#x27;2023-01-15T23:00:00.000000000&#x27;, &#x27;2023-01-16T00:00:00.000000000&#x27;,\n",
       "       &#x27;2023-01-16T01:00:00.000000000&#x27;, &#x27;2023-01-16T02:00:00.000000000&#x27;,\n",
       "       &#x27;2023-01-16T03:00:00.000000000&#x27;, &#x27;2023-01-16T04:00:00.000000000&#x27;,\n",
       "       &#x27;2023-01-16T05:00:00.000000000&#x27;, &#x27;2023-01-16T06:00:00.000000000&#x27;,\n",
       "       &#x27;2023-01-16T07:00:00.000000000&#x27;, &#x27;2023-01-16T08:00:00.000000000&#x27;,\n",
       "       &#x27;2023-01-16T09:00:00.000000000&#x27;, &#x27;2023-01-16T10:00:00.000000000&#x27;,\n",
       "       &#x27;2023-01-16T11:00:00.000000000&#x27;, &#x27;2023-01-16T12:00:00.000000000&#x27;,\n",
       "       &#x27;2023-01-16T13:00:00.000000000&#x27;, &#x27;2023-01-16T14:00:00.000000000&#x27;,\n",
       "       &#x27;2023-01-16T15:00:00.000000000&#x27;, &#x27;2023-01-16T16:00:00.000000000&#x27;,\n",
       "       &#x27;2023-01-16T17:00:00.000000000&#x27;, &#x27;2023-01-16T18:00:00.000000000&#x27;,\n",
       "       &#x27;2023-01-16T19:00:00.000000000&#x27;, &#x27;2023-01-16T20:00:00.000000000&#x27;,\n",
       "       &#x27;2023-01-16T21:00:00.000000000&#x27;, &#x27;2023-01-16T22:00:00.000000000&#x27;,\n",
       "       &#x27;2023-01-16T23:00:00.000000000&#x27;, &#x27;2023-01-17T00:00:00.000000000&#x27;,\n",
       "       &#x27;2023-01-17T01:00:00.000000000&#x27;, &#x27;2023-01-17T02:00:00.000000000&#x27;,\n",
       "       &#x27;2023-01-17T03:00:00.000000000&#x27;, &#x27;2023-01-17T04:00:00.000000000&#x27;,\n",
       "       &#x27;2023-01-17T05:00:00.000000000&#x27;, &#x27;2023-01-17T06:00:00.000000000&#x27;,\n",
       "       &#x27;2023-01-17T07:00:00.000000000&#x27;, &#x27;2023-01-17T08:00:00.000000000&#x27;,\n",
       "       &#x27;2023-01-17T09:00:00.000000000&#x27;, &#x27;2023-01-17T10:00:00.000000000&#x27;],\n",
       "      dtype=&#x27;datetime64[ns]&#x27;)</pre></div></li><li class='xr-var-item'><div class='xr-var-name'><span>metpy_crs</span></div><div class='xr-var-dims'>()</div><div class='xr-var-dtype'>object</div><div class='xr-var-preview xr-preview'>Projection: lambert_conformal_conic</div><input id='attrs-05be10e1-f46c-4bfe-975f-dc7425c86dd2' class='xr-var-attrs-in' type='checkbox' disabled><label for='attrs-05be10e1-f46c-4bfe-975f-dc7425c86dd2' title='Show/Hide attributes'><svg class='icon xr-icon-file-text2'><use xlink:href='#icon-file-text2'></use></svg></label><input id='data-71369e4e-7192-4362-8c39-1a80ae9cb253' class='xr-var-data-in' type='checkbox'><label for='data-71369e4e-7192-4362-8c39-1a80ae9cb253' title='Show/Hide data repr'><svg class='icon xr-icon-database'><use xlink:href='#icon-database'></use></svg></label><div class='xr-var-attrs'><dl class='xr-attrs'></dl></div><div class='xr-var-data'><pre>array(&lt;metpy.plots.mapping.CFProjection object at 0x19e3e9bd0&gt;,\n",
       "      dtype=object)</pre></div></li><li class='xr-var-item'><div class='xr-var-name'><span>y</span></div><div class='xr-var-dims'>(point)</div><div class='xr-var-dtype'>float64</div><div class='xr-var-preview xr-preview'>4.197e+05 3.987e+05 4.077e+05</div><input id='attrs-549c6c41-2e71-4ba9-88b0-ab463ac0a0d6' class='xr-var-attrs-in' type='checkbox' ><label for='attrs-549c6c41-2e71-4ba9-88b0-ab463ac0a0d6' title='Show/Hide attributes'><svg class='icon xr-icon-file-text2'><use xlink:href='#icon-file-text2'></use></svg></label><input id='data-baead225-d226-4d58-9bfb-00f3861b5df1' class='xr-var-data-in' type='checkbox'><label for='data-baead225-d226-4d58-9bfb-00f3861b5df1' title='Show/Hide data repr'><svg class='icon xr-icon-database'><use xlink:href='#icon-database'></use></svg></label><div class='xr-var-attrs'><dl class='xr-attrs'><dt><span>units :</span></dt><dd>meter</dd><dt><span>standard_name :</span></dt><dd>projection_y_coordinate</dd></dl></div><div class='xr-var-data'><pre>array([419693.84744334, 398693.84744334, 407693.84744334])</pre></div></li><li class='xr-var-item'><div class='xr-var-name'><span>x</span></div><div class='xr-var-dims'>(point)</div><div class='xr-var-dtype'>float64</div><div class='xr-var-preview xr-preview'>8.185e+05 7.915e+05 7.915e+05</div><input id='attrs-9ff9c8f6-110d-4927-bb9c-697ac9bede9f' class='xr-var-attrs-in' type='checkbox' ><label for='attrs-9ff9c8f6-110d-4927-bb9c-697ac9bede9f' title='Show/Hide attributes'><svg class='icon xr-icon-file-text2'><use xlink:href='#icon-file-text2'></use></svg></label><input id='data-0f747e97-64b0-4b11-a3de-117d1169dd13' class='xr-var-data-in' type='checkbox'><label for='data-0f747e97-64b0-4b11-a3de-117d1169dd13' title='Show/Hide data repr'><svg class='icon xr-icon-database'><use xlink:href='#icon-database'></use></svg></label><div class='xr-var-attrs'><dl class='xr-attrs'><dt><span>units :</span></dt><dd>meter</dd><dt><span>standard_name :</span></dt><dd>projection_x_coordinate</dd></dl></div><div class='xr-var-data'><pre>array([818479.85747807, 791479.85747807, 791479.85747807])</pre></div></li><li class='xr-var-item'><div class='xr-var-name'><span class='xr-has-index'>point</span></div><div class='xr-var-dims'>(point)</div><div class='xr-var-dtype'>&lt;U7</div><div class='xr-var-preview xr-preview'>&#x27;Chicago&#x27; &#x27;Argonne&#x27; &#x27;Barn&#x27;</div><input id='attrs-4f865f31-0469-444e-a0a3-054fd2194480' class='xr-var-attrs-in' type='checkbox' disabled><label for='attrs-4f865f31-0469-444e-a0a3-054fd2194480' title='Show/Hide attributes'><svg class='icon xr-icon-file-text2'><use xlink:href='#icon-file-text2'></use></svg></label><input id='data-c7463ed0-4cf2-4589-a460-dfc581096716' class='xr-var-data-in' type='checkbox'><label for='data-c7463ed0-4cf2-4589-a460-dfc581096716' title='Show/Hide data repr'><svg class='icon xr-icon-database'><use xlink:href='#icon-database'></use></svg></label><div class='xr-var-attrs'><dl class='xr-attrs'></dl></div><div class='xr-var-data'><pre>array([&#x27;Chicago&#x27;, &#x27;Argonne&#x27;, &#x27;Barn&#x27;], dtype=&#x27;&lt;U7&#x27;)</pre></div></li></ul></div></li><li class='xr-section-item'><input id='section-8de39120-94c8-4ec2-8126-6ac85092da79' class='xr-section-summary-in' type='checkbox'  checked><label for='section-8de39120-94c8-4ec2-8126-6ac85092da79' class='xr-section-summary' >Data variables: <span>(2)</span></label><div class='xr-section-inline-details'></div><div class='xr-section-details'><ul class='xr-var-list'><li class='xr-var-item'><div class='xr-var-name'><span>tp</span></div><div class='xr-var-dims'>(point, step)</div><div class='xr-var-dtype'>float32</div><div class='xr-var-preview xr-preview'>0.0 0.0 0.0 0.0 ... 0.0 0.013 0.0</div><input id='attrs-63b831d8-82d4-4cc8-b7aa-e7baabac106b' class='xr-var-attrs-in' type='checkbox' ><label for='attrs-63b831d8-82d4-4cc8-b7aa-e7baabac106b' title='Show/Hide attributes'><svg class='icon xr-icon-file-text2'><use xlink:href='#icon-file-text2'></use></svg></label><input id='data-bb6718de-36dc-4a65-a7e4-557777eb019c' class='xr-var-data-in' type='checkbox'><label for='data-bb6718de-36dc-4a65-a7e4-557777eb019c' title='Show/Hide data repr'><svg class='icon xr-icon-database'><use xlink:href='#icon-database'></use></svg></label><div class='xr-var-attrs'><dl class='xr-attrs'><dt><span>GRIB_paramId :</span></dt><dd>228228</dd><dt><span>GRIB_dataType :</span></dt><dd>fc</dd><dt><span>GRIB_numberOfPoints :</span></dt><dd>1905141</dd><dt><span>GRIB_typeOfLevel :</span></dt><dd>surface</dd><dt><span>GRIB_stepUnits :</span></dt><dd>1</dd><dt><span>GRIB_stepType :</span></dt><dd>accum</dd><dt><span>GRIB_gridType :</span></dt><dd>lambert</dd><dt><span>GRIB_DxInMetres :</span></dt><dd>3000.0</dd><dt><span>GRIB_DyInMetres :</span></dt><dd>3000.0</dd><dt><span>GRIB_LaDInDegrees :</span></dt><dd>38.5</dd><dt><span>GRIB_Latin1InDegrees :</span></dt><dd>38.5</dd><dt><span>GRIB_Latin2InDegrees :</span></dt><dd>38.5</dd><dt><span>GRIB_LoVInDegrees :</span></dt><dd>262.5</dd><dt><span>GRIB_NV :</span></dt><dd>0</dd><dt><span>GRIB_Nx :</span></dt><dd>1799</dd><dt><span>GRIB_Ny :</span></dt><dd>1059</dd><dt><span>GRIB_cfName :</span></dt><dd>unknown</dd><dt><span>GRIB_cfVarName :</span></dt><dd>unknown</dd><dt><span>GRIB_gridDefinitionDescription :</span></dt><dd>Lambert Conformal can be secant or tangent, conical or bipolar</dd><dt><span>GRIB_iScansNegatively :</span></dt><dd>0</dd><dt><span>GRIB_jPointsAreConsecutive :</span></dt><dd>0</dd><dt><span>GRIB_jScansPositively :</span></dt><dd>1</dd><dt><span>GRIB_latitudeOfFirstGridPointInDegrees :</span></dt><dd>21.138123</dd><dt><span>GRIB_latitudeOfSouthernPoleInDegrees :</span></dt><dd>0.0</dd><dt><span>GRIB_longitudeOfFirstGridPointInDegrees :</span></dt><dd>237.280472</dd><dt><span>GRIB_longitudeOfSouthernPoleInDegrees :</span></dt><dd>0.0</dd><dt><span>GRIB_missingValue :</span></dt><dd>3.4028234663852886e+38</dd><dt><span>GRIB_name :</span></dt><dd>Total Precipitation</dd><dt><span>GRIB_parameterName :</span></dt><dd>Total precipitation</dd><dt><span>GRIB_parameterUnits :</span></dt><dd>kg m-2</dd><dt><span>GRIB_shortName :</span></dt><dd>tp</dd><dt><span>GRIB_units :</span></dt><dd>kg m**-2</dd><dt><span>long_name :</span></dt><dd>Total Precipitation</dd><dt><span>units :</span></dt><dd>kg m**-2</dd><dt><span>standard_name :</span></dt><dd>unknown</dd><dt><span>grid_mapping :</span></dt><dd>gribfile_projection</dd></dl></div><div class='xr-var-data'><pre>array([[0.000e+00, 0.000e+00, 0.000e+00, 0.000e+00, 0.000e+00, 0.000e+00,\n",
       "        0.000e+00, 0.000e+00, 0.000e+00, 0.000e+00, 0.000e+00, 0.000e+00,\n",
       "        0.000e+00, 0.000e+00, 0.000e+00, 0.000e+00, 0.000e+00, 0.000e+00,\n",
       "        0.000e+00, 0.000e+00, 0.000e+00, 0.000e+00, 0.000e+00, 0.000e+00,\n",
       "        0.000e+00, 1.000e-03, 3.400e-02, 7.790e-01, 7.700e-01, 8.170e-01,\n",
       "        2.100e-01, 9.240e-01, 1.660e+00, 5.700e-02, 2.000e-03, 7.000e-03,\n",
       "        0.000e+00, 0.000e+00, 3.500e-02, 7.510e-01, 6.000e-03, 0.000e+00,\n",
       "        0.000e+00, 1.000e-03, 7.000e-03, 1.000e-03],\n",
       "       [0.000e+00, 0.000e+00, 0.000e+00, 0.000e+00, 0.000e+00, 0.000e+00,\n",
       "        0.000e+00, 0.000e+00, 0.000e+00, 0.000e+00, 0.000e+00, 0.000e+00,\n",
       "        0.000e+00, 0.000e+00, 0.000e+00, 0.000e+00, 0.000e+00, 0.000e+00,\n",
       "        0.000e+00, 0.000e+00, 0.000e+00, 0.000e+00, 0.000e+00, 0.000e+00,\n",
       "        0.000e+00, 2.900e-02, 9.220e-01, 1.174e+00, 6.760e-01, 7.730e-01,\n",
       "        6.530e-01, 2.528e+00, 9.250e-01, 7.000e-03, 6.900e-02, 1.000e-03,\n",
       "        0.000e+00, 0.000e+00, 4.600e-02, 7.520e-01, 0.000e+00, 0.000e+00,\n",
       "        1.000e-03, 0.000e+00, 2.200e-02, 0.000e+00],\n",
       "       [0.000e+00, 0.000e+00, 0.000e+00, 0.000e+00, 0.000e+00, 0.000e+00,\n",
       "        0.000e+00, 0.000e+00, 0.000e+00, 0.000e+00, 0.000e+00, 0.000e+00,\n",
       "        0.000e+00, 0.000e+00, 0.000e+00, 0.000e+00, 0.000e+00, 0.000e+00,\n",
       "        0.000e+00, 0.000e+00, 0.000e+00, 0.000e+00, 0.000e+00, 0.000e+00,\n",
       "        0.000e+00, 1.900e-02, 1.107e+00, 1.335e+00, 9.250e-01, 8.560e-01,\n",
       "        4.640e-01, 2.692e+00, 9.090e-01, 1.700e-02, 7.000e-02, 2.800e-02,\n",
       "        0.000e+00, 0.000e+00, 1.900e-02, 1.400e-01, 0.000e+00, 0.000e+00,\n",
       "        2.000e-03, 0.000e+00, 1.300e-02, 0.000e+00]], dtype=float32)</pre></div></li><li class='xr-var-item'><div class='xr-var-name'><span>gribfile_projection</span></div><div class='xr-var-dims'>(point)</div><div class='xr-var-dtype'>object</div><div class='xr-var-preview xr-preview'>None None None</div><input id='attrs-35fab7f7-0817-4d18-8759-34669f6fdba0' class='xr-var-attrs-in' type='checkbox' ><label for='attrs-35fab7f7-0817-4d18-8759-34669f6fdba0' title='Show/Hide attributes'><svg class='icon xr-icon-file-text2'><use xlink:href='#icon-file-text2'></use></svg></label><input id='data-45c84bf6-fb34-4a08-ac0c-4e4d1b22b657' class='xr-var-data-in' type='checkbox'><label for='data-45c84bf6-fb34-4a08-ac0c-4e4d1b22b657' title='Show/Hide data repr'><svg class='icon xr-icon-database'><use xlink:href='#icon-database'></use></svg></label><div class='xr-var-attrs'><dl class='xr-attrs'><dt><span>crs_wkt :</span></dt><dd>PROJCRS[&quot;unknown&quot;,BASEGEOGCRS[&quot;unknown&quot;,DATUM[&quot;unknown&quot;,ELLIPSOID[&quot;unknown&quot;,6371229,0,LENGTHUNIT[&quot;metre&quot;,1,ID[&quot;EPSG&quot;,9001]]]],PRIMEM[&quot;Greenwich&quot;,0,ANGLEUNIT[&quot;degree&quot;,0.0174532925199433],ID[&quot;EPSG&quot;,8901]]],CONVERSION[&quot;unknown&quot;,METHOD[&quot;Lambert Conic Conformal (2SP)&quot;,ID[&quot;EPSG&quot;,9802]],PARAMETER[&quot;Latitude of false origin&quot;,38.5,ANGLEUNIT[&quot;degree&quot;,0.0174532925199433],ID[&quot;EPSG&quot;,8821]],PARAMETER[&quot;Longitude of false origin&quot;,262.5,ANGLEUNIT[&quot;degree&quot;,0.0174532925199433],ID[&quot;EPSG&quot;,8822]],PARAMETER[&quot;Latitude of 1st standard parallel&quot;,38.5,ANGLEUNIT[&quot;degree&quot;,0.0174532925199433],ID[&quot;EPSG&quot;,8823]],PARAMETER[&quot;Latitude of 2nd standard parallel&quot;,38.5,ANGLEUNIT[&quot;degree&quot;,0.0174532925199433],ID[&quot;EPSG&quot;,8824]],PARAMETER[&quot;Easting at false origin&quot;,0,LENGTHUNIT[&quot;metre&quot;,1],ID[&quot;EPSG&quot;,8826]],PARAMETER[&quot;Northing at false origin&quot;,0,LENGTHUNIT[&quot;metre&quot;,1],ID[&quot;EPSG&quot;,8827]]],CS[Cartesian,2],AXIS[&quot;(E)&quot;,east,ORDER[1],LENGTHUNIT[&quot;metre&quot;,1,ID[&quot;EPSG&quot;,9001]]],AXIS[&quot;(N)&quot;,north,ORDER[2],LENGTHUNIT[&quot;metre&quot;,1,ID[&quot;EPSG&quot;,9001]]]]</dd><dt><span>semi_major_axis :</span></dt><dd>6371229.0</dd><dt><span>semi_minor_axis :</span></dt><dd>6371229.0</dd><dt><span>inverse_flattening :</span></dt><dd>0.0</dd><dt><span>reference_ellipsoid_name :</span></dt><dd>unknown</dd><dt><span>longitude_of_prime_meridian :</span></dt><dd>0.0</dd><dt><span>prime_meridian_name :</span></dt><dd>Greenwich</dd><dt><span>geographic_crs_name :</span></dt><dd>unknown</dd><dt><span>horizontal_datum_name :</span></dt><dd>unknown</dd><dt><span>projected_crs_name :</span></dt><dd>unknown</dd><dt><span>grid_mapping_name :</span></dt><dd>lambert_conformal_conic</dd><dt><span>standard_parallel :</span></dt><dd>(38.5, 38.5)</dd><dt><span>latitude_of_projection_origin :</span></dt><dd>38.5</dd><dt><span>longitude_of_central_meridian :</span></dt><dd>262.5</dd><dt><span>false_easting :</span></dt><dd>0.0</dd><dt><span>false_northing :</span></dt><dd>0.0</dd><dt><span>long_name :</span></dt><dd>HRRR model grid projection</dd></dl></div><div class='xr-var-data'><pre>array([None, None, None], dtype=object)</pre></div></li></ul></div></li><li class='xr-section-item'><input id='section-356e04fa-e536-4a9f-8efa-2d07d6c55f80' class='xr-section-summary-in' type='checkbox'  ><label for='section-356e04fa-e536-4a9f-8efa-2d07d6c55f80' class='xr-section-summary' >Indexes: <span>(2)</span></label><div class='xr-section-inline-details'></div><div class='xr-section-details'><ul class='xr-var-list'><li class='xr-var-item'><div class='xr-index-name'><div>step</div></div><div class='xr-index-preview'>PandasIndex</div><div></div><input id='index-4e0ff32c-6103-42ce-955d-f1753d562975' class='xr-index-data-in' type='checkbox'/><label for='index-4e0ff32c-6103-42ce-955d-f1753d562975' title='Show/Hide index repr'><svg class='icon xr-icon-database'><use xlink:href='#icon-database'></use></svg></label><div class='xr-index-data'><pre>PandasIndex(TimedeltaIndex([&#x27;0 days 01:00:00&#x27;, &#x27;0 days 02:00:00&#x27;, &#x27;0 days 03:00:00&#x27;,\n",
       "                &#x27;0 days 04:00:00&#x27;, &#x27;0 days 05:00:00&#x27;, &#x27;0 days 06:00:00&#x27;,\n",
       "                &#x27;0 days 07:00:00&#x27;, &#x27;0 days 08:00:00&#x27;, &#x27;0 days 09:00:00&#x27;,\n",
       "                &#x27;0 days 10:00:00&#x27;, &#x27;0 days 11:00:00&#x27;, &#x27;0 days 12:00:00&#x27;,\n",
       "                &#x27;0 days 13:00:00&#x27;, &#x27;0 days 14:00:00&#x27;, &#x27;0 days 15:00:00&#x27;,\n",
       "                &#x27;0 days 16:00:00&#x27;, &#x27;0 days 17:00:00&#x27;, &#x27;0 days 18:00:00&#x27;,\n",
       "                &#x27;0 days 19:00:00&#x27;, &#x27;0 days 20:00:00&#x27;, &#x27;0 days 21:00:00&#x27;,\n",
       "                &#x27;0 days 22:00:00&#x27;, &#x27;0 days 23:00:00&#x27;, &#x27;1 days 00:00:00&#x27;,\n",
       "                &#x27;1 days 01:00:00&#x27;, &#x27;1 days 02:00:00&#x27;, &#x27;1 days 03:00:00&#x27;,\n",
       "                &#x27;1 days 04:00:00&#x27;, &#x27;1 days 05:00:00&#x27;, &#x27;1 days 06:00:00&#x27;,\n",
       "                &#x27;1 days 07:00:00&#x27;, &#x27;1 days 08:00:00&#x27;, &#x27;1 days 09:00:00&#x27;,\n",
       "                &#x27;1 days 10:00:00&#x27;, &#x27;1 days 11:00:00&#x27;, &#x27;1 days 12:00:00&#x27;,\n",
       "                &#x27;1 days 13:00:00&#x27;, &#x27;1 days 14:00:00&#x27;, &#x27;1 days 15:00:00&#x27;,\n",
       "                &#x27;1 days 16:00:00&#x27;, &#x27;1 days 17:00:00&#x27;, &#x27;1 days 18:00:00&#x27;,\n",
       "                &#x27;1 days 19:00:00&#x27;, &#x27;1 days 20:00:00&#x27;, &#x27;1 days 21:00:00&#x27;,\n",
       "                &#x27;1 days 22:00:00&#x27;],\n",
       "               dtype=&#x27;timedelta64[ns]&#x27;, name=&#x27;step&#x27;, freq=None))</pre></div></li><li class='xr-var-item'><div class='xr-index-name'><div>point</div></div><div class='xr-index-preview'>PandasIndex</div><div></div><input id='index-549d92ef-d41e-4631-9482-1c1b3dc44287' class='xr-index-data-in' type='checkbox'/><label for='index-549d92ef-d41e-4631-9482-1c1b3dc44287' title='Show/Hide index repr'><svg class='icon xr-icon-database'><use xlink:href='#icon-database'></use></svg></label><div class='xr-index-data'><pre>PandasIndex(Index([&#x27;Chicago&#x27;, &#x27;Argonne&#x27;, &#x27;Barn&#x27;], dtype=&#x27;object&#x27;, name=&#x27;point&#x27;))</pre></div></li></ul></div></li><li class='xr-section-item'><input id='section-5d448c34-aed0-4859-ab13-5376bbf8d5bf' class='xr-section-summary-in' type='checkbox'  ><label for='section-5d448c34-aed0-4859-ab13-5376bbf8d5bf' class='xr-section-summary' >Attributes: <span>(10)</span></label><div class='xr-section-inline-details'></div><div class='xr-section-details'><dl class='xr-attrs'><dt><span>GRIB_edition :</span></dt><dd>2</dd><dt><span>GRIB_centre :</span></dt><dd>kwbc</dd><dt><span>GRIB_centreDescription :</span></dt><dd>US National Weather Service - NCEP</dd><dt><span>GRIB_subCentre :</span></dt><dd>0</dd><dt><span>Conventions :</span></dt><dd>CF-1.7</dd><dt><span>institution :</span></dt><dd>US National Weather Service - NCEP</dd><dt><span>model :</span></dt><dd>hrrr</dd><dt><span>product :</span></dt><dd>sfc</dd><dt><span>description :</span></dt><dd>High-Resolution Rapid Refresh - CONUS</dd><dt><span>searchString :</span></dt><dd>(:APCP:surface:0-1 h*|:APCP:surface:1-2 h*|:APCP:surface:2-3 h*|:APCP:surface:3-4 h*|:APCP:surface:4-5 h*|:APCP:surface:5-6 h*|:APCP:surface:6-7 h*|:APCP:surface:7-8 h*|:APCP:surface:8-9 h*|:APCP:surface:9-10 h*|:APCP:surface:10-11 h*|:APCP:surface:11-12 h*|:APCP:surface:12-13 h*|:APCP:surface:13-14 h*|:APCP:surface:14-15 h*|:APCP:surface:15-16 h*|:APCP:surface:16-17 h*|:APCP:surface:17-18 h*|:APCP:surface:18-19 h*|:APCP:surface:19-20 h*|:APCP:surface:20-21 h*|:APCP:surface:21-22 h*|:APCP:surface:22-23 h*|:APCP:surface:23-24 h*|:APCP:surface:24-25 h*|:APCP:surface:25-26 h*|:APCP:surface:26-27 h*|:APCP:surface:27-28 h*|:APCP:surface:28-29 h*|:APCP:surface:29-30 h*|:APCP:surface:30-31 h*|:APCP:surface:31-32 h*|:APCP:surface:32-33 h*|:APCP:surface:33-34 h*|:APCP:surface:34-35 h*|:APCP:surface:35-36 h*|:APCP:surface:36-37 h*|:APCP:surface:37-38 h*|:APCP:surface:38-39 h*|:APCP:surface:39-40 h*|:APCP:surface:40-41 h*|:APCP:surface:41-42 h*|:APCP:surface:42-43 h*|:APCP:surface:43-44 h*|:APCP:surface:44-45 h*|:APCP:surface:45-46 h*|:APCP:surface:46-47 h*)</dd></dl></div></li></ul></div></div>"
      ],
      "text/plain": [
       "<xarray.Dataset>\n",
       "Dimensions:              (step: 46, point: 3)\n",
       "Coordinates:\n",
       "    time                 datetime64[ns] 2023-01-15T12:00:00\n",
       "  * step                 (step) timedelta64[ns] 01:00:00 ... 1 days 22:00:00\n",
       "    surface              float64 0.0\n",
       "    latitude             (point) float64 41.88 41.71 41.79\n",
       "    longitude            (point) float64 272.4 272.0 272.0\n",
       "    valid_time           (step) datetime64[ns] 2023-01-15T13:00:00 ... 2023-0...\n",
       "    metpy_crs            object Projection: lambert_conformal_conic\n",
       "    y                    (point) float64 4.197e+05 3.987e+05 4.077e+05\n",
       "    x                    (point) float64 8.185e+05 7.915e+05 7.915e+05\n",
       "  * point                (point) <U7 'Chicago' 'Argonne' 'Barn'\n",
       "Data variables:\n",
       "    tp                   (point, step) float32 0.0 0.0 0.0 0.0 ... 0.0 0.013 0.0\n",
       "    gribfile_projection  (point) object None None None\n",
       "Attributes:\n",
       "    GRIB_edition:            2\n",
       "    GRIB_centre:             kwbc\n",
       "    GRIB_centreDescription:  US National Weather Service - NCEP\n",
       "    GRIB_subCentre:          0\n",
       "    Conventions:             CF-1.7\n",
       "    institution:             US National Weather Service - NCEP\n",
       "    model:                   hrrr\n",
       "    product:                 sfc\n",
       "    description:             High-Resolution Rapid Refresh - CONUS\n",
       "    searchString:            (:APCP:surface:0-1 h*|:APCP:surface:1-2 h*|:APCP..."
      ]
     },
     "execution_count": 155,
     "metadata": {},
     "output_type": "execute_result"
    }
   ],
   "source": [
    "dsi = ds.herbie.nearest_points([(-87.6298, 41.8781), (-87.9789, 41.7183), (-87.9646831, 41.8031498)], \n",
    "                               names=[\"Chicago\", \"Argonne\", \"Barn\"])\n",
    "dsi"
   ]
  },
  {
   "cell_type": "code",
   "execution_count": 157,
   "id": "a9032a55",
   "metadata": {},
   "outputs": [
    {
     "data": {
      "text/plain": [
       "<matplotlib.legend.Legend at 0x19e4206d0>"
      ]
     },
     "execution_count": 157,
     "metadata": {},
     "output_type": "execute_result"
    },
    {
     "data": {
      "image/png": "[encoded data removed]",
      "text/plain": [
       "<Figure size 1500x800 with 1 Axes>"
      ]
     },
     "metadata": {},
     "output_type": "display_data"
    }
   ],
   "source": [
    "inches_per_mm = 0.0393701\n",
    "\n",
    "plt.figure(figsize=[15,8])\n",
    "(dsi.tp*inches_per_mm).isel(point=0).plot(color='blue', x=\"valid_time\", marker=\".\", label=dsi.point[0].values)\n",
    "(dsi.tp*inches_per_mm).isel(point=1).plot(color='purple', x=\"valid_time\", marker=\".\", label=dsi.point[1].values)\n",
    "(dsi.tp*inches_per_mm).isel(point=2).plot(color='red', x=\"valid_time\", marker=\".\", label=dsi.point[2].values)\n",
    "\n",
    "plt.grid()\n",
    "plt.ylabel('Rain Rate (in/hr)')\n",
    "plt.xlabel('Time and date (UTC)')\n",
    "plt.title('HRRR rain rate forecasts')\n",
    "\n",
    "\n",
    "plt.legend()"
   ]
  }
 ],
 "metadata": {
  "kernelspec": {
   "display_name": "Python 3 (ipykernel)",
   "language": "python",
   "name": "python3"
  },
  "language_info": {
   "codemirror_mode": {
    "name": "ipython",
    "version": 3
   },
   "file_extension": ".py",
   "mimetype": "text/x-python",
   "name": "python",
   "nbconvert_exporter": "python",
   "pygments_lexer": "ipython3",
   "version": "3.11.0"
  }
 },
 "nbformat": 4,
 "nbformat_minor": 5
}
