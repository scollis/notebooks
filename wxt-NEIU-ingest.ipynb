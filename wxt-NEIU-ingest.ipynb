{
 "cells": [
  {
   "cell_type": "code",
   "execution_count": 13,
   "id": "812b7cfd",
   "metadata": {},
   "outputs": [],
   "source": [
    "import sage_data_client\n",
    "import matplotlib.pyplot as plt\n",
    "import pandas as pd\n",
    "from metpy.calc import dewpoint_from_relative_humidity, wet_bulb_temperature\n",
    "from metpy.units import units\n",
    "from PIL import Image\n",
    "import numpy as np\n",
    "import datetime\n",
    "import xarray as xr\n",
    "\n",
    "from matplotlib.dates import DateFormatter"
   ]
  },
  {
   "cell_type": "code",
   "execution_count": 76,
   "id": "baadc2e0",
   "metadata": {},
   "outputs": [],
   "source": [
    "def ingest_wxt(st):\n",
    "    hours = 24\n",
    "    start = st.strftime('%Y-%m-%dT%H:%M:%SZ')\n",
    "    end = (st + datetime.timedelta(hours=hours)).strftime('%Y-%m-%dT%H:%M:%SZ')\n",
    "    print(start)\n",
    "    print(end)\n",
    "    df_temp = sage_data_client.query(start=start,\n",
    "                                     end=end, \n",
    "                                        filter={\n",
    "                                            \"name\" : 'wxt.env.temp|wxt.env.humidity|wxt.env.pressure|wxt.rain.accumulation',\n",
    "                                            \"plugin\" : \"registry.sagecontinuum.org/jrobrien/waggle-wxt536:0.23.5.*\",\n",
    "                                            \"vsn\" : \"W08D\",\n",
    "                                            \"sensor\" : \"vaisala-wxt536\"\n",
    "                                        }\n",
    "    )\n",
    "    winds = sage_data_client.query(start=start,\n",
    "                                     end=end, \n",
    "                                        filter={\n",
    "                                            \"name\" : 'wxt.wind.speed|wxt.wind.direction',\n",
    "                                            \"plugin\" : \"registry.sagecontinuum.org/jrobrien/waggle-wxt536:0.23.5.*\",\n",
    "                                            \"vsn\" : \"W08D\",\n",
    "                                            \"sensor\" : \"vaisala-wxt536\"\n",
    "                                        }\n",
    "    )\n",
    "    \n",
    "    hums = df_temp[df_temp['name']=='wxt.env.humidity']\n",
    "    temps = df_temp[df_temp['name']=='wxt.env.temp']\n",
    "    pres = df_temp[df_temp['name']=='wxt.env.pressure']\n",
    "    rain = df_temp[df_temp['name']=='wxt.rain.accumulation']\n",
    "\n",
    "\n",
    "    npres = len(pres)\n",
    "    nhum = len(hums)\n",
    "    ntemps = len(temps)\n",
    "    nrains = len(rain)\n",
    "    print(npres, nhum, ntemps, nrains)\n",
    "    minsamps = min([nhum, ntemps, npres, nrains])\n",
    "\n",
    "    temps['time'] = pd.DatetimeIndex(temps['timestamp'].values)\n",
    "\n",
    "    vals = temps.set_index('time')[0:minsamps]\n",
    "    vals['temperatures'] = vals.value.to_numpy()[0:minsamps]\n",
    "    vals['humidity'] = hums.value.to_numpy()[0:minsamps]\n",
    "    vals['pressure'] = pres.value.to_numpy()[0:minsamps]\n",
    "    vals['rainfall'] = rain.value.to_numpy()[0:minsamps]\n",
    "\n",
    "    direction = winds[winds['name']=='wxt.wind.direction']\n",
    "    speed = winds[winds['name']=='wxt.wind.speed']\n",
    "\n",
    "    nspeed = len(speed)\n",
    "    ndir = len(direction)\n",
    "    print(nspeed, ndir)\n",
    "    minsamps = min([nspeed, ndir])\n",
    "\n",
    "    speed['time'] = pd.DatetimeIndex(speed['timestamp'].values)\n",
    "    windy = speed.set_index('time')[0:minsamps]\n",
    "    windy['speed'] = windy.value.to_numpy()[0:minsamps]\n",
    "    windy['direction'] = direction.value.to_numpy()[0:minsamps]\n",
    "\n",
    "\n",
    "    winds10mean = windy.resample('10S').mean(numeric_only=True).ffill()\n",
    "    winds10max = windy.resample('10S').max(numeric_only=True).ffill()\n",
    "    dp = dewpoint_from_relative_humidity( vals.temperatures.to_numpy() * units.degC, \n",
    "                                         vals.humidity.to_numpy() * units.percent)\n",
    "\n",
    "    vals['dewpoint'] = dp\n",
    "    vals10 = vals.resample('10S').mean(numeric_only=True).ffill() #ffil gets rid of nans due to empty resample periods\n",
    "    wb = wet_bulb_temperature(vals10.pressure.to_numpy() * units.hPa,\n",
    "                              vals10.temperatures.to_numpy() * units.degC,\n",
    "                              vals10.dewpoint.to_numpy() * units.degC)\n",
    "\n",
    "    vals10['wetbulb'] = wb\n",
    "    vals10['wind_dir_10s'] = winds10mean['direction']\n",
    "    vals10['wind_mean_10s'] = winds10mean['speed']\n",
    "    vals10['wind_max_10s'] = winds10max['speed']\n",
    "    _ = vals10.pop('value')\n",
    "    fname = st.strftime('/Users/scollis/data/wxt/CMS_wxt536_NEIU_a1_%Y%m%d_%H%M%SZ.nc')\n",
    "    vals10xr = xr.Dataset.from_dataframe(vals10)\n",
    "    vals10xr.to_netcdf(fname)\n",
    "\n"
   ]
  },
  {
   "cell_type": "code",
   "execution_count": 77,
   "id": "fc913dfe",
   "metadata": {},
   "outputs": [
    {
     "name": "stdout",
     "output_type": "stream",
     "text": [
      "2023-05-30T00:00:00Z\n",
      "2023-05-31T00:00:00Z\n",
      "1053372 1053372 1053372 1053372\n"
     ]
    },
    {
     "name": "stderr",
     "output_type": "stream",
     "text": [
      "/var/folders/8_/6l9wr7s54bs85ldw43g4btbm0000gq/T/ipykernel_17256/3503573596.py:39: SettingWithCopyWarning: \n",
      "A value is trying to be set on a copy of a slice from a DataFrame.\n",
      "Try using .loc[row_indexer,col_indexer] = value instead\n",
      "\n",
      "See the caveats in the documentation: https://pandas.pydata.org/pandas-docs/stable/user_guide/indexing.html#returning-a-view-versus-a-copy\n",
      "  temps['time'] = pd.DatetimeIndex(temps['timestamp'].values)\n"
     ]
    },
    {
     "name": "stdout",
     "output_type": "stream",
     "text": [
      "1053372 1053372\n"
     ]
    },
    {
     "name": "stderr",
     "output_type": "stream",
     "text": [
      "/var/folders/8_/6l9wr7s54bs85ldw43g4btbm0000gq/T/ipykernel_17256/3503573596.py:55: SettingWithCopyWarning: \n",
      "A value is trying to be set on a copy of a slice from a DataFrame.\n",
      "Try using .loc[row_indexer,col_indexer] = value instead\n",
      "\n",
      "See the caveats in the documentation: https://pandas.pydata.org/pandas-docs/stable/user_guide/indexing.html#returning-a-view-versus-a-copy\n",
      "  speed['time'] = pd.DatetimeIndex(speed['timestamp'].values)\n"
     ]
    }
   ],
   "source": [
    "ingest_wxt(datetime.datetime(2023,5,30))"
   ]
  },
  {
   "cell_type": "code",
   "execution_count": null,
   "id": "7a4134e1",
   "metadata": {},
   "outputs": [],
   "source": [
    "ingest_wxt(datetime.datetime(2023,5,30))"
   ]
  },
  {
   "cell_type": "code",
   "execution_count": null,
   "id": "bb34b340",
   "metadata": {},
   "outputs": [
    {
     "name": "stdout",
     "output_type": "stream",
     "text": [
      "2023-05-19T00:00:00Z\n",
      "2023-05-20T00:00:00Z\n",
      "1051800 1051801 1051801 1051802\n"
     ]
    },
    {
     "name": "stderr",
     "output_type": "stream",
     "text": [
      "/var/folders/8_/6l9wr7s54bs85ldw43g4btbm0000gq/T/ipykernel_17256/3503573596.py:39: SettingWithCopyWarning: \n",
      "A value is trying to be set on a copy of a slice from a DataFrame.\n",
      "Try using .loc[row_indexer,col_indexer] = value instead\n",
      "\n",
      "See the caveats in the documentation: https://pandas.pydata.org/pandas-docs/stable/user_guide/indexing.html#returning-a-view-versus-a-copy\n",
      "  temps['time'] = pd.DatetimeIndex(temps['timestamp'].values)\n"
     ]
    },
    {
     "name": "stdout",
     "output_type": "stream",
     "text": [
      "1051801 1051803\n"
     ]
    },
    {
     "name": "stderr",
     "output_type": "stream",
     "text": [
      "/var/folders/8_/6l9wr7s54bs85ldw43g4btbm0000gq/T/ipykernel_17256/3503573596.py:55: SettingWithCopyWarning: \n",
      "A value is trying to be set on a copy of a slice from a DataFrame.\n",
      "Try using .loc[row_indexer,col_indexer] = value instead\n",
      "\n",
      "See the caveats in the documentation: https://pandas.pydata.org/pandas-docs/stable/user_guide/indexing.html#returning-a-view-versus-a-copy\n",
      "  speed['time'] = pd.DatetimeIndex(speed['timestamp'].values)\n"
     ]
    },
    {
     "name": "stdout",
     "output_type": "stream",
     "text": [
      "2023-05-18T00:00:00Z\n",
      "2023-05-19T00:00:00Z\n"
     ]
    }
   ],
   "source": [
    "ingest_wxt(datetime.datetime(2023,5,19))\n",
    "ingest_wxt(datetime.datetime(2023,5,18))\n",
    "ingest_wxt(datetime.datetime(2023,5,17))\n",
    "ingest_wxt(datetime.datetime(2023,5,16))\n",
    "\n"
   ]
  },
  {
   "cell_type": "code",
   "execution_count": null,
   "id": "29ce6033",
   "metadata": {},
   "outputs": [],
   "source": []
  }
 ],
 "metadata": {
  "kernelspec": {
   "display_name": "Python 3 (ipykernel)",
   "language": "python",
   "name": "python3"
  },
  "language_info": {
   "codemirror_mode": {
    "name": "ipython",
    "version": 3
   },
   "file_extension": ".py",
   "mimetype": "text/x-python",
   "name": "python",
   "nbconvert_exporter": "python",
   "pygments_lexer": "ipython3",
   "version": "3.11.0"
  }
 },
 "nbformat": 4,
 "nbformat_minor": 5
}
